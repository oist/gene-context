{
 "cells": [
  {
   "cell_type": "code",
   "execution_count": null,
   "id": "2c1b5bd8",
   "metadata": {},
   "outputs": [],
   "source": [
    "from sklearn.manifold import TSNE\n",
    "import matplotlib.pyplot as plt\n",
    "import pandas as pd\n",
    "import torch"
   ]
  },
  {
   "cell_type": "code",
   "execution_count": 20,
   "id": "64c5c259",
   "metadata": {},
   "outputs": [
    {
     "name": "stdout",
     "output_type": "stream",
     "text": [
      "Number of samples = 90445\n",
      "Number of COGs = 12873\n"
     ]
    }
   ],
   "source": [
    "train_feather_path = \"../../data/train_test_splits/cog_train_family_tax_level.feather\"\n",
    "test_feather_path = \"../../data/train_test_splits/cog_test_family_tax_level.feather\"\n",
    "\n",
    "train_df = pd.read_feather(train_feather_path)\n",
    "val_df = pd.read_feather(test_feather_path)\n",
    "\n",
    "train_values = train_df.iloc[:, 1:-13].values\n",
    "\n",
    "sample_names = train_df.iloc[:, 0].values\n",
    "cog_names = train_df.iloc[:, 1:-13].columns.tolist()\n",
    "print(f\"Number of samples = {len(sample_names)}\")\n",
    "print(f\"Number of COGs = {len(cog_names)}\")\n"
   ]
  },
  {
   "cell_type": "code",
   "execution_count": null,
   "id": "3c5c9af4",
   "metadata": {},
   "outputs": [],
   "source": [
    "# from cuml.manifold import TSNE  # GPU-accelerated TSNE from RAPIDS\n",
    "# import cupy as cp  # GPU array handling\n",
    "\n",
    "# # Convert your data to CuPy array (if not already on GPU)\n",
    "# train_values_gpu = cp.asarray(train_values)\n",
    "\n",
    "# # Run TSNE on GPU\n",
    "# tsne_bin = TSNE(n_components=2, random_state=4, perplexity=50, learning_rate=100, n_iter=5000)\n",
    "# bin_embeds_2d = tsne_bin.fit_transform(train_values_gpu)\n",
    "\n",
    "# # Convert result back to NumPy if needed\n",
    "# bin_embeds_2d = bin_embeds_2d.get()  # Moves data back to CPU\n"
   ]
  },
  {
   "cell_type": "code",
   "execution_count": null,
   "id": "6ebe97f2",
   "metadata": {},
   "outputs": [],
   "source": [
    "tsne_bin = TSNE(n_components=2, random_state=4, perplexity=50, learning_rate=100, max_iter=5000)\n",
    "bin_embeds_2d = tsne_bin.fit_transform(train_values)"
   ]
  }
 ],
 "metadata": {
  "kernelspec": {
   "display_name": "Python 3",
   "language": "python",
   "name": "python3"
  },
  "language_info": {
   "codemirror_mode": {
    "name": "ipython",
    "version": 3
   },
   "file_extension": ".py",
   "mimetype": "text/x-python",
   "name": "python",
   "nbconvert_exporter": "python",
   "pygments_lexer": "ipython3",
   "version": "3.12.7"
  }
 },
 "nbformat": 4,
 "nbformat_minor": 5
}
