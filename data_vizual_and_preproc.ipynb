{
 "cells": [
  {
   "cell_type": "code",
   "execution_count": 3,
   "id": "cb7cf1f1-44a6-4c69-8f96-a9074c4d9f91",
   "metadata": {},
   "outputs": [],
   "source": [
    "data_filename_train = 'data/all_gene_annotations.added_incompleteness_and_contamination.training.tsv'\n",
    "data_filename_test = \"data/all_gene_annotations.added_incompleteness_and_contamination.testing.tsv\"\n",
    "y_filename = \"data/bacdive_scrape_20230315.json.parsed.anaerobe_vs_aerobe.with_cyanos.csv\"\n"
   ]
  },
  {
   "cell_type": "code",
   "execution_count": 4,
   "id": "bfc303dc-797b-445d-b8a6-82740c7b817b",
   "metadata": {},
   "outputs": [
    {
     "name": "stdout",
     "output_type": "stream",
     "text": [
      "y name = data/bacdive_scrape_20230315.json.parsed.anaerobe_vs_aerobe.with_cyanos.csv\n",
      "Counts of each class in training/test data: shape: (2, 2)\n",
      "┌──────────────┬───────┐\n",
      "│ oxytolerance ┆ len   │\n",
      "│ ---          ┆ ---   │\n",
      "│ str          ┆ u32   │\n",
      "╞══════════════╪═══════╡\n",
      "│ aerobe       ┆ 58356 │\n",
      "│ anaerobe     ┆ 29808 │\n",
      "└──────────────┴───────┘\n",
      "Total number of genomes for training = 88164\n",
      "Percentage of aerobs in train dataset 0.66\n"
     ]
    }
   ],
   "source": [
    "from utils import read_xy_data\n",
    "\n",
    "d3_train, X_train, y_train = read_xy_data(data_filename_train, y_filename)\n",
    "num_aerobs_train = y_train['oxytolerance'].sum()\n",
    "num_anaerobs_train = len(y_train['oxytolerance']) - num_aerobs_train\n",
    "\n",
    "\n",
    "print(f\"Total number of genomes for training = {num_aerobs_train+num_anaerobs_train}\")\n",
    "print(f\"Percentage of aerobs in train dataset {round(num_aerobs_train/(num_aerobs_train + num_anaerobs_train), 2)}\")"
   ]
  },
  {
   "cell_type": "code",
   "execution_count": 5,
   "id": "4c04a056-0333-4b57-877f-282529dd0624",
   "metadata": {},
   "outputs": [
    {
     "name": "stdout",
     "output_type": "stream",
     "text": [
      "y name = data/bacdive_scrape_20230315.json.parsed.anaerobe_vs_aerobe.with_cyanos.csv\n",
      "Counts of each class in training/test data: shape: (2, 2)\n",
      "┌──────────────┬───────┐\n",
      "│ oxytolerance ┆ len   │\n",
      "│ ---          ┆ ---   │\n",
      "│ str          ┆ u32   │\n",
      "╞══════════════╪═══════╡\n",
      "│ aerobe       ┆ 17460 │\n",
      "│ anaerobe     ┆ 8172  │\n",
      "└──────────────┴───────┘\n",
      "Total number of genomes for testing = 25632\n",
      "Percentage of aerobs in test dataset 0.68\n"
     ]
    }
   ],
   "source": [
    "d3_test, X_test, y_test = read_xy_data(data_filename_test, y_filename)\n",
    "num_aerobs_test = y_test['oxytolerance'].sum()\n",
    "num_anaerobs_test = len(y_test['oxytolerance']) - num_aerobs_test\n",
    "\n",
    "print(f\"Total number of genomes for testing = {num_aerobs_test+num_anaerobs_test}\")\n",
    "print(f\"Percentage of aerobs in test dataset {round(num_aerobs_test/(num_aerobs_test + num_anaerobs_test), 2)}\")"
   ]
  },
  {
   "cell_type": "code",
   "execution_count": 6,
   "id": "bbea4858-6908-45f0-810d-55d8f9219d80",
   "metadata": {},
   "outputs": [],
   "source": [
    "import random \n",
    "import polars as pl\n",
    "\n",
    "\n",
    "random.seed(42)\n",
    "\n",
    "def table_row_subsampling(d3):\n",
    "\n",
    "    target_column = \"oxytolerance\"\n",
    "\n",
    "    d_gtdb = d3.to_pandas()\n",
    "    X = d3.select(pl.exclude([target_column,'phylum','class','order','family','genus'])).to_pandas()\n",
    "    \n",
    "\n",
    "    # Map oxytolerance to 0, 1, 2\n",
    "    if 'anaerobic_with_respiration_genes' in d3['oxytolerance'].to_list():\n",
    "        classes_map = {\n",
    "            'anaerobe': 0,\n",
    "            'aerobe': 1,\n",
    "            'anaerobic_with_respiration_genes': 2,\n",
    "        }\n",
    "    else:\n",
    "        classes_map = {\n",
    "            'anaerobe': 0,\n",
    "            'aerobe': 1,\n",
    "        }\n",
    "    \n",
    "    # Generate y vector with 0s, and 1s\n",
    "    y = d3.select(\n",
    "        pl.when(pl.col(target_column) == 'anaerobe').then(0)\n",
    "        .when(pl.col(target_column) == 'aerobe').then(1)\n",
    "        .when(pl.col(target_column) == 'anaerobic_with_respiration_genes').then(2)\n",
    "        .otherwise(None)  # Handle cases not in the map\n",
    "        .alias(target_column)\n",
    "    )\n",
    "    y = y.to_pandas()\n",
    "\n",
    "\n",
    "    \n",
    "    num_aerobs = y['oxytolerance'].sum()\n",
    "    num_anaerobs = len(y['oxytolerance']) - num_aerobs\n",
    "    \n",
    "    \n",
    "    # Sub-sampling training data\n",
    "    indices_aerobs = y[y['oxytolerance'] == 1].index.tolist()\n",
    "    indices_anaerobs = y[y['oxytolerance'] == 0].index.tolist()\n",
    "\n",
    "    if num_aerobs > num_anaerobs:\n",
    "        print(f\"Sub-sampling {num_aerobs} aerobs to {num_anaerobs} anaerobs\")\n",
    "        subsampled_aerobs = random.sample(indices_aerobs, num_anaerobs)\n",
    "        final_row_indices = subsampled_aerobs + indices_anaerobs\n",
    "    else:\n",
    "        print(f\"Sub-sampling {indices_anaerobs} aerobs to {num_aerobs} anaerobs\")\n",
    "        subsampled_anaerobs = random.sample(indices_anaerobs, num_aerobs)\n",
    "        final_row_indices = subsampled_anaerobs + indices_aerobs\n",
    "\n",
    "    X_subsampled = X.iloc[final_row_indices].reset_index(drop=True)\n",
    "    y_subsampled = y.iloc[final_row_indices].reset_index(drop=True)\n",
    "\n",
    "    print(f\"Sub-sampled table length = {len(y_subsampled)} with { y_subsampled['oxytolerance'].sum()} aerobs and  {len(y_subsampled['oxytolerance']) - y_subsampled['oxytolerance'].sum()} anaerobs\")\n",
    "    \n",
    "    return X_subsampled, y_subsampled"
   ]
  },
  {
   "cell_type": "code",
   "execution_count": 7,
   "id": "620ee1e4-c0e9-4ed3-9f53-1ded08752c92",
   "metadata": {},
   "outputs": [
    {
     "name": "stdout",
     "output_type": "stream",
     "text": [
      "Sub-sampling 58356 aerobs to 29808 anaerobs\n",
      "Sub-sampled table length = 59616 with 29808 aerobs and  29808 anaerobs\n"
     ]
    }
   ],
   "source": [
    "X_subsampled_train, y_subsampled_train = table_row_subsampling(d3_train)"
   ]
  },
  {
   "cell_type": "code",
   "execution_count": 8,
   "id": "15026351-70ee-45d4-a4cb-1e13cd9a4a9a",
   "metadata": {},
   "outputs": [
    {
     "name": "stdout",
     "output_type": "stream",
     "text": [
      "Sub-sampling 17460 aerobs to 8172 anaerobs\n",
      "Sub-sampled table length = 16344 with 8172 aerobs and  8172 anaerobs\n"
     ]
    }
   ],
   "source": [
    "X_subsampled_test, y_subsampled_test = table_row_subsampling(d3_test)"
   ]
  },
  {
   "cell_type": "code",
   "execution_count": 9,
   "id": "20a4d041-7722-4940-a51c-d1800e4e7394",
   "metadata": {},
   "outputs": [],
   "source": [
    "import pandas as pd\n",
    "\n",
    "df = pd.DataFrame(X_subsampled_train)\n",
    "filename = 'data/all_gene_annotations.added_incompleteness_and_contamination.subsampled.training.tsv'\n",
    "df.to_csv(filename, sep=\"\\t\", index=False)\n",
    "\n",
    "df = pd.DataFrame(X_subsampled_test)\n",
    "filename = 'data/all_gene_annotations.added_incompleteness_and_contamination.subsampled.testing.tsv'\n",
    "df.to_csv(filename, sep=\"\\t\", index=False)\n"
   ]
  },
  {
   "cell_type": "code",
   "execution_count": 10,
   "id": "7f8a71d1-5cfe-4f66-829c-d9e99e2cec57",
   "metadata": {},
   "outputs": [],
   "source": [
    "X_subsampled_test_val = X_subsampled_test.drop(['accession','false_negative_rate',\t'false_positive_rate'], axis = 1).values\n",
    "\n",
    "X_subsampled_test_val_scaled = []\n",
    "for row in X_subsampled_test_val:\n",
    "    row_sm = float(sum(row))\n",
    "    X_subsampled_test_val_scaled.append([float(row_i)/row_sm for row_i in row])\n"
   ]
  },
  {
   "cell_type": "code",
   "execution_count": null,
   "id": "c63fcebd-53ee-4dab-b313-96781aea593b",
   "metadata": {},
   "outputs": [
    {
     "name": "stdout",
     "output_type": "stream",
     "text": [
      "[[1 2 0 ... 0 0 0]\n",
      " [1 4 4 ... 1 2 0]\n",
      " [0 1 1 ... 0 0 0]\n",
      " ...\n",
      " [2 1 0 ... 0 1 0]\n",
      " [1 1 0 ... 2 0 0]\n",
      " [0 0 1 ... 1 2 0]]\n"
     ]
    }
   ],
   "source": [
    "print(X_subsampled_test_val)\n",
    "X_subsampled_train_val = X_subsampled_train.drop(['accession','false_negative_rate',\t'false_positive_rate'], axis = 1).values\n",
    "\n",
    "\n",
    "X_subsampled_train_val_scaled = []\n",
    "for row in X_subsampled_train_val:\n",
    "    row_sm = float(sum(row))\n",
    "    X_subsampled_train_val_scaled.append([float(row_i)/row_sm for row_i in row])\n",
    "\n",
    "X_subsampled_train_val_scaled = np.array(X_subsampled_train_val_scaled)\n",
    "    "
   ]
  },
  {
   "cell_type": "code",
   "execution_count": null,
   "id": "188dd4fd-61f1-42ee-be82-66f28b0a3900",
   "metadata": {},
   "outputs": [],
   "source": [
    "X_subsampled_train_val"
   ]
  },
  {
   "cell_type": "code",
   "execution_count": null,
   "id": "628cca0b-1c7f-4319-a4c7-878de3d5af13",
   "metadata": {},
   "outputs": [],
   "source": [
    "from sklearn.decomposition import PCA\n",
    "import matplotlib.pyplot as plt\n",
    "\n",
    "from matplotlib.colors import ListedColormap\n",
    "\n",
    "\n",
    "\n",
    "# Create a custom colormap\n",
    "colors = ListedColormap([\"tab:blue\", \"tab:red\"])\n",
    "\n",
    "\n",
    "pca = PCA(n_components=20)\n",
    "\n",
    "#print(X_test_reduc_dimens.shape)\n",
    "\n",
    "X_train_val = X_subsampled_train_val#.values\n",
    "y_train_val = y_subsampled_train.values\n",
    "\n",
    "X_train_pca = pca.fit_transform(X_train_val)\n",
    "\n",
    "print(f\"Data after PCA reduction: {X_train_pca.shape}\")\n",
    "\n",
    "plt.figure()\n",
    "\n",
    "color = [\"tab:blue\", \"tab:red\"]\n",
    "\n",
    "plt.scatter(X_train_pca[:, 0], X_train_pca[:, 1], c=y_train_val, alpha=0.3, s = 1, cmap=colors)\n",
    "\n",
    "\n",
    "explained_variance_ratio = pca.explained_variance_ratio_\n",
    "\n",
    "print(\"Explained variance ratio:\", explained_variance_ratio)\n",
    "print(\"Total explained variance:\", sum(explained_variance_ratio))\n"
   ]
  },
  {
   "cell_type": "code",
   "execution_count": 38,
   "id": "53ad38e9-aa9b-4803-8cc8-3aca55df5abb",
   "metadata": {},
   "outputs": [
    {
     "ename": "AttributeError",
     "evalue": "'list' object has no attribute 'shape'",
     "output_type": "error",
     "traceback": [
      "\u001b[1;31m---------------------------------------------------------------------------\u001b[0m",
      "\u001b[1;31mAttributeError\u001b[0m                            Traceback (most recent call last)",
      "Cell \u001b[1;32mIn[38], line 9\u001b[0m\n\u001b[0;32m      7\u001b[0m \u001b[38;5;66;03m# Initialize and apply t-SNE\u001b[39;00m\n\u001b[0;32m      8\u001b[0m tsne \u001b[38;5;241m=\u001b[39m TSNE(n_components\u001b[38;5;241m=\u001b[39m\u001b[38;5;241m2\u001b[39m, random_state\u001b[38;5;241m=\u001b[39m\u001b[38;5;241m42\u001b[39m, perplexity\u001b[38;5;241m=\u001b[39m\u001b[38;5;241m70\u001b[39m, learning_rate\u001b[38;5;241m=\u001b[39m\u001b[38;5;241m5\u001b[39m, max_iter\u001b[38;5;241m=\u001b[39m\u001b[38;5;241m1000\u001b[39m)\u001b[38;5;66;03m#, init='pca')\u001b[39;00m\n\u001b[1;32m----> 9\u001b[0m X_tsne \u001b[38;5;241m=\u001b[39m \u001b[43mtsne\u001b[49m\u001b[38;5;241;43m.\u001b[39;49m\u001b[43mfit_transform\u001b[49m\u001b[43m(\u001b[49m\u001b[43mX_train_val\u001b[49m\u001b[43m)\u001b[49m \u001b[38;5;66;03m#init = 'pca'\u001b[39;00m\n\u001b[0;32m     11\u001b[0m \u001b[38;5;28mprint\u001b[39m(X_tsne\u001b[38;5;241m.\u001b[39mshape)\n\u001b[0;32m     13\u001b[0m \u001b[38;5;66;03m# Visualize the t-SNE output\u001b[39;00m\n",
      "File \u001b[1;32m~\\AppData\\Local\\Programs\\Python\\Python312\\Lib\\site-packages\\sklearn\\utils\\_set_output.py:316\u001b[0m, in \u001b[0;36m_wrap_method_output.<locals>.wrapped\u001b[1;34m(self, X, *args, **kwargs)\u001b[0m\n\u001b[0;32m    314\u001b[0m \u001b[38;5;129m@wraps\u001b[39m(f)\n\u001b[0;32m    315\u001b[0m \u001b[38;5;28;01mdef\u001b[39;00m \u001b[38;5;21mwrapped\u001b[39m(\u001b[38;5;28mself\u001b[39m, X, \u001b[38;5;241m*\u001b[39margs, \u001b[38;5;241m*\u001b[39m\u001b[38;5;241m*\u001b[39mkwargs):\n\u001b[1;32m--> 316\u001b[0m     data_to_wrap \u001b[38;5;241m=\u001b[39m \u001b[43mf\u001b[49m\u001b[43m(\u001b[49m\u001b[38;5;28;43mself\u001b[39;49m\u001b[43m,\u001b[49m\u001b[43m \u001b[49m\u001b[43mX\u001b[49m\u001b[43m,\u001b[49m\u001b[43m \u001b[49m\u001b[38;5;241;43m*\u001b[39;49m\u001b[43margs\u001b[49m\u001b[43m,\u001b[49m\u001b[43m \u001b[49m\u001b[38;5;241;43m*\u001b[39;49m\u001b[38;5;241;43m*\u001b[39;49m\u001b[43mkwargs\u001b[49m\u001b[43m)\u001b[49m\n\u001b[0;32m    317\u001b[0m     \u001b[38;5;28;01mif\u001b[39;00m \u001b[38;5;28misinstance\u001b[39m(data_to_wrap, \u001b[38;5;28mtuple\u001b[39m):\n\u001b[0;32m    318\u001b[0m         \u001b[38;5;66;03m# only wrap the first output for cross decomposition\u001b[39;00m\n\u001b[0;32m    319\u001b[0m         return_tuple \u001b[38;5;241m=\u001b[39m (\n\u001b[0;32m    320\u001b[0m             _wrap_data_with_container(method, data_to_wrap[\u001b[38;5;241m0\u001b[39m], X, \u001b[38;5;28mself\u001b[39m),\n\u001b[0;32m    321\u001b[0m             \u001b[38;5;241m*\u001b[39mdata_to_wrap[\u001b[38;5;241m1\u001b[39m:],\n\u001b[0;32m    322\u001b[0m         )\n",
      "File \u001b[1;32m~\\AppData\\Local\\Programs\\Python\\Python312\\Lib\\site-packages\\sklearn\\base.py:1473\u001b[0m, in \u001b[0;36m_fit_context.<locals>.decorator.<locals>.wrapper\u001b[1;34m(estimator, *args, **kwargs)\u001b[0m\n\u001b[0;32m   1466\u001b[0m     estimator\u001b[38;5;241m.\u001b[39m_validate_params()\n\u001b[0;32m   1468\u001b[0m \u001b[38;5;28;01mwith\u001b[39;00m config_context(\n\u001b[0;32m   1469\u001b[0m     skip_parameter_validation\u001b[38;5;241m=\u001b[39m(\n\u001b[0;32m   1470\u001b[0m         prefer_skip_nested_validation \u001b[38;5;129;01mor\u001b[39;00m global_skip_validation\n\u001b[0;32m   1471\u001b[0m     )\n\u001b[0;32m   1472\u001b[0m ):\n\u001b[1;32m-> 1473\u001b[0m     \u001b[38;5;28;01mreturn\u001b[39;00m \u001b[43mfit_method\u001b[49m\u001b[43m(\u001b[49m\u001b[43mestimator\u001b[49m\u001b[43m,\u001b[49m\u001b[43m \u001b[49m\u001b[38;5;241;43m*\u001b[39;49m\u001b[43margs\u001b[49m\u001b[43m,\u001b[49m\u001b[43m \u001b[49m\u001b[38;5;241;43m*\u001b[39;49m\u001b[38;5;241;43m*\u001b[39;49m\u001b[43mkwargs\u001b[49m\u001b[43m)\u001b[49m\n",
      "File \u001b[1;32m~\\AppData\\Local\\Programs\\Python\\Python312\\Lib\\site-packages\\sklearn\\manifold\\_t_sne.py:1175\u001b[0m, in \u001b[0;36mTSNE.fit_transform\u001b[1;34m(self, X, y)\u001b[0m\n\u001b[0;32m   1172\u001b[0m \u001b[38;5;28;01melse\u001b[39;00m:\n\u001b[0;32m   1173\u001b[0m     \u001b[38;5;28mself\u001b[39m\u001b[38;5;241m.\u001b[39m_max_iter \u001b[38;5;241m=\u001b[39m \u001b[38;5;28mself\u001b[39m\u001b[38;5;241m.\u001b[39mmax_iter\n\u001b[1;32m-> 1175\u001b[0m \u001b[38;5;28;43mself\u001b[39;49m\u001b[38;5;241;43m.\u001b[39;49m\u001b[43m_check_params_vs_input\u001b[49m\u001b[43m(\u001b[49m\u001b[43mX\u001b[49m\u001b[43m)\u001b[49m\n\u001b[0;32m   1176\u001b[0m embedding \u001b[38;5;241m=\u001b[39m \u001b[38;5;28mself\u001b[39m\u001b[38;5;241m.\u001b[39m_fit(X)\n\u001b[0;32m   1177\u001b[0m \u001b[38;5;28mself\u001b[39m\u001b[38;5;241m.\u001b[39membedding_ \u001b[38;5;241m=\u001b[39m embedding\n",
      "File \u001b[1;32m~\\AppData\\Local\\Programs\\Python\\Python312\\Lib\\site-packages\\sklearn\\manifold\\_t_sne.py:863\u001b[0m, in \u001b[0;36mTSNE._check_params_vs_input\u001b[1;34m(self, X)\u001b[0m\n\u001b[0;32m    862\u001b[0m \u001b[38;5;28;01mdef\u001b[39;00m \u001b[38;5;21m_check_params_vs_input\u001b[39m(\u001b[38;5;28mself\u001b[39m, X):\n\u001b[1;32m--> 863\u001b[0m     \u001b[38;5;28;01mif\u001b[39;00m \u001b[38;5;28mself\u001b[39m\u001b[38;5;241m.\u001b[39mperplexity \u001b[38;5;241m>\u001b[39m\u001b[38;5;241m=\u001b[39m \u001b[43mX\u001b[49m\u001b[38;5;241;43m.\u001b[39;49m\u001b[43mshape\u001b[49m[\u001b[38;5;241m0\u001b[39m]:\n\u001b[0;32m    864\u001b[0m         \u001b[38;5;28;01mraise\u001b[39;00m \u001b[38;5;167;01mValueError\u001b[39;00m(\u001b[38;5;124m\"\u001b[39m\u001b[38;5;124mperplexity must be less than n_samples\u001b[39m\u001b[38;5;124m\"\u001b[39m)\n",
      "\u001b[1;31mAttributeError\u001b[0m: 'list' object has no attribute 'shape'"
     ]
    }
   ],
   "source": [
    "from sklearn.manifold import TSNE\n",
    "import numpy as np\n",
    "\n",
    "np.random.seed(42)\n",
    "\n",
    "\n",
    "# Initialize and apply t-SNE\n",
    "tsne = TSNE(n_components=2, random_state=42, perplexity=70, learning_rate=5, max_iter=1000)#, init='pca')\n",
    "X_tsne = tsne.fit_transform(X_train_val) #init = 'pca'\n",
    "\n",
    "print(X_tsne.shape)\n",
    "\n",
    "# Visualize the t-SNE output\n",
    "plt.scatter(X_tsne[:, 0], X_tsne[:, 1], c=y_train_val, alpha=0.7, s = 2, cmap=colors)"
   ]
  },
  {
   "cell_type": "code",
   "execution_count": 10,
   "id": "c6e61781-541e-410f-ab13-1b3611ab7daf",
   "metadata": {},
   "outputs": [],
   "source": [
    "#print(X_subsampled_train)\n",
    "import numpy as np\n",
    "\n",
    "def remove_low_var_cogs(X):\n",
    " #   print(X)\n",
    "    var_arr = []\n",
    "    names= []\n",
    "    for column in X.columns:\n",
    "        if \"COG\" in column:\n",
    "            names.append(column)\n",
    "            column_array = X[column].values\n",
    "            var_arr.append(np.var(column_array))\n",
    "    \n",
    "    var_thresh = 3\n",
    "    ind_filter_var = [i for i in range(len(var_arr)) if var_arr[i] > var_thresh]\n",
    "    print(len(var_arr))\n",
    "    print(len(ind_filter_var))\n",
    "    \n",
    "    #df_subsampled = df.iloc[:, columns_to_subsample]\n",
    "    names_filt = [names[i] for i in ind_filter_var ]\n",
    "    \n",
    "  #  table_indices = [ind+3 for ind in ind_filter_var]\n",
    "\n",
    "  #  print(table_indices[-1])\n",
    "   # print( X.iloc[:, table_indices[-1]])\n",
    "    # table_indices = [0, 1, 2] + table_indices\n",
    "    \n",
    "    # X_subsampled_train\n",
    "    \n",
    "    X_reduc_dimens = X.iloc[:, ind_filter_var]#table_indices]\n",
    "    return X_reduc_dimens"
   ]
  },
  {
   "cell_type": "code",
   "execution_count": 11,
   "id": "cf049f66-f080-44dc-b002-b4752399e776",
   "metadata": {},
   "outputs": [
    {
     "name": "stdout",
     "output_type": "stream",
     "text": [
      "Before dim. reduction (25632, 2677)\n",
      "2677\n",
      "56\n",
      "After dim. reduction (25632, 56)\n"
     ]
    }
   ],
   "source": [
    "print(f\"Before dim. reduction {X_test.shape}\")\n",
    "\n",
    "X_test_reduc_dimens = remove_low_var_cogs(X_test)\n",
    "\n",
    "print(f\"After dim. reduction {X_test_reduc_dimens.shape}\")"
   ]
  },
  {
   "cell_type": "code",
   "execution_count": null,
   "id": "be88f01a-39e6-462a-ab50-16ed3eef15f0",
   "metadata": {},
   "outputs": [],
   "source": []
  }
 ],
 "metadata": {
  "kernelspec": {
   "display_name": "Python 3 (ipykernel)",
   "language": "python",
   "name": "python3"
  },
  "language_info": {
   "codemirror_mode": {
    "name": "ipython",
    "version": 3
   },
   "file_extension": ".py",
   "mimetype": "text/x-python",
   "name": "python",
   "nbconvert_exporter": "python",
   "pygments_lexer": "ipython3",
   "version": "3.12.7"
  }
 },
 "nbformat": 4,
 "nbformat_minor": 5
}
