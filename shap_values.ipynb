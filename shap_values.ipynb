{
 "cells": [
  {
   "cell_type": "code",
   "execution_count": 1,
   "id": "46485457-0aaa-4044-b0b9-a4d45df77c16",
   "metadata": {},
   "outputs": [
    {
     "data": {
      "text/plain": [
       "<All keys matched successfully>"
      ]
     },
     "execution_count": 1,
     "metadata": {},
     "output_type": "execute_result"
    }
   ],
   "source": [
    "import shap\n",
    "import torch\n",
    "import pandas as pd\n",
    "from set_transformer.set_transformer_architecture import SetTransformer, SetTransformerWrapper\n",
    "\n",
    "\n",
    "model_name = \"SetTransformer\"\n",
    "phenotype = \"ogt\"\n",
    "ind_point = 20\n",
    "D = 3165\n",
    "K = 1\n",
    "dim_output = 50\n",
    "save_path = f\"set_transformer/resuls_SetTransformer/trained_models/trained_model_{model_name}_phenotype_{phenotype}_indPoints_{ind_point}_D_{D}_K_{K}_dim_output_{dim_output}.model\" \n",
    "\n",
    "loaded_model = SetTransformer(D, K, dim_output)\n",
    "\n",
    "# Load the saved state dictionary\n",
    "loaded_model.load_state_dict(torch.load(save_path, weights_only=True))\n"
   ]
  },
  {
   "cell_type": "code",
   "execution_count": 3,
   "id": "e59c69ac-f647-4527-a0f0-fcb268db3875",
   "metadata": {},
   "outputs": [
    {
     "data": {
      "text/plain": [
       "SetTransformer(\n",
       "  (enc): Sequential(\n",
       "    (0): ISAB(\n",
       "      (mab0): MAB(\n",
       "        (fc_q): Linear(in_features=512, out_features=512, bias=True)\n",
       "        (fc_k): Linear(in_features=3165, out_features=512, bias=True)\n",
       "        (fc_v): Linear(in_features=3165, out_features=512, bias=True)\n",
       "        (ln0): LayerNorm((512,), eps=1e-05, elementwise_affine=True)\n",
       "        (ln1): LayerNorm((512,), eps=1e-05, elementwise_affine=True)\n",
       "        (fc_o): Linear(in_features=512, out_features=512, bias=True)\n",
       "      )\n",
       "      (mab1): MAB(\n",
       "        (fc_q): Linear(in_features=3165, out_features=512, bias=True)\n",
       "        (fc_k): Linear(in_features=512, out_features=512, bias=True)\n",
       "        (fc_v): Linear(in_features=512, out_features=512, bias=True)\n",
       "        (ln0): LayerNorm((512,), eps=1e-05, elementwise_affine=True)\n",
       "        (ln1): LayerNorm((512,), eps=1e-05, elementwise_affine=True)\n",
       "        (fc_o): Linear(in_features=512, out_features=512, bias=True)\n",
       "      )\n",
       "    )\n",
       "    (1): ISAB(\n",
       "      (mab0): MAB(\n",
       "        (fc_q): Linear(in_features=512, out_features=512, bias=True)\n",
       "        (fc_k): Linear(in_features=512, out_features=512, bias=True)\n",
       "        (fc_v): Linear(in_features=512, out_features=512, bias=True)\n",
       "        (ln0): LayerNorm((512,), eps=1e-05, elementwise_affine=True)\n",
       "        (ln1): LayerNorm((512,), eps=1e-05, elementwise_affine=True)\n",
       "        (fc_o): Linear(in_features=512, out_features=512, bias=True)\n",
       "      )\n",
       "      (mab1): MAB(\n",
       "        (fc_q): Linear(in_features=512, out_features=512, bias=True)\n",
       "        (fc_k): Linear(in_features=512, out_features=512, bias=True)\n",
       "        (fc_v): Linear(in_features=512, out_features=512, bias=True)\n",
       "        (ln0): LayerNorm((512,), eps=1e-05, elementwise_affine=True)\n",
       "        (ln1): LayerNorm((512,), eps=1e-05, elementwise_affine=True)\n",
       "        (fc_o): Linear(in_features=512, out_features=512, bias=True)\n",
       "      )\n",
       "    )\n",
       "    (2): Dropout(p=0.3, inplace=False)\n",
       "  )\n",
       "  (dec): Sequential(\n",
       "    (0): PMA(\n",
       "      (mab): MAB(\n",
       "        (fc_q): Linear(in_features=512, out_features=512, bias=True)\n",
       "        (fc_k): Linear(in_features=512, out_features=512, bias=True)\n",
       "        (fc_v): Linear(in_features=512, out_features=512, bias=True)\n",
       "        (ln0): LayerNorm((512,), eps=1e-05, elementwise_affine=True)\n",
       "        (ln1): LayerNorm((512,), eps=1e-05, elementwise_affine=True)\n",
       "        (fc_o): Linear(in_features=512, out_features=512, bias=True)\n",
       "      )\n",
       "    )\n",
       "    (1): SAB(\n",
       "      (mab): MAB(\n",
       "        (fc_q): Linear(in_features=512, out_features=512, bias=True)\n",
       "        (fc_k): Linear(in_features=512, out_features=512, bias=True)\n",
       "        (fc_v): Linear(in_features=512, out_features=512, bias=True)\n",
       "        (ln0): LayerNorm((512,), eps=1e-05, elementwise_affine=True)\n",
       "        (ln1): LayerNorm((512,), eps=1e-05, elementwise_affine=True)\n",
       "        (fc_o): Linear(in_features=512, out_features=512, bias=True)\n",
       "      )\n",
       "    )\n",
       "    (2): Dropout(p=0.3, inplace=False)\n",
       "    (3): Linear(in_features=512, out_features=50, bias=True)\n",
       "  )\n",
       ")"
      ]
     },
     "execution_count": 3,
     "metadata": {},
     "output_type": "execute_result"
    }
   ],
   "source": [
    "loaded_model.eval() \n",
    "loaded_model\n"
   ]
  },
  {
   "cell_type": "code",
   "execution_count": 4,
   "id": "486e15af-f3ad-46f7-a361-33a3f7a8825d",
   "metadata": {},
   "outputs": [],
   "source": [
    "output_class = 0  # Specify the class index you want to explain\n",
    "wrapped_model = SetTransformerWrapper(loaded_model, output_class)\n",
    "\n",
    "device = torch.device(\"cuda\" if torch.cuda.is_available() else \"cpu\")\n",
    "wrapped_model = wrapped_model.to(device)"
   ]
  },
  {
   "cell_type": "code",
   "execution_count": 21,
   "id": "55edf077-cfc7-4ee1-9a09-711a5df16685",
   "metadata": {},
   "outputs": [
    {
     "name": "stdout",
     "output_type": "stream",
     "text": [
      "X_train.shape = torch.Size([3001, 3165])\n",
      "X_test.shape = torch.Size([751, 3165])\n",
      "X_train[:10].unsqueeze(1).shape = torch.Size([100, 1, 3165])\n"
     ]
    }
   ],
   "source": [
    "from set_transformer.main import read_ogt_data\n",
    "\n",
    "if phenotype == \"ogt\":\n",
    "    X_train, X_train_column_names, y_train, X_test, X_test_column_names, y_test, num_classes, categories_linspace = read_ogt_data()\n",
    "print(f\"X_train.shape = {X_train.shape}\")\n",
    "print(f\"X_test.shape = {X_test.shape}\")\n",
    "\n",
    "print(f\"X_train[:10].unsqueeze(1).shape = {X_train[:100].unsqueeze(1).shape}\")\n",
    "\n",
    "\n",
    "X_train = X_train.to(device)\n",
    "X_test = X_test.to(device)"
   ]
  },
  {
   "cell_type": "code",
   "execution_count": 22,
   "id": "db409eb7-9883-4368-b46a-4da63ff5be5b",
   "metadata": {},
   "outputs": [
    {
     "name": "stdout",
     "output_type": "stream",
     "text": [
      "torch.Size([3001, 1, 50])\n"
     ]
    },
    {
     "data": {
      "text/plain": [
       "array([[[-0.6171866 , -0.15230137,  0.70949924, ..., -1.2078774 ,\n",
       "         -1.7056017 , -1.5008367 ]],\n",
       "\n",
       "       [[-0.8958477 , -1.1472595 , -0.8337484 , ..., -2.1440766 ,\n",
       "         -2.8363547 , -2.1584353 ]],\n",
       "\n",
       "       [[-1.4090781 , -1.7797799 , -1.5477154 , ..., -1.6035011 ,\n",
       "         -0.6456273 , -1.7515278 ]],\n",
       "\n",
       "       ...,\n",
       "\n",
       "       [[-1.8439198 , -2.2195077 , -1.1515417 , ..., -1.7608215 ,\n",
       "         -2.531871  , -1.8483222 ]],\n",
       "\n",
       "       [[-1.3222889 , -1.2285446 , -1.1933299 , ..., -1.9718386 ,\n",
       "         -0.88608193, -2.289086  ]],\n",
       "\n",
       "       [[-1.9622539 , -2.0562253 , -0.9466297 , ..., -2.0518343 ,\n",
       "         -2.520772  , -1.7110868 ]]], dtype=float32)"
      ]
     },
     "execution_count": 22,
     "metadata": {},
     "output_type": "execute_result"
    }
   ],
   "source": [
    "pred = loaded_model(X_train.unsqueeze(1))\n",
    "print(pred.shape)\n",
    "\n",
    "# Move tensor to CPU\n",
    "pred_cpu = pred.to(\"cpu\")\n",
    "\n",
    "# Convert to NumPy\n",
    "pred_flattened = pred_cpu.detach().numpy()#.flatten()\n",
    "pred_flattened\n",
    "#pd.Series(pred_flattened).value_counts()\n",
    "#print(pd.Series(pred_flattened))"
   ]
  },
  {
   "cell_type": "code",
   "execution_count": 23,
   "id": "75cbffc0-5b68-409e-9dbb-79445ac4689d",
   "metadata": {},
   "outputs": [],
   "source": [
    "modal_keggs = pd.read_csv('data_aerob/modal_keggs_with_names.csv',sep=\"\\t\")\n",
    "modal_keggs.index = modal_keggs['ko']\n",
    " \n",
    "columns2 = pd.Series(['{} {} {}'.format(cog, ko, ko_name) for cog, ko, ko_name in zip(modal_keggs.loc[X_test_column_names,'ko'], modal_keggs.loc[X_test_column_names,'cog'], modal_keggs.loc[X_test_column_names,'ko_name'])])\n",
    "dup_columns = columns2.duplicated()\n",
    "columns2 = [\"{}_{}\".format(c,i) if is_dup else c for c,i,is_dup in zip(columns2, range(len(columns2)), dup_columns)]\n",
    "kos_and_names_column_names = [c.replace('[', '').replace(']', '').replace('<', '_') for c in columns2]\n"
   ]
  },
  {
   "cell_type": "code",
   "execution_count": 24,
   "id": "df27dbfe-f62b-4f7b-a41f-db0aadb0af8a",
   "metadata": {},
   "outputs": [
    {
     "name": "stdout",
     "output_type": "stream",
     "text": [
      "torch.Size([1000, 3165])\n",
      "tensor([[4.3732e-04, 6.9614e-04, 1.6481e-03,  ..., 2.4225e-04, 1.4727e-04,\n",
      "         1.8073e-04],\n",
      "        [3.6076e-04, 2.8057e-04, 3.8388e-04,  ..., 1.0354e-04, 5.1817e-05,\n",
      "         1.0207e-04],\n",
      "        [4.6211e-04, 3.1897e-04, 4.0229e-04,  ..., 3.8046e-04, 9.9154e-04,\n",
      "         3.2811e-04],\n",
      "        ...,\n",
      "        [1.5887e-03, 2.3469e-03, 3.0989e-03,  ..., 5.9913e-04, 4.5251e-04,\n",
      "         5.2173e-04],\n",
      "        [2.0923e-04, 1.4590e-04, 2.7951e-04,  ..., 1.5365e-04, 1.1653e-04,\n",
      "         1.0033e-04],\n",
      "        [1.7489e-04, 2.4489e-04, 4.5466e-04,  ..., 7.6772e-05, 1.1230e-04,\n",
      "         1.0216e-04]], device='cuda:0', grad_fn=<SelectBackward0>)\n",
      "torch.Size([1000, 50])\n"
     ]
    }
   ],
   "source": [
    "\n",
    "X_train = X_train[:1000]\n",
    "X_test = X_test[:100]\n",
    "\n",
    "print(X_train.shape)\n",
    "\n",
    "outputs = wrapped_model(X_train.unsqueeze(1))\n",
    "print(outputs)\n",
    "print(outputs.shape)  # Check the shape of the output tensor"
   ]
  },
  {
   "cell_type": "code",
   "execution_count": 25,
   "id": "7ac801e3-7933-470e-91e0-23cdbc5aba5d",
   "metadata": {},
   "outputs": [],
   "source": [
    "# Now create the explainer\n",
    "explainer = shap.DeepExplainer(wrapped_model, X_train.unsqueeze(1))"
   ]
  },
  {
   "cell_type": "code",
   "execution_count": 26,
   "id": "4db5182b-ec1e-43f3-84ed-a43198cfd7c9",
   "metadata": {},
   "outputs": [
    {
     "name": "stderr",
     "output_type": "stream",
     "text": [
      "C:\\Users\\kolda\\AppData\\Local\\Programs\\Python\\Python312\\Lib\\site-packages\\shap\\explainers\\_deep\\deep_pytorch.py:243: UserWarning: unrecognized nn.Module: LayerNorm\n",
      "  warnings.warn(f'unrecognized nn.Module: {module_type}')\n"
     ]
    }
   ],
   "source": [
    "shap_values = explainer.shap_values(X_test.unsqueeze(1), check_additivity=False)"
   ]
  },
  {
   "cell_type": "code",
   "execution_count": 16,
   "id": "61be9cdc-533b-421a-9cb8-24cccaa01c7f",
   "metadata": {},
   "outputs": [
    {
     "ename": "AttributeError",
     "evalue": "'list' object has no attribute 'squeeze'",
     "output_type": "error",
     "traceback": [
      "\u001b[1;31m---------------------------------------------------------------------------\u001b[0m",
      "\u001b[1;31mAttributeError\u001b[0m                            Traceback (most recent call last)",
      "Cell \u001b[1;32mIn[16], line 1\u001b[0m\n\u001b[1;32m----> 1\u001b[0m shap_values \u001b[38;5;241m=\u001b[39m \u001b[43mshap_values\u001b[49m\u001b[38;5;241;43m.\u001b[39;49m\u001b[43msqueeze\u001b[49m(\u001b[38;5;241m1\u001b[39m)\n\u001b[0;32m      3\u001b[0m \u001b[38;5;28mprint\u001b[39m(\u001b[38;5;124mf\u001b[39m\u001b[38;5;124m\"\u001b[39m\u001b[38;5;124mShape of shap_values: \u001b[39m\u001b[38;5;132;01m{\u001b[39;00mshap_values\u001b[38;5;241m.\u001b[39mshape\u001b[38;5;132;01m}\u001b[39;00m\u001b[38;5;124m\"\u001b[39m)\n\u001b[0;32m      5\u001b[0m class_num \u001b[38;5;241m=\u001b[39m \u001b[38;5;241m20\u001b[39m\n",
      "\u001b[1;31mAttributeError\u001b[0m: 'list' object has no attribute 'squeeze'"
     ]
    }
   ],
   "source": [
    "shap_values = shap_values.squeeze(1)\n",
    "\n",
    "print(f\"Shape of shap_values: {shap_values.shape}\")\n",
    "\n",
    "class_num = 20\n",
    "# For visualization, you can extract SHAP values for a specific class if needed\n",
    "shap_values_class_0 = shap_values[:, :, class_num]  # For class 0 (first class)\n",
    "print(f\"Shape of shap_values_class_0: {shap_values_class_0.shape}\")"
   ]
  },
  {
   "cell_type": "code",
   "execution_count": 55,
   "id": "cf7c8770-f778-4299-a93c-3a46bab17db5",
   "metadata": {},
   "outputs": [
    {
     "data": {
      "image/png": "[encoded data removed]",
      "text/plain": [
       "<Figure size 800x400 with 2 Axes>"
      ]
     },
     "metadata": {},
     "output_type": "display_data"
    }
   ],
   "source": [
    "#shap_values_class_0 = shap_values[:, :, 0]\n",
    "\n",
    "shap.summary_plot(shap_values_class_0, X_test.cpu().numpy(), max_display=20, feature_names=X_test_column_names, plot_size=(8, 4))\n",
    "#plt.show()"
   ]
  },
  {
   "cell_type": "code",
   "execution_count": 57,
   "id": "4bce5530-af35-42f7-a207-0c72e36e2c0a",
   "metadata": {},
   "outputs": [
    {
     "name": "stdout",
     "output_type": "stream",
     "text": [
      "Top 20 features with the highest SHAP values:\n",
      "\n",
      "K03390 COG1150 heterodisulfide reductase subunit C2 EC:1.8.7.3 1.8.98.4 1.8.98.5 1.8.98.6: 0.0001\n",
      "K11529 COG2379 glycerate 2-kinase EC:2.7.1.165: 0.0001\n",
      "K18831 COG5499 HTH-type transcriptional regulator / antitoxin HigA: 0.0001\n",
      "K06373 COG2715 spore maturation protein A: 0.0001\n",
      "K03690 COG3165 ubiquinone biosynthesis accessory factor UbiJ: 0.0001\n",
      "K07110 COG3800 XRE family transcriptional regulator, fatty acid utilization regulator: 0.0001\n",
      "K00872 COG0083 homoserine kinase EC:2.7.1.39: 0.0000\n",
      "K02067 COG1463 phospholipid/cholesterol/gamma-HCH transport system substrate-binding protein: 0.0000\n",
      "K07459 COG1106 putative ATP-dependent endonuclease of the OLD family: 0.0000\n",
      "K01173 COG1864 endonuclease G, mitochondrial: 0.0000\n",
      "K02410 COG1536 flagellar motor switch protein FliG: 0.0000\n",
      "K09937 COG3242 uncharacterized protein: 0.0000\n",
      "K13993 COG0071 HSP20 family protein: 0.0000\n",
      "K00697 COG0380 trehalose 6-phosphate synthase EC:2.4.1.15 2.4.1.347: 0.0000\n",
      "K03269 COG2908 UDP-2,3-diacylglucosamine hydrolase EC:3.6.1.54: 0.0000\n",
      "K00384 COG0492 thioredoxin reductase (NADPH) EC:1.8.1.9: 0.0000\n",
      "K07450 COG2452 putative resolvase: 0.0000\n",
      "K00772 COG0005 5'-methylthioadenosine phosphorylase EC:2.4.2.28: 0.0000\n",
      "K01062 COG4188 platelet-activating factor acetylhydrolase EC:3.1.1.47: 0.0000\n",
      "K07140 COG3217 uncharacterized protein: 0.0000\n"
     ]
    }
   ],
   "source": [
    "import numpy as np\n",
    "\n",
    "mean_abs_shap_values = np.abs(shap_values_class_0).mean(axis=0)\n",
    "top_20_indices = np.argsort(mean_abs_shap_values)[-20:][::-1]\n",
    "top_20_features = [(kos_and_names_column_names[i], mean_abs_shap_values[i]) for i in top_20_indices]\n",
    "\n",
    "print(\"Top 20 features with the highest SHAP values:\\n\")\n",
    "for feature_name, shap_value in top_20_features:\n",
    "    print(f\"{feature_name}: {shap_value:.4f}\")"
   ]
  },
  {
   "cell_type": "code",
   "execution_count": 1,
   "id": "15b3e594-4674-4229-b26e-14c85235f357",
   "metadata": {},
   "outputs": [
    {
     "data": {
      "text/plain": [
       "<All keys matched successfully>"
      ]
     },
     "execution_count": 1,
     "metadata": {},
     "output_type": "execute_result"
    }
   ],
   "source": [
    "import shap\n",
    "import torch\n",
    "import pandas as pd\n",
    "from set_transformer.set_transformer_architecture import SetTransformer, SetTransformerWrapper\n",
    "\n",
    "model_name = \"SetTransformer\"\n",
    "phenotype = \"aerob\"\n",
    "ind_point = 10\n",
    "D = 2677\n",
    "K = 1\n",
    "dim_output = 1\n",
    "save_path = f\"set_transformer/resuls_SetTransformer/trained_models/trained_model_{model_name}_phenotype_{phenotype}_indPoints_{ind_point}_D_{D}_K_{K}_dim_output_{dim_output}.model\" \n",
    "device = torch.device(\"cuda\" if torch.cuda.is_available() else \"cpu\")\n",
    "\n",
    "loaded_model_aerob = SetTransformer(D, K, dim_output)\n",
    "loaded_model_aerob.to(device)\n",
    "\n",
    "# Load the saved state dictionary\n",
    "loaded_model_aerob.load_state_dict(torch.load(save_path, weights_only=True))"
   ]
  },
  {
   "cell_type": "code",
   "execution_count": 40,
   "id": "a6b53720-0690-43af-92f3-98369b319abe",
   "metadata": {
    "scrolled": true
   },
   "outputs": [
    {
     "name": "stdout",
     "output_type": "stream",
     "text": [
      "Counts of each class in training/test data: shape: (2, 2)\n",
      "┌──────────────┬───────┐\n",
      "│ oxytolerance ┆ len   │\n",
      "│ ---          ┆ ---   │\n",
      "│ str          ┆ u32   │\n",
      "╞══════════════╪═══════╡\n",
      "│ anaerobe     ┆ 29808 │\n",
      "│ aerobe       ┆ 29808 │\n",
      "└──────────────┴───────┘\n",
      "Counts of each class in training/test data: shape: (2, 2)\n",
      "┌──────────────┬──────┐\n",
      "│ oxytolerance ┆ len  │\n",
      "│ ---          ┆ ---  │\n",
      "│ str          ┆ u32  │\n",
      "╞══════════════╪══════╡\n",
      "│ anaerobe     ┆ 8172 │\n",
      "│ aerobe       ┆ 8172 │\n",
      "└──────────────┴──────┘\n",
      "torch.Size([3500, 2677])\n",
      "torch.Size([2000, 2677])\n"
     ]
    }
   ],
   "source": [
    "from set_transformer.main import process_dataset\n",
    "\n",
    "data_filename_train = 'data_aerob/all_gene_annotations.added_incompleteness_and_contamination.subsampled.training.tsv' \n",
    "data_filename_test = 'data_aerob/all_gene_annotations.added_incompleteness_and_contamination.subsampled.testing.tsv'\n",
    "y_filename = 'data_aerob/bacdive_scrape_20230315.json.parsed.anaerobe_vs_aerobe.with_cyanos.csv'\n",
    "\n",
    "if phenotype == \"aerob\":\n",
    "    X_train, X_train_column_names, y_train, d_gtdb_train = process_dataset(data_filename_train, y_filename)\n",
    "    X_test, X_test_column_names, y_test, d_gtdb_test = process_dataset(data_filename_test, y_filename)\n",
    "    num_classes = 2\n",
    "\n",
    "\n",
    "X_train = X_train[:3500]\n",
    "X_test = X_test[:2000]\n",
    "\n",
    "print(X_train.shape)    \n",
    "print(X_test.shape) \n",
    "\n",
    "X_train = X_train.to(device)\n",
    "X_test = X_test.to(device)"
   ]
  },
  {
   "cell_type": "code",
   "execution_count": 41,
   "id": "3cd620a9-281c-4d67-b964-f74c1682ffc2",
   "metadata": {},
   "outputs": [],
   "source": [
    "modal_keggs = pd.read_csv('data_aerob/modal_keggs_with_names.csv',sep=\"\\t\")\n",
    "modal_keggs.index = modal_keggs['cog']\n",
    " \n",
    "columns2 = pd.Series(['{} {} {}'.format(cog, ko, ko_name) for cog, ko, ko_name in zip(modal_keggs.loc[X_test_column_names,'cog'], modal_keggs.loc[X_test_column_names,'ko'], modal_keggs.loc[X_test_column_names,'ko_name'])])\n",
    "dup_columns = columns2.duplicated()\n",
    "columns2 = [\"{}_{}\".format(c,i) if is_dup else c for c,i,is_dup in zip(columns2, range(len(columns2)), dup_columns)]\n",
    "kos_and_names_column_names = [c.replace('[', '').replace(']', '').replace('<', '_') for c in columns2]"
   ]
  },
  {
   "cell_type": "code",
   "execution_count": null,
   "id": "275456a9-3b1c-48bb-94b4-43de8a17364b",
   "metadata": {},
   "outputs": [
    {
     "name": "stderr",
     "output_type": "stream",
     "text": [
      "C:\\Users\\kolda\\AppData\\Local\\Programs\\Python\\Python312\\Lib\\site-packages\\shap\\explainers\\_deep\\deep_pytorch.py:243: UserWarning: unrecognized nn.Module: LayerNorm\n",
      "  warnings.warn(f'unrecognized nn.Module: {module_type}')\n"
     ]
    }
   ],
   "source": [
    "explainer = shap.DeepExplainer(loaded_model_aerob, X_train.unsqueeze(1))\n",
    "shap_values = explainer.shap_values(X_test.unsqueeze(1), check_additivity=False)\n",
    "\n",
    "shap_values = shap_values.squeeze(1)\n",
    "\n",
    "print(f\"Shape of shap_values: {shap_values.shape}\")\n",
    "print(f\"Shape of X_test[:1000]: {X_test.shape}\")\n",
    "\n",
    "# For visualization, you can extract SHAP values for a specific class if needed\n",
    "shap_values_class_0 = shap_values[:, :, 0]  # For class 0 (first class)\n",
    "print(f\"Shape of shap_values_class_0: {shap_values_class_0.shape}\")"
   ]
  },
  {
   "cell_type": "code",
   "execution_count": 39,
   "id": "235bc381-bc2c-4cfc-90bb-9e9f4acd703e",
   "metadata": {},
   "outputs": [
    {
     "ename": "AssertionError",
     "evalue": "Feature and SHAP matrices must have the same number of rows!",
     "output_type": "error",
     "traceback": [
      "\u001b[1;31m---------------------------------------------------------------------------\u001b[0m",
      "\u001b[1;31mAssertionError\u001b[0m                            Traceback (most recent call last)",
      "Cell \u001b[1;32mIn[39], line 1\u001b[0m\n\u001b[1;32m----> 1\u001b[0m \u001b[43mshap\u001b[49m\u001b[38;5;241;43m.\u001b[39;49m\u001b[43msummary_plot\u001b[49m\u001b[43m(\u001b[49m\u001b[43mshap_values_class_0\u001b[49m\u001b[43m,\u001b[49m\u001b[43m \u001b[49m\u001b[43mX_test\u001b[49m\u001b[38;5;241;43m.\u001b[39;49m\u001b[43mcpu\u001b[49m\u001b[43m(\u001b[49m\u001b[43m)\u001b[49m\u001b[38;5;241;43m.\u001b[39;49m\u001b[43mnumpy\u001b[49m\u001b[43m(\u001b[49m\u001b[43m)\u001b[49m\u001b[43m,\u001b[49m\u001b[43m \u001b[49m\u001b[43mmax_display\u001b[49m\u001b[38;5;241;43m=\u001b[39;49m\u001b[38;5;241;43m20\u001b[39;49m\u001b[43m,\u001b[49m\u001b[43m \u001b[49m\u001b[43mfeature_names\u001b[49m\u001b[38;5;241;43m=\u001b[39;49m\u001b[43mX_test_column_names\u001b[49m\u001b[43m,\u001b[49m\u001b[43m \u001b[49m\u001b[43mplot_size\u001b[49m\u001b[38;5;241;43m=\u001b[39;49m\u001b[43m(\u001b[49m\u001b[38;5;241;43m12\u001b[39;49m\u001b[43m,\u001b[49m\u001b[43m \u001b[49m\u001b[38;5;241;43m8\u001b[39;49m\u001b[43m)\u001b[49m\u001b[43m)\u001b[49m\n",
      "File \u001b[1;32m~\\AppData\\Local\\Programs\\Python\\Python312\\Lib\\site-packages\\shap\\plots\\_beeswarm.py:700\u001b[0m, in \u001b[0;36msummary_legacy\u001b[1;34m(shap_values, features, feature_names, max_display, plot_type, color, axis_color, title, alpha, show, sort, color_bar, plot_size, layered_violin_max_num_bins, class_names, class_inds, color_bar_label, cmap, show_values_in_legend, use_log_scale)\u001b[0m\n\u001b[0;32m    697\u001b[0m \u001b[38;5;28;01mif\u001b[39;00m vmin \u001b[38;5;241m>\u001b[39m vmax: \u001b[38;5;66;03m# fixes rare numerical precision issues\u001b[39;00m\n\u001b[0;32m    698\u001b[0m     vmin \u001b[38;5;241m=\u001b[39m vmax\n\u001b[1;32m--> 700\u001b[0m \u001b[38;5;28;01massert\u001b[39;00m features\u001b[38;5;241m.\u001b[39mshape[\u001b[38;5;241m0\u001b[39m] \u001b[38;5;241m==\u001b[39m \u001b[38;5;28mlen\u001b[39m(shaps), \u001b[38;5;124m\"\u001b[39m\u001b[38;5;124mFeature and SHAP matrices must have the same number of rows!\u001b[39m\u001b[38;5;124m\"\u001b[39m\n\u001b[0;32m    702\u001b[0m \u001b[38;5;66;03m# plot the nan values in the interaction feature as grey\u001b[39;00m\n\u001b[0;32m    703\u001b[0m nan_mask \u001b[38;5;241m=\u001b[39m np\u001b[38;5;241m.\u001b[39misnan(values)\n",
      "\u001b[1;31mAssertionError\u001b[0m: Feature and SHAP matrices must have the same number of rows!"
     ]
    },
    {
     "data": {
      "image/png": "[encoded data removed]",
      "text/plain": [
       "<Figure size 1200x800 with 1 Axes>"
      ]
     },
     "metadata": {},
     "output_type": "display_data"
    }
   ],
   "source": [
    "shap.summary_plot(shap_values_class_0, X_test.cpu().numpy(), max_display=20, feature_names=X_test_column_names, plot_size=(12, 8))\n"
   ]
  },
  {
   "cell_type": "code",
   "execution_count": 37,
   "id": "d8c0bf4a-a375-442a-ace4-b3958a15bb01",
   "metadata": {},
   "outputs": [
    {
     "name": "stdout",
     "output_type": "stream",
     "text": [
      "Top 20 features with the highest SHAP values:\n",
      "\n",
      "COG1012 K00135 succinate-semialdehyde dehydrogenase / glutarate-semialdehyde dehydrogenase EC:1.2.1.16 1.2.1.79 1.2.1.20: 0.0134\n",
      "COG3173 K11729 acyl-CoA dehydrogenase family member 10: 0.0114\n",
      "COG3967 K14189 uncharacterized oxidoreductase EC:1.-.-.-: 0.0091\n",
      "COG0467 K08482 circadian clock protein KaiC: 0.0090\n",
      "COG0508 K00627 pyruvate dehydrogenase E2 component (dihydrolipoamide acetyltransferase) EC:2.3.1.12: 0.0088\n",
      "COG2335 K19519 transforming growth factor-beta-induced protein: 0.0087\n",
      "COG3324 K06996 uncharacterized protein: 0.0084\n",
      "COG1620 K03303 lactate permease: 0.0082\n",
      "COG4618 K12536 ATP-binding cassette, subfamily C, type I secretion system permease/ATPase: 0.0079\n",
      "COG1204 K03726 ATP-dependent DNA helicase EC:5.6.2.4: 0.0079\n",
      "COG1793 K01971 bifunctional non-homologous end joining protein LigD EC:6.5.1.1: 0.0077\n",
      "COG2829 K01058 phospholipase A1/A2 EC:3.1.1.32 3.1.1.4: 0.0077\n",
      "COG2602 K17838 beta-lactamase class D EC:3.5.2.6: 0.0077\n",
      "COG0400 K06999 phospholipase/carboxylesterase: 0.0076\n",
      "COG0243 K08352 thiosulfate reductase / polysulfide reductase chain A EC:1.8.5.5: 0.0075\n",
      "COG1850 K01601 ribulose-bisphosphate carboxylase large chain EC:4.1.1.39: 0.0074\n",
      "COG0225 K07304 peptide-methionine (S)-S-oxide reductase EC:1.8.4.11: 0.0074\n",
      "COG3652 K08995 putative membrane protein: 0.0073\n",
      "COG1252 K03885 NADH:quinone reductase (non-electrogenic) EC:1.6.5.9: 0.0072\n",
      "COG2268 K07192 flotillin: 0.0072\n"
     ]
    }
   ],
   "source": [
    "import numpy as np\n",
    "\n",
    "mean_abs_shap_values = np.abs(shap_values_class_0).mean(axis=0)\n",
    "top_20_indices = np.argsort(mean_abs_shap_values)[-20:][::-1]\n",
    "top_20_features = [(kos_and_names_column_names[i], mean_abs_shap_values[i]) for i in top_20_indices]\n",
    "\n",
    "print(\"Top 20 features with the highest SHAP values:\\n\")\n",
    "for feature_name, shap_value in top_20_features:\n",
    "    print(f\"{feature_name}: {shap_value:.4f}\")"
   ]
  },
  {
   "cell_type": "code",
   "execution_count": null,
   "id": "39d2614d-a697-4183-a302-8cd0c96ca8f5",
   "metadata": {},
   "outputs": [],
   "source": []
  }
 ],
 "metadata": {
  "kernelspec": {
   "display_name": "Python 3 (ipykernel)",
   "language": "python",
   "name": "python3"
  },
  "language_info": {
   "codemirror_mode": {
    "name": "ipython",
    "version": 3
   },
   "file_extension": ".py",
   "mimetype": "text/x-python",
   "name": "python",
   "nbconvert_exporter": "python",
   "pygments_lexer": "ipython3",
   "version": "3.12.7"
  }
 },
 "nbformat": 4,
 "nbformat_minor": 5
}
