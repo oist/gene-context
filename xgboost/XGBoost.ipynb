{
 "cells": [
  {
   "cell_type": "markdown",
   "id": "599d715b-eebd-409c-86de-4ffca8828a24",
   "metadata": {},
   "source": [
    "# XGBoost "
   ]
  },
  {
   "cell_type": "code",
   "execution_count": 1,
   "id": "e9d33770-7a5f-48ea-a174-47be7ff1a8a4",
   "metadata": {},
   "outputs": [],
   "source": [
    "import warnings\n",
    "warnings.filterwarnings('ignore')"
   ]
  },
  {
   "cell_type": "code",
   "execution_count": 41,
   "id": "4569e2c1-33f8-402e-b8f1-35ab74df77af",
   "metadata": {},
   "outputs": [],
   "source": [
    "import os\n",
    "import pickle\n",
    "from collections import Counter\n",
    "\n",
    "import numpy as np\n",
    "import pandas as pd\n",
    "import polars as pl\n",
    "import matplotlib.pyplot as plt\n",
    "import seaborn as sns\n",
    "from tqdm import tqdm\n",
    "\n",
    "from sklearn.preprocessing import MaxAbsScaler, StandardScaler\n",
    "from sklearn.model_selection import train_test_split\n",
    "from sklearn.model_selection import cross_val_score\n",
    "from sklearn.pipeline import make_pipeline\n",
    "from sklearn.metrics import accuracy_score, balanced_accuracy_score, precision_score, recall_score, f1_score\n",
    "from xgboost import XGBClassifier"
   ]
  },
  {
   "cell_type": "code",
   "execution_count": 3,
   "id": "be4cabfb-c3d7-472e-bd89-360b2120f9dc",
   "metadata": {},
   "outputs": [],
   "source": [
    "input_file = 'data/all_gene_annotations.added_incompleteness_and_contamination.tsv'\n",
    "y = 'data/bacdive_scrape_20230315.json.parsed.anaerobe_vs_aerobe.with_cyanos.csv'\n",
    "\n",
    "#parametres\n",
    "target_column = 'oxytolerance'\n",
    "threads = 64"
   ]
  },
  {
   "cell_type": "code",
   "execution_count": null,
   "id": "7369713b-94f9-4359-af11-4c3fde03722b",
   "metadata": {},
   "outputs": [],
   "source": []
  },
  {
   "cell_type": "markdown",
   "id": "f38dbb5f-03f5-43cd-8115-c05a442fce66",
   "metadata": {},
   "source": [
    "## Data"
   ]
  },
  {
   "cell_type": "code",
   "execution_count": 4,
   "id": "ec263dd7-eed9-40e9-a45f-dc539ad1031f",
   "metadata": {},
   "outputs": [
    {
     "name": "stdout",
     "output_type": "stream",
     "text": [
      "Read in 47894 GTDB reps\n"
     ]
    }
   ],
   "source": [
    "# Read GTDB\n",
    "gtdb = pl.concat([\n",
    "    pl.read_csv('data/bac120_metadata_r202.tsv', separator=\"\\t\"),\n",
    "    pl.read_csv('data/ar122_metadata_r202.tsv', separator=\"\\t\")\n",
    "])\n",
    "gtdb = gtdb.filter(pl.col(\"gtdb_representative\") == \"t\")\n",
    "print(\"Read in {} GTDB reps\".format(len(gtdb)))\n",
    "\n",
    "gtdb = gtdb.with_columns(pl.col(\"gtdb_taxonomy\").str.split(';').list.get(0).alias(\"domain\"))\n",
    "gtdb = gtdb.with_columns(pl.col(\"gtdb_taxonomy\").str.split(';').list.get(1).alias(\"phylum\"))\n",
    "gtdb = gtdb.with_columns(pl.col(\"gtdb_taxonomy\").str.split(';').list.get(2).alias(\"class\"))\n",
    "gtdb = gtdb.with_columns(pl.col(\"gtdb_taxonomy\").str.split(';').list.get(3).alias(\"order\"))\n",
    "gtdb = gtdb.with_columns(pl.col(\"gtdb_taxonomy\").str.split(';').list.get(4).alias(\"family\"))\n",
    "gtdb = gtdb.with_columns(pl.col(\"gtdb_taxonomy\").str.split(';').list.get(5).alias(\"genus\"))"
   ]
  },
  {
   "cell_type": "code",
   "execution_count": 5,
   "id": "3eb916da-1710-42aa-b13d-b6b8b8923265",
   "metadata": {},
   "outputs": [
    {
     "name": "stdout",
     "output_type": "stream",
     "text": [
      "Read full data: %s (147744, 2680)\n",
      "Total in d2 full data: %s (147744, 2686)\n"
     ]
    }
   ],
   "source": [
    "# Read full data (for EDA use train+test)\n",
    "d = pl.read_csv(input_file,separator=\"\\t\")#accession fpr fnr {COGs}\n",
    "print(\"Read full data: %s\", d.shape)\n",
    "\n",
    "# Add metadata (join based on accession)\n",
    "d2 = d.join(gtdb.select(['accession','domain', 'phylum','class','order','family','genus']), on=\"accession\", how=\"left\")#accession fpr fnr {COGs} phylum class order family\n",
    "#d2 = d.join(gtdb.select(['accession', 'phylum','class','order','family','genus']), on=\"accession\", how=\"left\")#accession fpr fnr {COGs} phylum class order family\n",
    "print(\"Total in d2 full data: %s\", d2.shape)"
   ]
  },
  {
   "cell_type": "code",
   "execution_count": 6,
   "id": "adc5af40-9217-484f-affe-3e293a134209",
   "metadata": {},
   "outputs": [
    {
     "name": "stdout",
     "output_type": "stream",
     "text": [
      "Read y: %s (3161, 2)\n",
      "Counts of each class amongst unique accessions: %s shape: (2, 2)\n",
      "┌──────────────┬──────┐\n",
      "│ oxytolerance ┆ len  │\n",
      "│ ---          ┆ ---  │\n",
      "│ str          ┆ u32  │\n",
      "╞══════════════╪══════╡\n",
      "│ aerobe       ┆ 2106 │\n",
      "│ anaerobe     ┆ 1055 │\n",
      "└──────────────┴──────┘\n"
     ]
    }
   ],
   "source": [
    "# Read y\n",
    "y0 = pl.read_csv(y, separator=\"\\t\")\n",
    "y1 = y0.unique() # There are some duplicates in the cyanos, so dedup\n",
    "print(\"Read y: %s\", y1.shape)\n",
    "print(\"Counts of each class amongst unique accessions: %s\", y1.group_by(target_column).agg(pl.len()))#FIXED"
   ]
  },
  {
   "cell_type": "code",
   "execution_count": 7,
   "id": "5b562905-340b-49e6-838b-47ede576d9c5",
   "metadata": {},
   "outputs": [
    {
     "name": "stdout",
     "output_type": "stream",
     "text": [
      "Counts of each class in training/test data: %s shape: (2, 2)\n",
      "┌──────────────┬───────┐\n",
      "│ oxytolerance ┆ len   │\n",
      "│ ---          ┆ ---   │\n",
      "│ str          ┆ u32   │\n",
      "╞══════════════╪═══════╡\n",
      "│ aerobe       ┆ 75816 │\n",
      "│ anaerobe     ┆ 37980 │\n",
      "└──────────────┴───────┘\n"
     ]
    }
   ],
   "source": [
    "d3 = d2.join(y1, on=\"accession\", how=\"inner\") # Inner join because test accessions are in y1 but not in d2\n",
    "print(\"Counts of each class in training/test data: %s\", d3.group_by(target_column).agg(pl.len()))"
   ]
  },
  {
   "cell_type": "code",
   "execution_count": 8,
   "id": "d6c2cab2-763b-44ce-843d-188c109242d2",
   "metadata": {},
   "outputs": [],
   "source": [
    "d3_bf = d3"
   ]
  },
  {
   "cell_type": "markdown",
   "id": "08d0221b-7fa6-4945-ace8-d201f1a00600",
   "metadata": {},
   "source": [
    "without noise (w/o FP & FN)"
   ]
  },
  {
   "cell_type": "code",
   "execution_count": 9,
   "id": "407ae3a9-74f4-4ba0-952e-3f32d60b8019",
   "metadata": {},
   "outputs": [
    {
     "name": "stdout",
     "output_type": "stream",
     "text": [
      "Before filtering 113796\n",
      "After filtering 3161\n"
     ]
    },
    {
     "data": {
      "text/html": [
       "<div><style>\n",
       ".dataframe > thead > tr,\n",
       ".dataframe > tbody > tr {\n",
       "  text-align: right;\n",
       "  white-space: pre-wrap;\n",
       "}\n",
       "</style>\n",
       "<small>shape: (5, 2_687)</small><table border=\"1\" class=\"dataframe\"><thead><tr><th>accession</th><th>false_negative_rate</th><th>false_positive_rate</th><th>COG0001</th><th>COG0002</th><th>COG0003</th><th>COG0004</th><th>COG0005</th><th>COG0007</th><th>COG0008</th><th>COG0010</th><th>COG0012</th><th>COG0013</th><th>COG0015</th><th>COG0016</th><th>COG0017</th><th>COG0018</th><th>COG0019</th><th>COG0022</th><th>COG0023</th><th>COG0025</th><th>COG0026</th><th>COG0027</th><th>COG0028</th><th>COG0029</th><th>COG0030</th><th>COG0033</th><th>COG0035</th><th>COG0036</th><th>COG0038</th><th>COG0039</th><th>COG0041</th><th>COG0042</th><th>COG0043</th><th>COG0044</th><th>COG0045</th><th>COG0046</th><th>&hellip;</th><th>COG5525</th><th>COG5531</th><th>COG5542</th><th>COG5553</th><th>COG5554</th><th>COG5555</th><th>COG5557</th><th>COG5565</th><th>COG5569</th><th>COG5570</th><th>COG5571</th><th>COG5573</th><th>COG5581</th><th>COG5590</th><th>COG5592</th><th>COG5597</th><th>COG5598</th><th>COG5605</th><th>COG5606</th><th>COG5610</th><th>COG5611</th><th>COG5615</th><th>COG5621</th><th>COG5625</th><th>COG5632</th><th>COG5640</th><th>COG5643</th><th>COG5650</th><th>COG5652</th><th>COG5663</th><th>domain</th><th>phylum</th><th>class</th><th>order</th><th>family</th><th>genus</th><th>oxytolerance</th></tr><tr><td>str</td><td>f64</td><td>f64</td><td>i64</td><td>i64</td><td>i64</td><td>i64</td><td>i64</td><td>i64</td><td>i64</td><td>i64</td><td>i64</td><td>i64</td><td>i64</td><td>i64</td><td>i64</td><td>i64</td><td>i64</td><td>i64</td><td>i64</td><td>i64</td><td>i64</td><td>i64</td><td>i64</td><td>i64</td><td>i64</td><td>i64</td><td>i64</td><td>i64</td><td>i64</td><td>i64</td><td>i64</td><td>i64</td><td>i64</td><td>i64</td><td>i64</td><td>i64</td><td>&hellip;</td><td>i64</td><td>i64</td><td>i64</td><td>i64</td><td>i64</td><td>i64</td><td>i64</td><td>i64</td><td>i64</td><td>i64</td><td>i64</td><td>i64</td><td>i64</td><td>i64</td><td>i64</td><td>i64</td><td>i64</td><td>i64</td><td>i64</td><td>i64</td><td>i64</td><td>i64</td><td>i64</td><td>i64</td><td>i64</td><td>i64</td><td>i64</td><td>i64</td><td>i64</td><td>i64</td><td>str</td><td>str</td><td>str</td><td>str</td><td>str</td><td>str</td><td>str</td></tr></thead><tbody><tr><td>&quot;GB_GCA_000010565.1&quot;</td><td>0.0</td><td>0.0</td><td>1</td><td>1</td><td>0</td><td>1</td><td>2</td><td>1</td><td>1</td><td>1</td><td>1</td><td>2</td><td>1</td><td>1</td><td>1</td><td>1</td><td>1</td><td>0</td><td>0</td><td>0</td><td>0</td><td>0</td><td>2</td><td>1</td><td>1</td><td>0</td><td>0</td><td>1</td><td>0</td><td>1</td><td>1</td><td>1</td><td>1</td><td>1</td><td>1</td><td>0</td><td>&hellip;</td><td>0</td><td>0</td><td>1</td><td>0</td><td>0</td><td>0</td><td>1</td><td>0</td><td>0</td><td>0</td><td>0</td><td>3</td><td>2</td><td>0</td><td>0</td><td>0</td><td>0</td><td>0</td><td>0</td><td>0</td><td>0</td><td>0</td><td>0</td><td>0</td><td>2</td><td>0</td><td>0</td><td>0</td><td>0</td><td>1</td><td>&quot;d__Bacteria&quot;</td><td>&quot;p__Firmicutes_B&quot;</td><td>&quot;c__Desulfotomaculia&quot;</td><td>&quot;o__Desulfotomaculales&quot;</td><td>&quot;f__Pelotomaculaceae&quot;</td><td>&quot;g__Pelotomaculum&quot;</td><td>&quot;anaerobe&quot;</td></tr><tr><td>&quot;GB_GCA_000018565.1&quot;</td><td>0.0</td><td>0.0</td><td>1</td><td>1</td><td>1</td><td>3</td><td>3</td><td>0</td><td>1</td><td>1</td><td>1</td><td>2</td><td>1</td><td>1</td><td>1</td><td>2</td><td>2</td><td>0</td><td>0</td><td>0</td><td>1</td><td>0</td><td>1</td><td>1</td><td>1</td><td>0</td><td>1</td><td>1</td><td>1</td><td>1</td><td>1</td><td>1</td><td>1</td><td>1</td><td>1</td><td>0</td><td>&hellip;</td><td>0</td><td>0</td><td>0</td><td>1</td><td>0</td><td>0</td><td>0</td><td>0</td><td>0</td><td>0</td><td>0</td><td>0</td><td>0</td><td>0</td><td>0</td><td>0</td><td>0</td><td>0</td><td>0</td><td>0</td><td>0</td><td>0</td><td>0</td><td>0</td><td>1</td><td>1</td><td>0</td><td>0</td><td>0</td><td>0</td><td>&quot;d__Bacteria&quot;</td><td>&quot;p__Chloroflexota&quot;</td><td>&quot;c__Chloroflexia&quot;</td><td>&quot;o__Chloroflexales&quot;</td><td>&quot;f__Herpetosiphonaceae&quot;</td><td>&quot;g__Herpetosiphon&quot;</td><td>&quot;aerobe&quot;</td></tr><tr><td>&quot;GB_GCA_000145985.1&quot;</td><td>0.0</td><td>0.0</td><td>1</td><td>0</td><td>0</td><td>0</td><td>0</td><td>0</td><td>0</td><td>1</td><td>0</td><td>1</td><td>1</td><td>1</td><td>0</td><td>1</td><td>0</td><td>0</td><td>1</td><td>0</td><td>0</td><td>1</td><td>1</td><td>0</td><td>1</td><td>0</td><td>0</td><td>0</td><td>0</td><td>0</td><td>1</td><td>0</td><td>0</td><td>1</td><td>0</td><td>1</td><td>&hellip;</td><td>0</td><td>0</td><td>0</td><td>0</td><td>0</td><td>0</td><td>0</td><td>0</td><td>0</td><td>0</td><td>0</td><td>0</td><td>0</td><td>0</td><td>0</td><td>0</td><td>0</td><td>0</td><td>0</td><td>0</td><td>0</td><td>0</td><td>0</td><td>0</td><td>0</td><td>0</td><td>0</td><td>0</td><td>0</td><td>0</td><td>&quot;d__Archaea&quot;</td><td>&quot;p__Thermoproteota&quot;</td><td>&quot;c__Thermoproteia&quot;</td><td>&quot;o__Sulfolobales&quot;</td><td>&quot;f__Ignisphaeraceae&quot;</td><td>&quot;g__Ignisphaera&quot;</td><td>&quot;anaerobe&quot;</td></tr><tr><td>&quot;GB_GCA_000210715.1&quot;</td><td>0.0</td><td>0.0</td><td>0</td><td>0</td><td>0</td><td>0</td><td>0</td><td>1</td><td>1</td><td>0</td><td>1</td><td>1</td><td>1</td><td>1</td><td>0</td><td>1</td><td>1</td><td>0</td><td>0</td><td>0</td><td>0</td><td>0</td><td>0</td><td>0</td><td>0</td><td>2</td><td>1</td><td>0</td><td>1</td><td>0</td><td>0</td><td>1</td><td>0</td><td>1</td><td>0</td><td>0</td><td>&hellip;</td><td>0</td><td>0</td><td>0</td><td>0</td><td>0</td><td>0</td><td>0</td><td>0</td><td>0</td><td>0</td><td>0</td><td>0</td><td>1</td><td>0</td><td>0</td><td>0</td><td>0</td><td>0</td><td>0</td><td>0</td><td>0</td><td>0</td><td>0</td><td>0</td><td>0</td><td>0</td><td>0</td><td>0</td><td>0</td><td>0</td><td>&quot;d__Bacteria&quot;</td><td>&quot;p__Synergistota&quot;</td><td>&quot;c__Synergistia&quot;</td><td>&quot;o__Synergistales&quot;</td><td>&quot;f__Aminobacteriaceae&quot;</td><td>&quot;g__Fretibacterium&quot;</td><td>&quot;anaerobe&quot;</td></tr><tr><td>&quot;GB_GCA_000214705.1&quot;</td><td>0.0</td><td>0.0</td><td>1</td><td>1</td><td>0</td><td>1</td><td>2</td><td>1</td><td>1</td><td>2</td><td>1</td><td>1</td><td>1</td><td>1</td><td>0</td><td>1</td><td>1</td><td>0</td><td>0</td><td>0</td><td>0</td><td>0</td><td>2</td><td>1</td><td>1</td><td>0</td><td>0</td><td>1</td><td>0</td><td>1</td><td>1</td><td>1</td><td>1</td><td>1</td><td>2</td><td>0</td><td>&hellip;</td><td>0</td><td>0</td><td>1</td><td>0</td><td>0</td><td>0</td><td>0</td><td>0</td><td>0</td><td>0</td><td>0</td><td>0</td><td>1</td><td>0</td><td>0</td><td>0</td><td>0</td><td>0</td><td>0</td><td>0</td><td>0</td><td>0</td><td>0</td><td>0</td><td>0</td><td>0</td><td>0</td><td>0</td><td>1</td><td>0</td><td>&quot;d__Bacteria&quot;</td><td>&quot;p__Firmicutes_B&quot;</td><td>&quot;c__Desulfotomaculia&quot;</td><td>&quot;o__Desulfotomaculales&quot;</td><td>&quot;f__Desulfovirgulaceae&quot;</td><td>&quot;g__Desulfofundulus&quot;</td><td>&quot;anaerobe&quot;</td></tr></tbody></table></div>"
      ],
      "text/plain": [
       "shape: (5, 2_687)\n",
       "┌────────────┬───────────┬───────────┬─────────┬───┬───────────┬───────────┬───────────┬───────────┐\n",
       "│ accession  ┆ false_neg ┆ false_pos ┆ COG0001 ┆ … ┆ order     ┆ family    ┆ genus     ┆ oxytolera │\n",
       "│ ---        ┆ ative_rat ┆ itive_rat ┆ ---     ┆   ┆ ---       ┆ ---       ┆ ---       ┆ nce       │\n",
       "│ str        ┆ e         ┆ e         ┆ i64     ┆   ┆ str       ┆ str       ┆ str       ┆ ---       │\n",
       "│            ┆ ---       ┆ ---       ┆         ┆   ┆           ┆           ┆           ┆ str       │\n",
       "│            ┆ f64       ┆ f64       ┆         ┆   ┆           ┆           ┆           ┆           │\n",
       "╞════════════╪═══════════╪═══════════╪═════════╪═══╪═══════════╪═══════════╪═══════════╪═══════════╡\n",
       "│ GB_GCA_000 ┆ 0.0       ┆ 0.0       ┆ 1       ┆ … ┆ o__Desulf ┆ f__Peloto ┆ g__Peloto ┆ anaerobe  │\n",
       "│ 010565.1   ┆           ┆           ┆         ┆   ┆ otomacula ┆ maculacea ┆ maculum   ┆           │\n",
       "│            ┆           ┆           ┆         ┆   ┆ les       ┆ e         ┆           ┆           │\n",
       "│ GB_GCA_000 ┆ 0.0       ┆ 0.0       ┆ 1       ┆ … ┆ o__Chloro ┆ f__Herpet ┆ g__Herpet ┆ aerobe    │\n",
       "│ 018565.1   ┆           ┆           ┆         ┆   ┆ flexales  ┆ osiphonac ┆ osiphon   ┆           │\n",
       "│            ┆           ┆           ┆         ┆   ┆           ┆ eae       ┆           ┆           │\n",
       "│ GB_GCA_000 ┆ 0.0       ┆ 0.0       ┆ 1       ┆ … ┆ o__Sulfol ┆ f__Ignisp ┆ g__Ignisp ┆ anaerobe  │\n",
       "│ 145985.1   ┆           ┆           ┆         ┆   ┆ obales    ┆ haeraceae ┆ haera     ┆           │\n",
       "│ GB_GCA_000 ┆ 0.0       ┆ 0.0       ┆ 0       ┆ … ┆ o__Synerg ┆ f__Aminob ┆ g__Fretib ┆ anaerobe  │\n",
       "│ 210715.1   ┆           ┆           ┆         ┆   ┆ istales   ┆ acteriace ┆ acterium  ┆           │\n",
       "│            ┆           ┆           ┆         ┆   ┆           ┆ ae        ┆           ┆           │\n",
       "│ GB_GCA_000 ┆ 0.0       ┆ 0.0       ┆ 1       ┆ … ┆ o__Desulf ┆ f__Desulf ┆ g__Desulf ┆ anaerobe  │\n",
       "│ 214705.1   ┆           ┆           ┆         ┆   ┆ otomacula ┆ ovirgulac ┆ ofundulus ┆           │\n",
       "│            ┆           ┆           ┆         ┆   ┆ les       ┆ eae       ┆           ┆           │\n",
       "└────────────┴───────────┴───────────┴─────────┴───┴───────────┴───────────┴───────────┴───────────┘"
      ]
     },
     "execution_count": 9,
     "metadata": {},
     "output_type": "execute_result"
    }
   ],
   "source": [
    "#w/o FP FN\n",
    "print(f'Before filtering {len(d3)}')\n",
    "d3 = d3.filter(pl.col(\"false_negative_rate\") == 0)\n",
    "d3 = d3.filter(pl.col(\"false_positive_rate\") == 0)\n",
    "print(f'After filtering {len(d3)}')\n",
    "\n",
    "d3.head()"
   ]
  },
  {
   "cell_type": "code",
   "execution_count": 10,
   "id": "14cd6006-c848-40a0-b0fe-065d121ef0a0",
   "metadata": {},
   "outputs": [
    {
     "name": "stdout",
     "output_type": "stream",
     "text": [
      "Counts of y: %s shape: (2, 2)\n",
      "┌──────────────┬──────┐\n",
      "│ oxytolerance ┆ len  │\n",
      "│ ---          ┆ ---  │\n",
      "│ i32          ┆ u32  │\n",
      "╞══════════════╪══════╡\n",
      "│ 0            ┆ 1055 │\n",
      "│ 1            ┆ 2106 │\n",
      "└──────────────┴──────┘\n"
     ]
    }
   ],
   "source": [
    "y = y1\n",
    "\n",
    "classes_map = {\n",
    "    'anaerobe': 0,\n",
    "    'aerobe': 1,\n",
    "}      \n",
    "\n",
    "y = d3.with_columns(\n",
    "    pl.col(target_column)\n",
    "    .replace_strict(classes_map, default='unknown')\n",
    "    .alias(target_column)\n",
    ")\n",
    "\n",
    "y = y.with_columns(\n",
    "    pl.col(target_column).cast(pl.Int32)  # Change to Int32\n",
    ")\n",
    "            \n",
    "print(\"Counts of y: %s\", y.group_by(target_column).agg(pl.len()))\n",
    "\n",
    "y = y.to_pandas()\n",
    "y = y.iloc[:, -1]"
   ]
  },
  {
   "cell_type": "code",
   "execution_count": 11,
   "id": "dfe2ed15-b99a-4414-a3f0-5a440f7433c1",
   "metadata": {
    "scrolled": true
   },
   "outputs": [
    {
     "data": {
      "text/html": [
       "<div>\n",
       "<style scoped>\n",
       "    .dataframe tbody tr th:only-of-type {\n",
       "        vertical-align: middle;\n",
       "    }\n",
       "\n",
       "    .dataframe tbody tr th {\n",
       "        vertical-align: top;\n",
       "    }\n",
       "\n",
       "    .dataframe thead th {\n",
       "        text-align: right;\n",
       "    }\n",
       "</style>\n",
       "<table border=\"1\" class=\"dataframe\">\n",
       "  <thead>\n",
       "    <tr style=\"text-align: right;\">\n",
       "      <th></th>\n",
       "      <th>COG0001</th>\n",
       "      <th>COG0002</th>\n",
       "      <th>COG0003</th>\n",
       "      <th>COG0004</th>\n",
       "      <th>COG0005</th>\n",
       "      <th>COG0007</th>\n",
       "      <th>COG0008</th>\n",
       "      <th>COG0010</th>\n",
       "      <th>COG0012</th>\n",
       "      <th>COG0013</th>\n",
       "      <th>...</th>\n",
       "      <th>COG5611</th>\n",
       "      <th>COG5615</th>\n",
       "      <th>COG5621</th>\n",
       "      <th>COG5625</th>\n",
       "      <th>COG5632</th>\n",
       "      <th>COG5640</th>\n",
       "      <th>COG5643</th>\n",
       "      <th>COG5650</th>\n",
       "      <th>COG5652</th>\n",
       "      <th>COG5663</th>\n",
       "    </tr>\n",
       "  </thead>\n",
       "  <tbody>\n",
       "    <tr>\n",
       "      <th>0</th>\n",
       "      <td>1</td>\n",
       "      <td>1</td>\n",
       "      <td>0</td>\n",
       "      <td>1</td>\n",
       "      <td>2</td>\n",
       "      <td>1</td>\n",
       "      <td>1</td>\n",
       "      <td>1</td>\n",
       "      <td>1</td>\n",
       "      <td>2</td>\n",
       "      <td>...</td>\n",
       "      <td>0</td>\n",
       "      <td>0</td>\n",
       "      <td>0</td>\n",
       "      <td>0</td>\n",
       "      <td>2</td>\n",
       "      <td>0</td>\n",
       "      <td>0</td>\n",
       "      <td>0</td>\n",
       "      <td>0</td>\n",
       "      <td>1</td>\n",
       "    </tr>\n",
       "    <tr>\n",
       "      <th>1</th>\n",
       "      <td>1</td>\n",
       "      <td>1</td>\n",
       "      <td>1</td>\n",
       "      <td>3</td>\n",
       "      <td>3</td>\n",
       "      <td>0</td>\n",
       "      <td>1</td>\n",
       "      <td>1</td>\n",
       "      <td>1</td>\n",
       "      <td>2</td>\n",
       "      <td>...</td>\n",
       "      <td>0</td>\n",
       "      <td>0</td>\n",
       "      <td>0</td>\n",
       "      <td>0</td>\n",
       "      <td>1</td>\n",
       "      <td>1</td>\n",
       "      <td>0</td>\n",
       "      <td>0</td>\n",
       "      <td>0</td>\n",
       "      <td>0</td>\n",
       "    </tr>\n",
       "    <tr>\n",
       "      <th>2</th>\n",
       "      <td>1</td>\n",
       "      <td>0</td>\n",
       "      <td>0</td>\n",
       "      <td>0</td>\n",
       "      <td>0</td>\n",
       "      <td>0</td>\n",
       "      <td>0</td>\n",
       "      <td>1</td>\n",
       "      <td>0</td>\n",
       "      <td>1</td>\n",
       "      <td>...</td>\n",
       "      <td>0</td>\n",
       "      <td>0</td>\n",
       "      <td>0</td>\n",
       "      <td>0</td>\n",
       "      <td>0</td>\n",
       "      <td>0</td>\n",
       "      <td>0</td>\n",
       "      <td>0</td>\n",
       "      <td>0</td>\n",
       "      <td>0</td>\n",
       "    </tr>\n",
       "    <tr>\n",
       "      <th>3</th>\n",
       "      <td>0</td>\n",
       "      <td>0</td>\n",
       "      <td>0</td>\n",
       "      <td>0</td>\n",
       "      <td>0</td>\n",
       "      <td>1</td>\n",
       "      <td>1</td>\n",
       "      <td>0</td>\n",
       "      <td>1</td>\n",
       "      <td>1</td>\n",
       "      <td>...</td>\n",
       "      <td>0</td>\n",
       "      <td>0</td>\n",
       "      <td>0</td>\n",
       "      <td>0</td>\n",
       "      <td>0</td>\n",
       "      <td>0</td>\n",
       "      <td>0</td>\n",
       "      <td>0</td>\n",
       "      <td>0</td>\n",
       "      <td>0</td>\n",
       "    </tr>\n",
       "    <tr>\n",
       "      <th>4</th>\n",
       "      <td>1</td>\n",
       "      <td>1</td>\n",
       "      <td>0</td>\n",
       "      <td>1</td>\n",
       "      <td>2</td>\n",
       "      <td>1</td>\n",
       "      <td>1</td>\n",
       "      <td>2</td>\n",
       "      <td>1</td>\n",
       "      <td>1</td>\n",
       "      <td>...</td>\n",
       "      <td>0</td>\n",
       "      <td>0</td>\n",
       "      <td>0</td>\n",
       "      <td>0</td>\n",
       "      <td>0</td>\n",
       "      <td>0</td>\n",
       "      <td>0</td>\n",
       "      <td>0</td>\n",
       "      <td>1</td>\n",
       "      <td>0</td>\n",
       "    </tr>\n",
       "    <tr>\n",
       "      <th>...</th>\n",
       "      <td>...</td>\n",
       "      <td>...</td>\n",
       "      <td>...</td>\n",
       "      <td>...</td>\n",
       "      <td>...</td>\n",
       "      <td>...</td>\n",
       "      <td>...</td>\n",
       "      <td>...</td>\n",
       "      <td>...</td>\n",
       "      <td>...</td>\n",
       "      <td>...</td>\n",
       "      <td>...</td>\n",
       "      <td>...</td>\n",
       "      <td>...</td>\n",
       "      <td>...</td>\n",
       "      <td>...</td>\n",
       "      <td>...</td>\n",
       "      <td>...</td>\n",
       "      <td>...</td>\n",
       "      <td>...</td>\n",
       "      <td>...</td>\n",
       "    </tr>\n",
       "    <tr>\n",
       "      <th>3156</th>\n",
       "      <td>1</td>\n",
       "      <td>1</td>\n",
       "      <td>0</td>\n",
       "      <td>2</td>\n",
       "      <td>0</td>\n",
       "      <td>0</td>\n",
       "      <td>0</td>\n",
       "      <td>0</td>\n",
       "      <td>1</td>\n",
       "      <td>1</td>\n",
       "      <td>...</td>\n",
       "      <td>0</td>\n",
       "      <td>0</td>\n",
       "      <td>0</td>\n",
       "      <td>0</td>\n",
       "      <td>0</td>\n",
       "      <td>0</td>\n",
       "      <td>0</td>\n",
       "      <td>0</td>\n",
       "      <td>0</td>\n",
       "      <td>0</td>\n",
       "    </tr>\n",
       "    <tr>\n",
       "      <th>3157</th>\n",
       "      <td>2</td>\n",
       "      <td>1</td>\n",
       "      <td>0</td>\n",
       "      <td>1</td>\n",
       "      <td>0</td>\n",
       "      <td>0</td>\n",
       "      <td>0</td>\n",
       "      <td>1</td>\n",
       "      <td>1</td>\n",
       "      <td>1</td>\n",
       "      <td>...</td>\n",
       "      <td>0</td>\n",
       "      <td>0</td>\n",
       "      <td>0</td>\n",
       "      <td>0</td>\n",
       "      <td>0</td>\n",
       "      <td>0</td>\n",
       "      <td>0</td>\n",
       "      <td>0</td>\n",
       "      <td>0</td>\n",
       "      <td>0</td>\n",
       "    </tr>\n",
       "    <tr>\n",
       "      <th>3158</th>\n",
       "      <td>1</td>\n",
       "      <td>2</td>\n",
       "      <td>0</td>\n",
       "      <td>1</td>\n",
       "      <td>0</td>\n",
       "      <td>0</td>\n",
       "      <td>0</td>\n",
       "      <td>1</td>\n",
       "      <td>1</td>\n",
       "      <td>1</td>\n",
       "      <td>...</td>\n",
       "      <td>0</td>\n",
       "      <td>0</td>\n",
       "      <td>0</td>\n",
       "      <td>0</td>\n",
       "      <td>0</td>\n",
       "      <td>0</td>\n",
       "      <td>0</td>\n",
       "      <td>0</td>\n",
       "      <td>1</td>\n",
       "      <td>0</td>\n",
       "    </tr>\n",
       "    <tr>\n",
       "      <th>3159</th>\n",
       "      <td>1</td>\n",
       "      <td>2</td>\n",
       "      <td>0</td>\n",
       "      <td>1</td>\n",
       "      <td>0</td>\n",
       "      <td>0</td>\n",
       "      <td>0</td>\n",
       "      <td>0</td>\n",
       "      <td>1</td>\n",
       "      <td>1</td>\n",
       "      <td>...</td>\n",
       "      <td>0</td>\n",
       "      <td>0</td>\n",
       "      <td>0</td>\n",
       "      <td>0</td>\n",
       "      <td>0</td>\n",
       "      <td>0</td>\n",
       "      <td>0</td>\n",
       "      <td>0</td>\n",
       "      <td>1</td>\n",
       "      <td>0</td>\n",
       "    </tr>\n",
       "    <tr>\n",
       "      <th>3160</th>\n",
       "      <td>2</td>\n",
       "      <td>1</td>\n",
       "      <td>0</td>\n",
       "      <td>1</td>\n",
       "      <td>0</td>\n",
       "      <td>1</td>\n",
       "      <td>0</td>\n",
       "      <td>0</td>\n",
       "      <td>1</td>\n",
       "      <td>0</td>\n",
       "      <td>...</td>\n",
       "      <td>0</td>\n",
       "      <td>0</td>\n",
       "      <td>1</td>\n",
       "      <td>0</td>\n",
       "      <td>0</td>\n",
       "      <td>0</td>\n",
       "      <td>0</td>\n",
       "      <td>0</td>\n",
       "      <td>0</td>\n",
       "      <td>0</td>\n",
       "    </tr>\n",
       "  </tbody>\n",
       "</table>\n",
       "<p>3161 rows × 2672 columns</p>\n",
       "</div>"
      ],
      "text/plain": [
       "      COG0001  COG0002  COG0003  COG0004  COG0005  COG0007  COG0008  COG0010  \\\n",
       "0           1        1        0        1        2        1        1        1   \n",
       "1           1        1        1        3        3        0        1        1   \n",
       "2           1        0        0        0        0        0        0        1   \n",
       "3           0        0        0        0        0        1        1        0   \n",
       "4           1        1        0        1        2        1        1        2   \n",
       "...       ...      ...      ...      ...      ...      ...      ...      ...   \n",
       "3156        1        1        0        2        0        0        0        0   \n",
       "3157        2        1        0        1        0        0        0        1   \n",
       "3158        1        2        0        1        0        0        0        1   \n",
       "3159        1        2        0        1        0        0        0        0   \n",
       "3160        2        1        0        1        0        1        0        0   \n",
       "\n",
       "      COG0012  COG0013  ...  COG5611  COG5615  COG5621  COG5625  COG5632  \\\n",
       "0           1        2  ...        0        0        0        0        2   \n",
       "1           1        2  ...        0        0        0        0        1   \n",
       "2           0        1  ...        0        0        0        0        0   \n",
       "3           1        1  ...        0        0        0        0        0   \n",
       "4           1        1  ...        0        0        0        0        0   \n",
       "...       ...      ...  ...      ...      ...      ...      ...      ...   \n",
       "3156        1        1  ...        0        0        0        0        0   \n",
       "3157        1        1  ...        0        0        0        0        0   \n",
       "3158        1        1  ...        0        0        0        0        0   \n",
       "3159        1        1  ...        0        0        0        0        0   \n",
       "3160        1        0  ...        0        0        1        0        0   \n",
       "\n",
       "      COG5640  COG5643  COG5650  COG5652  COG5663  \n",
       "0           0        0        0        0        1  \n",
       "1           1        0        0        0        0  \n",
       "2           0        0        0        0        0  \n",
       "3           0        0        0        0        0  \n",
       "4           0        0        0        1        0  \n",
       "...       ...      ...      ...      ...      ...  \n",
       "3156        0        0        0        0        0  \n",
       "3157        0        0        0        0        0  \n",
       "3158        0        0        0        1        0  \n",
       "3159        0        0        0        1        0  \n",
       "3160        0        0        0        0        0  \n",
       "\n",
       "[3161 rows x 2672 columns]"
      ]
     },
     "execution_count": 11,
     "metadata": {},
     "output_type": "execute_result"
    }
   ],
   "source": [
    "#X = d3.select(pl.exclude(['accession',target_column,'phylum','class','order','family','genus','false_negative_rate','false_positive_rate'])).to_pandas()\n",
    "X = d3.select(pl.exclude(['accession',target_column,'domain','phylum','class','order','family','genus','false_negative_rate','false_positive_rate'])).to_pandas()\n",
    "\n",
    "# Blacklist these as they aren't in the current ancestral file, not sure why\n",
    "X = X.drop(['COG0411', 'COG0459', 'COG0564', 'COG1344', 'COG4177'], axis=1)\n",
    "\n",
    "X"
   ]
  },
  {
   "cell_type": "code",
   "execution_count": null,
   "id": "8a6d3eda-12ff-4180-8661-86d4fb2b4c1e",
   "metadata": {},
   "outputs": [],
   "source": []
  },
  {
   "cell_type": "markdown",
   "id": "36c2db78-df60-416d-8404-96a4ea5ee047",
   "metadata": {},
   "source": [
    "## Model"
   ]
  },
  {
   "cell_type": "code",
   "execution_count": 12,
   "id": "53f7332d-5d4f-40bb-ab60-d60acb9a4c58",
   "metadata": {},
   "outputs": [],
   "source": [
    "#model\n",
    "pipe = make_pipeline(\n",
    "    MaxAbsScaler(),\n",
    "    XGBClassifier(n_jobs=threads, use_label_encoder=False)\n",
    ")"
   ]
  },
  {
   "cell_type": "code",
   "execution_count": null,
   "id": "0f5d8e17-f2f6-4451-87e8-be9a4438b27e",
   "metadata": {},
   "outputs": [],
   "source": []
  },
  {
   "cell_type": "markdown",
   "id": "b7749d07-0cbe-4194-9f98-bbf6bcc11fa5",
   "metadata": {},
   "source": [
    "## Test/Train split"
   ]
  },
  {
   "cell_type": "markdown",
   "id": "9c21789b-e8f8-4f67-a5a6-bf9a85206a7f",
   "metadata": {},
   "source": [
    "### By domain (bact -> train arch -> test)"
   ]
  },
  {
   "cell_type": "code",
   "execution_count": 13,
   "id": "3ff77a64-5c24-476d-a654-b76165cb4bd5",
   "metadata": {},
   "outputs": [
    {
     "name": "stdout",
     "output_type": "stream",
     "text": [
      "Train/test split is 94%/6%\n",
      "Train: 2976\tTest: 185\n"
     ]
    }
   ],
   "source": [
    "groups = d3['domain']\n",
    "groups\n",
    "\n",
    "data = pd.DataFrame(X)\n",
    "data['target'] = y\n",
    "data['group'] = groups\n",
    "data\n",
    "\n",
    "unique_group = data['group'].unique()\n",
    "unique_group\n",
    "\n",
    "#train_groups, test_groups = train_test_split(unique_group, test_size=0.2, random_state=42)#Not for the domain\n",
    "train_groups = ['d__Bacteria']\n",
    "test_groups = ['d__Archaea']\n",
    "\n",
    "train_mask = data['group'].isin(train_groups)\n",
    "test_mask = data['group'].isin(test_groups)\n",
    "train_mask\n",
    "\n",
    "X_train = data[train_mask].drop(columns=['target', 'group']).values\n",
    "y_train = data[train_mask]['target'].values\n",
    "X_test = data[test_mask].drop(columns=['target', 'group']).values\n",
    "y_test = data[test_mask]['target'].values\n",
    "\n",
    "print(f'Train/test split is {(len(y_train)/(len(y_train) + len(y_test)) * 100):.0f}%/{(len(y_test)/(len(y_train) + len(y_test)) * 100):.0f}%')\n",
    "print(f'Train: {X_train.shape[0]}\\tTest: {X_test.shape[0]}')"
   ]
  },
  {
   "cell_type": "code",
   "execution_count": 14,
   "id": "05e6f0db-09f3-481c-9dbc-ae9fb68494e3",
   "metadata": {
    "scrolled": true
   },
   "outputs": [],
   "source": [
    "pipe.fit(X_train, y_train)\n",
    "\n",
    "y_pred = pipe.predict(X_test)\n",
    "\n",
    "accuracy_test = accuracy_score(y_test, y_pred)\n",
    "accuracy_train = accuracy_score(y_train, pipe.predict(X_train))\n",
    "cv_scores = cross_val_score(pipe, X_train, y_train, cv=5)\n",
    "mean_cv_accuracy = np.mean(cv_scores)"
   ]
  },
  {
   "cell_type": "code",
   "execution_count": 15,
   "id": "99dbbbd4-3535-4d7f-9271-458e70621446",
   "metadata": {},
   "outputs": [
    {
     "name": "stdout",
     "output_type": "stream",
     "text": [
      "CV_Accuracy = 0.98\n",
      "Accuracy = 0.95\n",
      "Balanced Accuracy = 0.96\n",
      "Precision = 0.89\n",
      "Recall = 0.96\n",
      "F1 = 0.92\n"
     ]
    }
   ],
   "source": [
    "print(f'CV_Accuracy = {mean_cv_accuracy:.2f}\\nAccuracy = {accuracy_score(y_test, y_pred):.2f}\\nBalanced Accuracy = {balanced_accuracy_score(y_test, y_pred):.2f}\\nPrecision = {precision_score(y_test, y_pred):.2f}\\nRecall = {recall_score(y_test, y_pred):.2f}\\nF1 = {f1_score(y_test, y_pred):.2f}')"
   ]
  },
  {
   "cell_type": "code",
   "execution_count": null,
   "id": "3e2bd54a-f63b-4279-bdb3-31f627f0c8f2",
   "metadata": {},
   "outputs": [],
   "source": []
  },
  {
   "cell_type": "markdown",
   "id": "10077d6e-1512-4ccf-8546-c3ec75a94079",
   "metadata": {},
   "source": [
    "### By phylum"
   ]
  },
  {
   "cell_type": "code",
   "execution_count": 16,
   "id": "23e855a5-4e23-43b1-be0c-583caa19366f",
   "metadata": {},
   "outputs": [
    {
     "name": "stdout",
     "output_type": "stream",
     "text": [
      "Train groups: 36\tTest groups: 9\n",
      "Train/test split is 87%/13%\n",
      "Train: 2752\tTest: 409\n"
     ]
    }
   ],
   "source": [
    "groups = d3['phylum']\n",
    "groups\n",
    "\n",
    "data = pd.DataFrame(X)\n",
    "data['target'] = y\n",
    "data['group'] = groups\n",
    "data\n",
    "\n",
    "unique_group = data['group'].unique()\n",
    "unique_group\n",
    "\n",
    "train_groups, test_groups = train_test_split(unique_group, test_size=0.2, random_state=42)#Not for the domain\n",
    "train_groups\n",
    "test_groups\n",
    "\n",
    "print(f'Train groups: {len(train_groups)}\\tTest groups: {len(test_groups)}')\n",
    "\n",
    "train_mask = data['group'].isin(train_groups)\n",
    "test_mask = data['group'].isin(test_groups)\n",
    "train_mask\n",
    "test_mask\n",
    "\n",
    "X_train = data[train_mask].drop(columns=['target', 'group']).values\n",
    "y_train = data[train_mask]['target'].values\n",
    "X_test = data[test_mask].drop(columns=['target', 'group']).values\n",
    "y_test = data[test_mask]['target'].values\n",
    "\n",
    "print(f'Train/test split is {(len(y_train)/(len(y_train) + len(y_test)) * 100):.0f}%/{(len(y_test)/(len(y_train) + len(y_test)) * 100):.0f}%')\n",
    "print(f'Train: {X_train.shape[0]}\\tTest: {X_test.shape[0]}')"
   ]
  },
  {
   "cell_type": "code",
   "execution_count": 17,
   "id": "163b6178-1af4-4c59-9cec-650e7f6c15c9",
   "metadata": {
    "scrolled": true
   },
   "outputs": [],
   "source": [
    "pipe.fit(X_train, y_train)\n",
    "\n",
    "y_pred = pipe.predict(X_test)\n",
    "\n",
    "accuracy_test = accuracy_score(y_test, y_pred)\n",
    "accuracy_train = accuracy_score(y_train, pipe.predict(X_train))\n",
    "cv_scores = cross_val_score(pipe, X_train, y_train, cv=5)\n",
    "mean_cv_accuracy = np.mean(cv_scores)"
   ]
  },
  {
   "cell_type": "code",
   "execution_count": 18,
   "id": "04c54e1d-4997-4722-84c1-dde766043afe",
   "metadata": {},
   "outputs": [
    {
     "name": "stdout",
     "output_type": "stream",
     "text": [
      "CV_Accuracy = 0.97\n",
      "Accuracy = 0.99\n",
      "Balanced Accuracy = 1.00\n",
      "Precision = 0.95\n",
      "Recall = 1.00\n",
      "F1 = 0.97\n"
     ]
    }
   ],
   "source": [
    "print(f'CV_Accuracy = {mean_cv_accuracy:.2f}\\nAccuracy = {accuracy_score(y_test, y_pred):.2f}\\nBalanced Accuracy = {balanced_accuracy_score(y_test, y_pred):.2f}\\nPrecision = {precision_score(y_test, y_pred):.2f}\\nRecall = {recall_score(y_test, y_pred):.2f}\\nF1 = {f1_score(y_test, y_pred):.2f}')"
   ]
  },
  {
   "cell_type": "code",
   "execution_count": null,
   "id": "f619fe9c-41fb-4b33-a0d5-d83aac642ee8",
   "metadata": {},
   "outputs": [],
   "source": []
  },
  {
   "cell_type": "code",
   "execution_count": null,
   "id": "336a41bb-900c-4d51-896d-68598c3beb2b",
   "metadata": {},
   "outputs": [],
   "source": []
  },
  {
   "cell_type": "markdown",
   "id": "01157aec-0260-40b7-91c3-0d37d8ffe7a6",
   "metadata": {},
   "source": [
    "### By class"
   ]
  },
  {
   "cell_type": "code",
   "execution_count": 19,
   "id": "aab9f00d-999f-4b00-a240-d158a6ee2136",
   "metadata": {},
   "outputs": [
    {
     "name": "stdout",
     "output_type": "stream",
     "text": [
      "Train groups: 81\tTest groups: 21\n",
      "Train/test split is 80%/20%\n",
      "Train: 2526\tTest: 635\n"
     ]
    }
   ],
   "source": [
    "groups = d3['class']\n",
    "groups\n",
    "\n",
    "data = pd.DataFrame(X)\n",
    "data['target'] = y\n",
    "data['group'] = groups\n",
    "data\n",
    "\n",
    "unique_group = data['group'].unique()\n",
    "unique_group\n",
    "\n",
    "train_groups, test_groups = train_test_split(unique_group, test_size=0.2, random_state=42)\n",
    "train_groups\n",
    "test_groups\n",
    "\n",
    "print(f'Train groups: {len(train_groups)}\\tTest groups: {len(test_groups)}')\n",
    "\n",
    "train_mask = data['group'].isin(train_groups)\n",
    "test_mask = data['group'].isin(test_groups)\n",
    "train_mask\n",
    "test_mask\n",
    "\n",
    "X_train = data[train_mask].drop(columns=['target', 'group']).values\n",
    "y_train = data[train_mask]['target'].values\n",
    "X_test = data[test_mask].drop(columns=['target', 'group']).values\n",
    "y_test = data[test_mask]['target'].values\n",
    "\n",
    "print(f'Train/test split is {(len(y_train)/(len(y_train) + len(y_test)) * 100):.0f}%/{(len(y_test)/(len(y_train) + len(y_test)) * 100):.0f}%')\n",
    "print(f'Train: {X_train.shape[0]}\\tTest: {X_test.shape[0]}')"
   ]
  },
  {
   "cell_type": "code",
   "execution_count": 20,
   "id": "08ff1a26-6474-4e1c-a27c-64b5a8a9cdb1",
   "metadata": {
    "scrolled": true
   },
   "outputs": [],
   "source": [
    "pipe.fit(X_train, y_train)\n",
    "\n",
    "y_pred = pipe.predict(X_test)\n",
    "\n",
    "accuracy_test = accuracy_score(y_test, y_pred)\n",
    "accuracy_train = accuracy_score(y_train, pipe.predict(X_train))\n",
    "cv_scores = cross_val_score(pipe, X_train, y_train, cv=5)\n",
    "mean_cv_accuracy = np.mean(cv_scores)"
   ]
  },
  {
   "cell_type": "code",
   "execution_count": 21,
   "id": "1e0444de-f605-4b03-a5c1-4950becf13d3",
   "metadata": {},
   "outputs": [
    {
     "name": "stdout",
     "output_type": "stream",
     "text": [
      "CV_Accuracy = 0.97\n",
      "Accuracy = 0.94\n",
      "Balanced Accuracy = 0.92\n",
      "Precision = 0.94\n",
      "Recall = 0.97\n",
      "F1 = 0.96\n"
     ]
    }
   ],
   "source": [
    "print(f'CV_Accuracy = {mean_cv_accuracy:.2f}\\nAccuracy = {accuracy_score(y_test, y_pred):.2f}\\nBalanced Accuracy = {balanced_accuracy_score(y_test, y_pred):.2f}\\nPrecision = {precision_score(y_test, y_pred):.2f}\\nRecall = {recall_score(y_test, y_pred):.2f}\\nF1 = {f1_score(y_test, y_pred):.2f}')"
   ]
  },
  {
   "cell_type": "code",
   "execution_count": null,
   "id": "03b27d69-3f25-46aa-804b-6a59a20f01d1",
   "metadata": {},
   "outputs": [],
   "source": []
  },
  {
   "cell_type": "code",
   "execution_count": null,
   "id": "98e4cd8f-efa9-4187-9f81-2989c2dd78f5",
   "metadata": {},
   "outputs": [],
   "source": []
  },
  {
   "cell_type": "markdown",
   "id": "51c3e612-d2eb-4757-a28f-54b23c092ec7",
   "metadata": {},
   "source": [
    "### By order"
   ]
  },
  {
   "cell_type": "code",
   "execution_count": 22,
   "id": "5211843d-fe64-4602-b67a-d6ac91e1cf9e",
   "metadata": {},
   "outputs": [
    {
     "name": "stdout",
     "output_type": "stream",
     "text": [
      "Train groups: 199\tTest groups: 50\n",
      "Train/test split is 81%/19%\n",
      "Train: 2548\tTest: 613\n"
     ]
    }
   ],
   "source": [
    "groups = d3['order']\n",
    "groups\n",
    "\n",
    "data = pd.DataFrame(X)\n",
    "data['target'] = y\n",
    "data['group'] = groups\n",
    "data\n",
    "\n",
    "unique_group = data['group'].unique()\n",
    "unique_group\n",
    "\n",
    "train_groups, test_groups = train_test_split(unique_group, test_size=0.2, random_state=42)\n",
    "train_groups\n",
    "test_groups\n",
    "\n",
    "print(f'Train groups: {len(train_groups)}\\tTest groups: {len(test_groups)}')\n",
    "\n",
    "train_mask = data['group'].isin(train_groups)\n",
    "test_mask = data['group'].isin(test_groups)\n",
    "train_mask\n",
    "test_mask\n",
    "\n",
    "X_train = data[train_mask].drop(columns=['target', 'group']).values\n",
    "y_train = data[train_mask]['target'].values\n",
    "X_test = data[test_mask].drop(columns=['target', 'group']).values\n",
    "y_test = data[test_mask]['target'].values\n",
    "\n",
    "print(f'Train/test split is {(len(y_train)/(len(y_train) + len(y_test)) * 100):.0f}%/{(len(y_test)/(len(y_train) + len(y_test)) * 100):.0f}%')\n",
    "print(f'Train: {X_train.shape[0]}\\tTest: {X_test.shape[0]}')"
   ]
  },
  {
   "cell_type": "code",
   "execution_count": 23,
   "id": "9c91c3ea-23c1-4025-a5a3-7b31214c3c35",
   "metadata": {
    "scrolled": true
   },
   "outputs": [],
   "source": [
    "pipe.fit(X_train, y_train)\n",
    "\n",
    "y_pred = pipe.predict(X_test)\n",
    "\n",
    "accuracy_test = accuracy_score(y_test, y_pred)\n",
    "accuracy_train = accuracy_score(y_train, pipe.predict(X_train))\n",
    "cv_scores = cross_val_score(pipe, X_train, y_train, cv=5)\n",
    "mean_cv_accuracy = np.mean(cv_scores)"
   ]
  },
  {
   "cell_type": "code",
   "execution_count": 24,
   "id": "09378c91-d0f2-4a3f-aaa5-d7114c368c64",
   "metadata": {},
   "outputs": [
    {
     "name": "stdout",
     "output_type": "stream",
     "text": [
      "CV_Accuracy = 0.97\n",
      "Accuracy = 0.98\n",
      "Balanced Accuracy = 0.98\n",
      "Precision = 0.98\n",
      "Recall = 0.98\n",
      "F1 = 0.98\n"
     ]
    }
   ],
   "source": [
    "print(f'CV_Accuracy = {mean_cv_accuracy:.2f}\\nAccuracy = {accuracy_score(y_test, y_pred):.2f}\\nBalanced Accuracy = {balanced_accuracy_score(y_test, y_pred):.2f}\\nPrecision = {precision_score(y_test, y_pred):.2f}\\nRecall = {recall_score(y_test, y_pred):.2f}\\nF1 = {f1_score(y_test, y_pred):.2f}')"
   ]
  },
  {
   "cell_type": "code",
   "execution_count": null,
   "id": "498bb251-c501-4f47-b240-b11a3e1066a1",
   "metadata": {},
   "outputs": [],
   "source": []
  },
  {
   "cell_type": "markdown",
   "id": "e5b93524-09c5-455d-b075-9d555ba7fb1b",
   "metadata": {},
   "source": [
    "### By family"
   ]
  },
  {
   "cell_type": "code",
   "execution_count": 25,
   "id": "de8d68c5-514f-4765-b603-a8c3c1bdb7a9",
   "metadata": {},
   "outputs": [
    {
     "name": "stdout",
     "output_type": "stream",
     "text": [
      "Train groups: 443\tTest groups: 111\n",
      "Train/test split is 74%/26%\n",
      "Train: 2340\tTest: 821\n"
     ]
    }
   ],
   "source": [
    "groups = d3['family']\n",
    "groups\n",
    "\n",
    "data = pd.DataFrame(X)\n",
    "data['target'] = y\n",
    "data['group'] = groups\n",
    "data\n",
    "\n",
    "unique_group = data['group'].unique()\n",
    "unique_group\n",
    "\n",
    "train_groups, test_groups = train_test_split(unique_group, test_size=0.2, random_state=42)\n",
    "train_groups\n",
    "test_groups\n",
    "\n",
    "print(f'Train groups: {len(train_groups)}\\tTest groups: {len(test_groups)}')\n",
    "\n",
    "train_mask = data['group'].isin(train_groups)\n",
    "test_mask = data['group'].isin(test_groups)\n",
    "train_mask\n",
    "test_mask\n",
    "\n",
    "X_train = data[train_mask].drop(columns=['target', 'group']).values\n",
    "y_train = data[train_mask]['target'].values\n",
    "X_test = data[test_mask].drop(columns=['target', 'group']).values\n",
    "y_test = data[test_mask]['target'].values\n",
    "\n",
    "print(f'Train/test split is {(len(y_train)/(len(y_train) + len(y_test)) * 100):.0f}%/{(len(y_test)/(len(y_train) + len(y_test)) * 100):.0f}%')\n",
    "print(f'Train: {X_train.shape[0]}\\tTest: {X_test.shape[0]}')"
   ]
  },
  {
   "cell_type": "code",
   "execution_count": 26,
   "id": "abd51fa7-9105-48cd-bc94-a027001c6342",
   "metadata": {
    "scrolled": true
   },
   "outputs": [],
   "source": [
    "pipe.fit(X_train, y_train)\n",
    "\n",
    "y_pred = pipe.predict(X_test)\n",
    "\n",
    "accuracy_test = accuracy_score(y_test, y_pred)\n",
    "accuracy_train = accuracy_score(y_train, pipe.predict(X_train))\n",
    "cv_scores = cross_val_score(pipe, X_train, y_train, cv=5)\n",
    "mean_cv_accuracy = np.mean(cv_scores)"
   ]
  },
  {
   "cell_type": "code",
   "execution_count": 27,
   "id": "fc891894-9907-4100-a78c-7416bb15e231",
   "metadata": {},
   "outputs": [
    {
     "name": "stdout",
     "output_type": "stream",
     "text": [
      "CV_Accuracy = 0.97\n",
      "Accuracy = 0.96\n",
      "Balanced Accuracy = 0.94\n",
      "Precision = 0.96\n",
      "Recall = 0.99\n",
      "F1 = 0.98\n"
     ]
    }
   ],
   "source": [
    "print(f'CV_Accuracy = {mean_cv_accuracy:.2f}\\nAccuracy = {accuracy_score(y_test, y_pred):.2f}\\nBalanced Accuracy = {balanced_accuracy_score(y_test, y_pred):.2f}\\nPrecision = {precision_score(y_test, y_pred):.2f}\\nRecall = {recall_score(y_test, y_pred):.2f}\\nF1 = {f1_score(y_test, y_pred):.2f}')"
   ]
  },
  {
   "cell_type": "code",
   "execution_count": null,
   "id": "c961d927-6471-4d20-9676-8ba1b5b4916a",
   "metadata": {},
   "outputs": [],
   "source": []
  },
  {
   "cell_type": "markdown",
   "id": "82a717b2-b38d-454e-bdfb-bd3f62826cb9",
   "metadata": {},
   "source": [
    "### By genus"
   ]
  },
  {
   "cell_type": "code",
   "execution_count": 28,
   "id": "7b2e003e-52d6-46e8-9d7d-a8811b54a946",
   "metadata": {},
   "outputs": [
    {
     "name": "stdout",
     "output_type": "stream",
     "text": [
      "Train groups: 1654\tTest groups: 414\n",
      "Train/test split is 81%/19%\n",
      "Train: 2546\tTest: 615\n"
     ]
    }
   ],
   "source": [
    "groups = d3['genus']\n",
    "groups\n",
    "\n",
    "data = pd.DataFrame(X)\n",
    "data['target'] = y\n",
    "data['group'] = groups\n",
    "data\n",
    "\n",
    "unique_group = data['group'].unique()\n",
    "unique_group\n",
    "\n",
    "train_groups, test_groups = train_test_split(unique_group, test_size=0.2, random_state=42)\n",
    "train_groups\n",
    "test_groups\n",
    "\n",
    "print(f'Train groups: {len(train_groups)}\\tTest groups: {len(test_groups)}')\n",
    "\n",
    "train_mask = data['group'].isin(train_groups)\n",
    "test_mask = data['group'].isin(test_groups)\n",
    "train_mask\n",
    "test_mask\n",
    "\n",
    "X_train = data[train_mask].drop(columns=['target', 'group']).values\n",
    "y_train = data[train_mask]['target'].values\n",
    "X_test = data[test_mask].drop(columns=['target', 'group']).values\n",
    "y_test = data[test_mask]['target'].values\n",
    "\n",
    "print(f'Train/test split is {(len(y_train)/(len(y_train) + len(y_test)) * 100):.0f}%/{(len(y_test)/(len(y_train) + len(y_test)) * 100):.0f}%')\n",
    "print(f'Train: {X_train.shape[0]}\\tTest: {X_test.shape[0]}')"
   ]
  },
  {
   "cell_type": "code",
   "execution_count": 29,
   "id": "17344b76-0c93-42cf-a075-e6db7015566a",
   "metadata": {
    "scrolled": true
   },
   "outputs": [],
   "source": [
    "pipe.fit(X_train, y_train)\n",
    "\n",
    "y_pred = pipe.predict(X_test)\n",
    "\n",
    "accuracy_test = accuracy_score(y_test, y_pred)\n",
    "accuracy_train = accuracy_score(y_train, pipe.predict(X_train))\n",
    "cv_scores = cross_val_score(pipe, X_train, y_train, cv=5)\n",
    "mean_cv_accuracy = np.mean(cv_scores)"
   ]
  },
  {
   "cell_type": "code",
   "execution_count": 30,
   "id": "b74f0087-a816-46ce-98a7-296a025cbef1",
   "metadata": {},
   "outputs": [
    {
     "name": "stdout",
     "output_type": "stream",
     "text": [
      "CV_Accuracy = 0.97\n",
      "Accuracy = 0.98\n",
      "Balanced Accuracy = 0.98\n",
      "Precision = 0.98\n",
      "Recall = 0.99\n",
      "F1 = 0.99\n"
     ]
    }
   ],
   "source": [
    "print(f'CV_Accuracy = {mean_cv_accuracy:.2f}\\nAccuracy = {accuracy_score(y_test, y_pred):.2f}\\nBalanced Accuracy = {balanced_accuracy_score(y_test, y_pred):.2f}\\nPrecision = {precision_score(y_test, y_pred):.2f}\\nRecall = {recall_score(y_test, y_pred):.2f}\\nF1 = {f1_score(y_test, y_pred):.2f}')"
   ]
  },
  {
   "cell_type": "code",
   "execution_count": 31,
   "id": "9be9c4b4-0ed2-4624-adc3-1740e3f7a067",
   "metadata": {},
   "outputs": [
    {
     "data": {
      "text/html": [
       "<div><style>\n",
       ".dataframe > thead > tr,\n",
       ".dataframe > tbody > tr {\n",
       "  text-align: right;\n",
       "  white-space: pre-wrap;\n",
       "}\n",
       "</style>\n",
       "<small>shape: (3_161, 2_687)</small><table border=\"1\" class=\"dataframe\"><thead><tr><th>accession</th><th>false_negative_rate</th><th>false_positive_rate</th><th>COG0001</th><th>COG0002</th><th>COG0003</th><th>COG0004</th><th>COG0005</th><th>COG0007</th><th>COG0008</th><th>COG0010</th><th>COG0012</th><th>COG0013</th><th>COG0015</th><th>COG0016</th><th>COG0017</th><th>COG0018</th><th>COG0019</th><th>COG0022</th><th>COG0023</th><th>COG0025</th><th>COG0026</th><th>COG0027</th><th>COG0028</th><th>COG0029</th><th>COG0030</th><th>COG0033</th><th>COG0035</th><th>COG0036</th><th>COG0038</th><th>COG0039</th><th>COG0041</th><th>COG0042</th><th>COG0043</th><th>COG0044</th><th>COG0045</th><th>COG0046</th><th>&hellip;</th><th>COG5525</th><th>COG5531</th><th>COG5542</th><th>COG5553</th><th>COG5554</th><th>COG5555</th><th>COG5557</th><th>COG5565</th><th>COG5569</th><th>COG5570</th><th>COG5571</th><th>COG5573</th><th>COG5581</th><th>COG5590</th><th>COG5592</th><th>COG5597</th><th>COG5598</th><th>COG5605</th><th>COG5606</th><th>COG5610</th><th>COG5611</th><th>COG5615</th><th>COG5621</th><th>COG5625</th><th>COG5632</th><th>COG5640</th><th>COG5643</th><th>COG5650</th><th>COG5652</th><th>COG5663</th><th>domain</th><th>phylum</th><th>class</th><th>order</th><th>family</th><th>genus</th><th>oxytolerance</th></tr><tr><td>str</td><td>f64</td><td>f64</td><td>i64</td><td>i64</td><td>i64</td><td>i64</td><td>i64</td><td>i64</td><td>i64</td><td>i64</td><td>i64</td><td>i64</td><td>i64</td><td>i64</td><td>i64</td><td>i64</td><td>i64</td><td>i64</td><td>i64</td><td>i64</td><td>i64</td><td>i64</td><td>i64</td><td>i64</td><td>i64</td><td>i64</td><td>i64</td><td>i64</td><td>i64</td><td>i64</td><td>i64</td><td>i64</td><td>i64</td><td>i64</td><td>i64</td><td>i64</td><td>&hellip;</td><td>i64</td><td>i64</td><td>i64</td><td>i64</td><td>i64</td><td>i64</td><td>i64</td><td>i64</td><td>i64</td><td>i64</td><td>i64</td><td>i64</td><td>i64</td><td>i64</td><td>i64</td><td>i64</td><td>i64</td><td>i64</td><td>i64</td><td>i64</td><td>i64</td><td>i64</td><td>i64</td><td>i64</td><td>i64</td><td>i64</td><td>i64</td><td>i64</td><td>i64</td><td>i64</td><td>str</td><td>str</td><td>str</td><td>str</td><td>str</td><td>str</td><td>str</td></tr></thead><tbody><tr><td>&quot;GB_GCA_000010565.1&quot;</td><td>0.0</td><td>0.0</td><td>1</td><td>1</td><td>0</td><td>1</td><td>2</td><td>1</td><td>1</td><td>1</td><td>1</td><td>2</td><td>1</td><td>1</td><td>1</td><td>1</td><td>1</td><td>0</td><td>0</td><td>0</td><td>0</td><td>0</td><td>2</td><td>1</td><td>1</td><td>0</td><td>0</td><td>1</td><td>0</td><td>1</td><td>1</td><td>1</td><td>1</td><td>1</td><td>1</td><td>0</td><td>&hellip;</td><td>0</td><td>0</td><td>1</td><td>0</td><td>0</td><td>0</td><td>1</td><td>0</td><td>0</td><td>0</td><td>0</td><td>3</td><td>2</td><td>0</td><td>0</td><td>0</td><td>0</td><td>0</td><td>0</td><td>0</td><td>0</td><td>0</td><td>0</td><td>0</td><td>2</td><td>0</td><td>0</td><td>0</td><td>0</td><td>1</td><td>&quot;d__Bacteria&quot;</td><td>&quot;p__Firmicutes_B&quot;</td><td>&quot;c__Desulfotomaculia&quot;</td><td>&quot;o__Desulfotomaculales&quot;</td><td>&quot;f__Pelotomaculaceae&quot;</td><td>&quot;g__Pelotomaculum&quot;</td><td>&quot;anaerobe&quot;</td></tr><tr><td>&quot;GB_GCA_000018565.1&quot;</td><td>0.0</td><td>0.0</td><td>1</td><td>1</td><td>1</td><td>3</td><td>3</td><td>0</td><td>1</td><td>1</td><td>1</td><td>2</td><td>1</td><td>1</td><td>1</td><td>2</td><td>2</td><td>0</td><td>0</td><td>0</td><td>1</td><td>0</td><td>1</td><td>1</td><td>1</td><td>0</td><td>1</td><td>1</td><td>1</td><td>1</td><td>1</td><td>1</td><td>1</td><td>1</td><td>1</td><td>0</td><td>&hellip;</td><td>0</td><td>0</td><td>0</td><td>1</td><td>0</td><td>0</td><td>0</td><td>0</td><td>0</td><td>0</td><td>0</td><td>0</td><td>0</td><td>0</td><td>0</td><td>0</td><td>0</td><td>0</td><td>0</td><td>0</td><td>0</td><td>0</td><td>0</td><td>0</td><td>1</td><td>1</td><td>0</td><td>0</td><td>0</td><td>0</td><td>&quot;d__Bacteria&quot;</td><td>&quot;p__Chloroflexota&quot;</td><td>&quot;c__Chloroflexia&quot;</td><td>&quot;o__Chloroflexales&quot;</td><td>&quot;f__Herpetosiphonaceae&quot;</td><td>&quot;g__Herpetosiphon&quot;</td><td>&quot;aerobe&quot;</td></tr><tr><td>&quot;GB_GCA_000145985.1&quot;</td><td>0.0</td><td>0.0</td><td>1</td><td>0</td><td>0</td><td>0</td><td>0</td><td>0</td><td>0</td><td>1</td><td>0</td><td>1</td><td>1</td><td>1</td><td>0</td><td>1</td><td>0</td><td>0</td><td>1</td><td>0</td><td>0</td><td>1</td><td>1</td><td>0</td><td>1</td><td>0</td><td>0</td><td>0</td><td>0</td><td>0</td><td>1</td><td>0</td><td>0</td><td>1</td><td>0</td><td>1</td><td>&hellip;</td><td>0</td><td>0</td><td>0</td><td>0</td><td>0</td><td>0</td><td>0</td><td>0</td><td>0</td><td>0</td><td>0</td><td>0</td><td>0</td><td>0</td><td>0</td><td>0</td><td>0</td><td>0</td><td>0</td><td>0</td><td>0</td><td>0</td><td>0</td><td>0</td><td>0</td><td>0</td><td>0</td><td>0</td><td>0</td><td>0</td><td>&quot;d__Archaea&quot;</td><td>&quot;p__Thermoproteota&quot;</td><td>&quot;c__Thermoproteia&quot;</td><td>&quot;o__Sulfolobales&quot;</td><td>&quot;f__Ignisphaeraceae&quot;</td><td>&quot;g__Ignisphaera&quot;</td><td>&quot;anaerobe&quot;</td></tr><tr><td>&quot;GB_GCA_000210715.1&quot;</td><td>0.0</td><td>0.0</td><td>0</td><td>0</td><td>0</td><td>0</td><td>0</td><td>1</td><td>1</td><td>0</td><td>1</td><td>1</td><td>1</td><td>1</td><td>0</td><td>1</td><td>1</td><td>0</td><td>0</td><td>0</td><td>0</td><td>0</td><td>0</td><td>0</td><td>0</td><td>2</td><td>1</td><td>0</td><td>1</td><td>0</td><td>0</td><td>1</td><td>0</td><td>1</td><td>0</td><td>0</td><td>&hellip;</td><td>0</td><td>0</td><td>0</td><td>0</td><td>0</td><td>0</td><td>0</td><td>0</td><td>0</td><td>0</td><td>0</td><td>0</td><td>1</td><td>0</td><td>0</td><td>0</td><td>0</td><td>0</td><td>0</td><td>0</td><td>0</td><td>0</td><td>0</td><td>0</td><td>0</td><td>0</td><td>0</td><td>0</td><td>0</td><td>0</td><td>&quot;d__Bacteria&quot;</td><td>&quot;p__Synergistota&quot;</td><td>&quot;c__Synergistia&quot;</td><td>&quot;o__Synergistales&quot;</td><td>&quot;f__Aminobacteriaceae&quot;</td><td>&quot;g__Fretibacterium&quot;</td><td>&quot;anaerobe&quot;</td></tr><tr><td>&quot;GB_GCA_000214705.1&quot;</td><td>0.0</td><td>0.0</td><td>1</td><td>1</td><td>0</td><td>1</td><td>2</td><td>1</td><td>1</td><td>2</td><td>1</td><td>1</td><td>1</td><td>1</td><td>0</td><td>1</td><td>1</td><td>0</td><td>0</td><td>0</td><td>0</td><td>0</td><td>2</td><td>1</td><td>1</td><td>0</td><td>0</td><td>1</td><td>0</td><td>1</td><td>1</td><td>1</td><td>1</td><td>1</td><td>2</td><td>0</td><td>&hellip;</td><td>0</td><td>0</td><td>1</td><td>0</td><td>0</td><td>0</td><td>0</td><td>0</td><td>0</td><td>0</td><td>0</td><td>0</td><td>1</td><td>0</td><td>0</td><td>0</td><td>0</td><td>0</td><td>0</td><td>0</td><td>0</td><td>0</td><td>0</td><td>0</td><td>0</td><td>0</td><td>0</td><td>0</td><td>1</td><td>0</td><td>&quot;d__Bacteria&quot;</td><td>&quot;p__Firmicutes_B&quot;</td><td>&quot;c__Desulfotomaculia&quot;</td><td>&quot;o__Desulfotomaculales&quot;</td><td>&quot;f__Desulfovirgulaceae&quot;</td><td>&quot;g__Desulfofundulus&quot;</td><td>&quot;anaerobe&quot;</td></tr><tr><td>&hellip;</td><td>&hellip;</td><td>&hellip;</td><td>&hellip;</td><td>&hellip;</td><td>&hellip;</td><td>&hellip;</td><td>&hellip;</td><td>&hellip;</td><td>&hellip;</td><td>&hellip;</td><td>&hellip;</td><td>&hellip;</td><td>&hellip;</td><td>&hellip;</td><td>&hellip;</td><td>&hellip;</td><td>&hellip;</td><td>&hellip;</td><td>&hellip;</td><td>&hellip;</td><td>&hellip;</td><td>&hellip;</td><td>&hellip;</td><td>&hellip;</td><td>&hellip;</td><td>&hellip;</td><td>&hellip;</td><td>&hellip;</td><td>&hellip;</td><td>&hellip;</td><td>&hellip;</td><td>&hellip;</td><td>&hellip;</td><td>&hellip;</td><td>&hellip;</td><td>&hellip;</td><td>&hellip;</td><td>&hellip;</td><td>&hellip;</td><td>&hellip;</td><td>&hellip;</td><td>&hellip;</td><td>&hellip;</td><td>&hellip;</td><td>&hellip;</td><td>&hellip;</td><td>&hellip;</td><td>&hellip;</td><td>&hellip;</td><td>&hellip;</td><td>&hellip;</td><td>&hellip;</td><td>&hellip;</td><td>&hellip;</td><td>&hellip;</td><td>&hellip;</td><td>&hellip;</td><td>&hellip;</td><td>&hellip;</td><td>&hellip;</td><td>&hellip;</td><td>&hellip;</td><td>&hellip;</td><td>&hellip;</td><td>&hellip;</td><td>&hellip;</td><td>&hellip;</td><td>&hellip;</td><td>&hellip;</td><td>&hellip;</td><td>&hellip;</td><td>&hellip;</td><td>&hellip;</td><td>&hellip;</td></tr><tr><td>&quot;RS_GCF_902813185.1&quot;</td><td>0.0</td><td>0.0</td><td>1</td><td>1</td><td>0</td><td>2</td><td>0</td><td>0</td><td>0</td><td>0</td><td>1</td><td>1</td><td>1</td><td>1</td><td>0</td><td>1</td><td>1</td><td>0</td><td>0</td><td>0</td><td>1</td><td>1</td><td>5</td><td>1</td><td>1</td><td>0</td><td>0</td><td>1</td><td>0</td><td>0</td><td>1</td><td>1</td><td>1</td><td>1</td><td>1</td><td>0</td><td>&hellip;</td><td>2</td><td>0</td><td>0</td><td>0</td><td>0</td><td>0</td><td>2</td><td>0</td><td>5</td><td>0</td><td>0</td><td>0</td><td>2</td><td>0</td><td>1</td><td>0</td><td>0</td><td>0</td><td>0</td><td>0</td><td>0</td><td>0</td><td>0</td><td>0</td><td>0</td><td>0</td><td>0</td><td>0</td><td>0</td><td>0</td><td>&quot;d__Bacteria&quot;</td><td>&quot;p__Proteobacteria&quot;</td><td>&quot;c__Gammaproteobacteria&quot;</td><td>&quot;o__Burkholderiales&quot;</td><td>&quot;f__Rhodocyclaceae&quot;</td><td>&quot;g__Denitratisoma&quot;</td><td>&quot;aerobe&quot;</td></tr><tr><td>&quot;RS_GCF_902825325.1&quot;</td><td>0.0</td><td>0.0</td><td>2</td><td>1</td><td>0</td><td>1</td><td>0</td><td>0</td><td>0</td><td>1</td><td>1</td><td>1</td><td>1</td><td>1</td><td>0</td><td>1</td><td>1</td><td>0</td><td>0</td><td>0</td><td>1</td><td>0</td><td>4</td><td>1</td><td>1</td><td>1</td><td>1</td><td>1</td><td>2</td><td>1</td><td>1</td><td>1</td><td>1</td><td>2</td><td>1</td><td>1</td><td>&hellip;</td><td>0</td><td>0</td><td>0</td><td>0</td><td>0</td><td>0</td><td>0</td><td>0</td><td>0</td><td>1</td><td>0</td><td>0</td><td>0</td><td>0</td><td>0</td><td>0</td><td>0</td><td>0</td><td>0</td><td>0</td><td>0</td><td>0</td><td>0</td><td>0</td><td>0</td><td>0</td><td>0</td><td>0</td><td>0</td><td>0</td><td>&quot;d__Bacteria&quot;</td><td>&quot;p__Proteobacteria&quot;</td><td>&quot;c__Alphaproteobacteria&quot;</td><td>&quot;o__Rhizobiales_A&quot;</td><td>&quot;f__Rhizobiaceae_A&quot;</td><td>&quot;g__Ochrobactrum&quot;</td><td>&quot;aerobe&quot;</td></tr><tr><td>&quot;RS_GCF_902859645.1&quot;</td><td>0.0</td><td>0.0</td><td>1</td><td>2</td><td>0</td><td>1</td><td>0</td><td>0</td><td>0</td><td>1</td><td>1</td><td>1</td><td>1</td><td>1</td><td>0</td><td>1</td><td>2</td><td>1</td><td>1</td><td>1</td><td>1</td><td>1</td><td>7</td><td>0</td><td>1</td><td>0</td><td>1</td><td>1</td><td>5</td><td>0</td><td>1</td><td>1</td><td>1</td><td>2</td><td>1</td><td>0</td><td>&hellip;</td><td>1</td><td>1</td><td>0</td><td>0</td><td>0</td><td>0</td><td>0</td><td>0</td><td>2</td><td>0</td><td>0</td><td>0</td><td>1</td><td>0</td><td>0</td><td>0</td><td>0</td><td>0</td><td>1</td><td>0</td><td>0</td><td>0</td><td>0</td><td>0</td><td>0</td><td>0</td><td>0</td><td>0</td><td>1</td><td>0</td><td>&quot;d__Bacteria&quot;</td><td>&quot;p__Proteobacteria&quot;</td><td>&quot;c__Gammaproteobacteria&quot;</td><td>&quot;o__Burkholderiales&quot;</td><td>&quot;f__Burkholderiaceae&quot;</td><td>&quot;g__Achromobacter&quot;</td><td>&quot;aerobe&quot;</td></tr><tr><td>&quot;RS_GCF_902859695.1&quot;</td><td>0.0</td><td>0.0</td><td>1</td><td>2</td><td>0</td><td>1</td><td>0</td><td>0</td><td>0</td><td>0</td><td>1</td><td>1</td><td>1</td><td>1</td><td>0</td><td>1</td><td>2</td><td>1</td><td>1</td><td>1</td><td>1</td><td>1</td><td>7</td><td>0</td><td>1</td><td>0</td><td>1</td><td>2</td><td>3</td><td>0</td><td>1</td><td>1</td><td>1</td><td>1</td><td>1</td><td>0</td><td>&hellip;</td><td>1</td><td>1</td><td>0</td><td>0</td><td>0</td><td>0</td><td>0</td><td>0</td><td>1</td><td>0</td><td>0</td><td>0</td><td>1</td><td>0</td><td>0</td><td>0</td><td>0</td><td>0</td><td>0</td><td>0</td><td>0</td><td>0</td><td>0</td><td>0</td><td>0</td><td>0</td><td>0</td><td>0</td><td>1</td><td>0</td><td>&quot;d__Bacteria&quot;</td><td>&quot;p__Proteobacteria&quot;</td><td>&quot;c__Gammaproteobacteria&quot;</td><td>&quot;o__Burkholderiales&quot;</td><td>&quot;f__Burkholderiaceae&quot;</td><td>&quot;g__Achromobacter&quot;</td><td>&quot;aerobe&quot;</td></tr><tr><td>&quot;RS_GCF_903970205.1&quot;</td><td>0.0</td><td>0.0</td><td>2</td><td>1</td><td>0</td><td>1</td><td>0</td><td>1</td><td>0</td><td>0</td><td>1</td><td>0</td><td>1</td><td>1</td><td>1</td><td>1</td><td>1</td><td>1</td><td>0</td><td>2</td><td>1</td><td>0</td><td>2</td><td>0</td><td>1</td><td>1</td><td>0</td><td>0</td><td>1</td><td>1</td><td>1</td><td>1</td><td>0</td><td>1</td><td>1</td><td>0</td><td>&hellip;</td><td>0</td><td>0</td><td>0</td><td>0</td><td>0</td><td>0</td><td>0</td><td>0</td><td>0</td><td>0</td><td>0</td><td>0</td><td>0</td><td>0</td><td>0</td><td>0</td><td>0</td><td>0</td><td>1</td><td>0</td><td>0</td><td>0</td><td>1</td><td>0</td><td>0</td><td>0</td><td>0</td><td>0</td><td>0</td><td>0</td><td>&quot;d__Bacteria&quot;</td><td>&quot;p__Acidobacteriota&quot;</td><td>&quot;c__Acidobacteriae&quot;</td><td>&quot;o__Bryobacterales&quot;</td><td>&quot;f__Bryobacteraceae&quot;</td><td>&quot;g__Bog-113&quot;</td><td>&quot;aerobe&quot;</td></tr></tbody></table></div>"
      ],
      "text/plain": [
       "shape: (3_161, 2_687)\n",
       "┌────────────┬───────────┬───────────┬─────────┬───┬───────────┬───────────┬───────────┬───────────┐\n",
       "│ accession  ┆ false_neg ┆ false_pos ┆ COG0001 ┆ … ┆ order     ┆ family    ┆ genus     ┆ oxytolera │\n",
       "│ ---        ┆ ative_rat ┆ itive_rat ┆ ---     ┆   ┆ ---       ┆ ---       ┆ ---       ┆ nce       │\n",
       "│ str        ┆ e         ┆ e         ┆ i64     ┆   ┆ str       ┆ str       ┆ str       ┆ ---       │\n",
       "│            ┆ ---       ┆ ---       ┆         ┆   ┆           ┆           ┆           ┆ str       │\n",
       "│            ┆ f64       ┆ f64       ┆         ┆   ┆           ┆           ┆           ┆           │\n",
       "╞════════════╪═══════════╪═══════════╪═════════╪═══╪═══════════╪═══════════╪═══════════╪═══════════╡\n",
       "│ GB_GCA_000 ┆ 0.0       ┆ 0.0       ┆ 1       ┆ … ┆ o__Desulf ┆ f__Peloto ┆ g__Peloto ┆ anaerobe  │\n",
       "│ 010565.1   ┆           ┆           ┆         ┆   ┆ otomacula ┆ maculacea ┆ maculum   ┆           │\n",
       "│            ┆           ┆           ┆         ┆   ┆ les       ┆ e         ┆           ┆           │\n",
       "│ GB_GCA_000 ┆ 0.0       ┆ 0.0       ┆ 1       ┆ … ┆ o__Chloro ┆ f__Herpet ┆ g__Herpet ┆ aerobe    │\n",
       "│ 018565.1   ┆           ┆           ┆         ┆   ┆ flexales  ┆ osiphonac ┆ osiphon   ┆           │\n",
       "│            ┆           ┆           ┆         ┆   ┆           ┆ eae       ┆           ┆           │\n",
       "│ GB_GCA_000 ┆ 0.0       ┆ 0.0       ┆ 1       ┆ … ┆ o__Sulfol ┆ f__Ignisp ┆ g__Ignisp ┆ anaerobe  │\n",
       "│ 145985.1   ┆           ┆           ┆         ┆   ┆ obales    ┆ haeraceae ┆ haera     ┆           │\n",
       "│ GB_GCA_000 ┆ 0.0       ┆ 0.0       ┆ 0       ┆ … ┆ o__Synerg ┆ f__Aminob ┆ g__Fretib ┆ anaerobe  │\n",
       "│ 210715.1   ┆           ┆           ┆         ┆   ┆ istales   ┆ acteriace ┆ acterium  ┆           │\n",
       "│            ┆           ┆           ┆         ┆   ┆           ┆ ae        ┆           ┆           │\n",
       "│ GB_GCA_000 ┆ 0.0       ┆ 0.0       ┆ 1       ┆ … ┆ o__Desulf ┆ f__Desulf ┆ g__Desulf ┆ anaerobe  │\n",
       "│ 214705.1   ┆           ┆           ┆         ┆   ┆ otomacula ┆ ovirgulac ┆ ofundulus ┆           │\n",
       "│            ┆           ┆           ┆         ┆   ┆ les       ┆ eae       ┆           ┆           │\n",
       "│ …          ┆ …         ┆ …         ┆ …       ┆ … ┆ …         ┆ …         ┆ …         ┆ …         │\n",
       "│ RS_GCF_902 ┆ 0.0       ┆ 0.0       ┆ 1       ┆ … ┆ o__Burkho ┆ f__Rhodoc ┆ g__Denitr ┆ aerobe    │\n",
       "│ 813185.1   ┆           ┆           ┆         ┆   ┆ lderiales ┆ yclaceae  ┆ atisoma   ┆           │\n",
       "│ RS_GCF_902 ┆ 0.0       ┆ 0.0       ┆ 2       ┆ … ┆ o__Rhizob ┆ f__Rhizob ┆ g__Ochrob ┆ aerobe    │\n",
       "│ 825325.1   ┆           ┆           ┆         ┆   ┆ iales_A   ┆ iaceae_A  ┆ actrum    ┆           │\n",
       "│ RS_GCF_902 ┆ 0.0       ┆ 0.0       ┆ 1       ┆ … ┆ o__Burkho ┆ f__Burkho ┆ g__Achrom ┆ aerobe    │\n",
       "│ 859645.1   ┆           ┆           ┆         ┆   ┆ lderiales ┆ lderiacea ┆ obacter   ┆           │\n",
       "│            ┆           ┆           ┆         ┆   ┆           ┆ e         ┆           ┆           │\n",
       "│ RS_GCF_902 ┆ 0.0       ┆ 0.0       ┆ 1       ┆ … ┆ o__Burkho ┆ f__Burkho ┆ g__Achrom ┆ aerobe    │\n",
       "│ 859695.1   ┆           ┆           ┆         ┆   ┆ lderiales ┆ lderiacea ┆ obacter   ┆           │\n",
       "│            ┆           ┆           ┆         ┆   ┆           ┆ e         ┆           ┆           │\n",
       "│ RS_GCF_903 ┆ 0.0       ┆ 0.0       ┆ 2       ┆ … ┆ o__Bryoba ┆ f__Bryoba ┆ g__Bog-11 ┆ aerobe    │\n",
       "│ 970205.1   ┆           ┆           ┆         ┆   ┆ cterales  ┆ cteraceae ┆ 3         ┆           │\n",
       "└────────────┴───────────┴───────────┴─────────┴───┴───────────┴───────────┴───────────┴───────────┘"
      ]
     },
     "execution_count": 31,
     "metadata": {},
     "output_type": "execute_result"
    }
   ],
   "source": [
    "d3"
   ]
  },
  {
   "cell_type": "markdown",
   "id": "97553d5b-d5f9-4c80-a991-e7bcf69a65db",
   "metadata": {},
   "source": [
    "### Random"
   ]
  },
  {
   "cell_type": "code",
   "execution_count": 32,
   "id": "edef4c91-0cdc-42c8-96bd-59b6ae9dbab2",
   "metadata": {},
   "outputs": [
    {
     "name": "stdout",
     "output_type": "stream",
     "text": [
      "Train groups: 2528\tTest groups: 633\n",
      "Train/test split is 80%/20%\n",
      "Train: 2528\tTest: 633\n"
     ]
    }
   ],
   "source": [
    "groups = d3['accession']\n",
    "groups\n",
    "\n",
    "data = pd.DataFrame(X)\n",
    "data['target'] = y\n",
    "data['group'] = groups\n",
    "data\n",
    "\n",
    "unique_group = data['group'].unique()\n",
    "unique_group\n",
    "len(unique_group)\n",
    "\n",
    "train_groups, test_groups = train_test_split(unique_group, test_size=0.2, random_state=42)\n",
    "train_groups\n",
    "test_groups\n",
    "\n",
    "print(f'Train groups: {len(train_groups)}\\tTest groups: {len(test_groups)}')\n",
    "\n",
    "train_mask = data['group'].isin(train_groups)\n",
    "test_mask = data['group'].isin(test_groups)\n",
    "train_mask\n",
    "test_mask\n",
    "\n",
    "X_train = data[train_mask].drop(columns=['target', 'group']).values\n",
    "y_train = data[train_mask]['target'].values\n",
    "X_test = data[test_mask].drop(columns=['target', 'group']).values\n",
    "y_test = data[test_mask]['target'].values\n",
    "\n",
    "print(f'Train/test split is {(len(y_train)/(len(y_train) + len(y_test)) * 100):.0f}%/{(len(y_test)/(len(y_train) + len(y_test)) * 100):.0f}%')\n",
    "print(f'Train: {X_train.shape[0]}\\tTest: {X_test.shape[0]}')"
   ]
  },
  {
   "cell_type": "code",
   "execution_count": 33,
   "id": "f41e9126-d35d-4f2f-a93a-22d974185605",
   "metadata": {
    "scrolled": true
   },
   "outputs": [],
   "source": [
    "pipe.fit(X_train, y_train)\n",
    "\n",
    "y_pred = pipe.predict(X_test)\n",
    "\n",
    "accuracy_test = accuracy_score(y_test, y_pred)\n",
    "accuracy_train = accuracy_score(y_train, pipe.predict(X_train))\n",
    "cv_scores = cross_val_score(pipe, X_train, y_train, cv=5)\n",
    "mean_cv_accuracy = np.mean(cv_scores)"
   ]
  },
  {
   "cell_type": "code",
   "execution_count": 34,
   "id": "a04c6f41-8f39-41ff-a047-3c979f0d61d1",
   "metadata": {},
   "outputs": [
    {
     "name": "stdout",
     "output_type": "stream",
     "text": [
      "CV_Accuracy = 0.97\n",
      "Accuracy = 0.98\n",
      "Balanced Accuracy = 0.97\n",
      "Precision = 0.98\n",
      "Recall = 0.98\n",
      "F1 = 0.98\n"
     ]
    }
   ],
   "source": [
    "print(f'CV_Accuracy = {mean_cv_accuracy:.2f}\\nAccuracy = {accuracy_score(y_test, y_pred):.2f}\\nBalanced Accuracy = {balanced_accuracy_score(y_test, y_pred):.2f}\\nPrecision = {precision_score(y_test, y_pred):.2f}\\nRecall = {recall_score(y_test, y_pred):.2f}\\nF1 = {f1_score(y_test, y_pred):.2f}')"
   ]
  },
  {
   "cell_type": "code",
   "execution_count": null,
   "id": "402204fe-8f6d-461f-ac2d-0258836cc6b6",
   "metadata": {},
   "outputs": [],
   "source": []
  },
  {
   "cell_type": "code",
   "execution_count": 35,
   "id": "0db33920-e532-4701-816a-9e65f0b801e9",
   "metadata": {},
   "outputs": [
    {
     "name": "stdout",
     "output_type": "stream",
     "text": [
      "Train: 2528\tTest: 633\n"
     ]
    }
   ],
   "source": [
    "X_train, X_test, y_train, y_test = train_test_split(X, y, test_size=0.2, random_state=1408)\n",
    "\n",
    "print(f'Train: {X_train.shape[0]}\\tTest: {X_test.shape[0]}')"
   ]
  },
  {
   "cell_type": "code",
   "execution_count": 36,
   "id": "7617a434-322f-4c96-9a31-490786b8164f",
   "metadata": {
    "scrolled": true
   },
   "outputs": [
    {
     "data": {
      "text/plain": [
       "array([0, 1, 1, 1, 1, 1, 1, 0, 0, 0, 1, 1, 0, 1, 1, 1, 1, 0, 0, 1, 1, 1,\n",
       "       1, 0, 1, 0, 0, 1, 1, 1, 1, 0, 1, 1, 1, 1, 0, 0, 0, 1, 1, 0, 0, 0,\n",
       "       1, 0, 1, 1, 0, 0, 1, 1, 1, 1, 0, 0, 1, 1, 1, 1, 1, 0, 0, 1, 1, 1,\n",
       "       0, 1, 0, 1, 1, 0, 1, 0, 1, 1, 1, 1, 0, 1, 0, 1, 1, 1, 1, 1, 0, 0,\n",
       "       1, 1, 1, 1, 1, 1, 1, 1, 0, 1, 1, 0, 0, 1, 1, 0, 0, 1, 0, 1, 1, 1,\n",
       "       0, 0, 1, 1, 1, 0, 1, 1, 1, 1, 1, 1, 0, 0, 1, 1, 0, 0, 0, 1, 0, 0,\n",
       "       1, 1, 1, 0, 1, 1, 0, 1, 1, 1, 0, 0, 0, 1, 1, 1, 0, 0, 1, 0, 1, 1,\n",
       "       1, 1, 1, 1, 1, 0, 1, 0, 1, 0, 0, 1, 1, 1, 1, 1, 1, 1, 0, 0, 1, 1,\n",
       "       1, 0, 1, 1, 1, 1, 1, 1, 1, 0, 1, 1, 1, 1, 1, 1, 0, 1, 1, 1, 1, 1,\n",
       "       1, 1, 1, 0, 0, 0, 1, 0, 0, 0, 1, 0, 1, 0, 0, 1, 1, 0, 1, 1, 1, 1,\n",
       "       1, 1, 1, 1, 1, 1, 0, 0, 0, 1, 1, 1, 0, 0, 1, 0, 0, 0, 1, 1, 0, 0,\n",
       "       1, 1, 1, 1, 1, 1, 0, 1, 1, 1, 0, 0, 1, 0, 1, 0, 0, 1, 1, 1, 1, 0,\n",
       "       1, 0, 0, 1, 0, 1, 1, 1, 0, 1, 1, 1, 1, 0, 1, 1, 0, 0, 0, 1, 1, 1,\n",
       "       1, 1, 0, 1, 1, 1, 1, 1, 1, 1, 0, 1, 1, 0, 1, 1, 0, 0, 1, 1, 0, 1,\n",
       "       1, 0, 1, 1, 0, 0, 0, 1, 0, 1, 1, 1, 1, 1, 0, 1, 1, 1, 0, 1, 1, 1,\n",
       "       1, 0, 1, 1, 0, 1, 0, 1, 0, 0, 0, 1, 1, 1, 1, 1, 1, 0, 0, 1, 1, 1,\n",
       "       1, 0, 1, 1, 0, 1, 0, 0, 1, 0, 1, 1, 1, 1, 1, 1, 1, 1, 1, 1, 1, 1,\n",
       "       1, 1, 1, 1, 1, 1, 1, 1, 0, 0, 1, 1, 1, 1, 1, 1, 1, 0, 1, 1, 1, 0,\n",
       "       0, 0, 1, 1, 0, 0, 1, 0, 1, 0, 1, 0, 0, 0, 0, 1, 1, 1, 1, 1, 1, 1,\n",
       "       1, 0, 1, 1, 0, 0, 1, 0, 0, 1, 0, 1, 1, 0, 1, 1, 1, 1, 1, 1, 0, 1,\n",
       "       1, 1, 1, 1, 1, 1, 1, 1, 1, 0, 1, 1, 1, 0, 0, 0, 0, 1, 1, 1, 0, 1,\n",
       "       0, 1, 0, 0, 1, 1, 1, 0, 0, 1, 1, 0, 1, 1, 1, 1, 0, 0, 1, 1, 0, 0,\n",
       "       0, 0, 0, 1, 1, 0, 1, 1, 0, 1, 1, 1, 1, 1, 1, 0, 1, 0, 0, 1, 1, 1,\n",
       "       1, 1, 1, 1, 0, 1, 1, 1, 1, 0, 1, 0, 0, 0, 1, 1, 1, 1, 1, 0, 0, 0,\n",
       "       1, 0, 1, 1, 1, 1, 0, 0, 1, 1, 1, 1, 0, 1, 1, 0, 1, 1, 0, 1, 1, 1,\n",
       "       1, 1, 0, 0, 1, 1, 1, 0, 0, 0, 0, 0, 1, 1, 1, 0, 1, 1, 1, 0, 1, 1,\n",
       "       1, 0, 1, 1, 1, 1, 1, 0, 1, 0, 0, 1, 1, 1, 1, 1, 1, 1, 1, 0, 0, 1,\n",
       "       1, 1, 0, 1, 1, 1, 1, 1, 1, 1, 0, 1, 0, 1, 1, 1, 0, 1, 0, 0, 1, 1,\n",
       "       0, 0, 1, 0, 1, 1, 0, 0, 0, 1, 0, 0, 1, 0, 1, 1, 1])"
      ]
     },
     "execution_count": 36,
     "metadata": {},
     "output_type": "execute_result"
    }
   ],
   "source": [
    "pipe.fit(X_train, y_train)\n",
    "y_pred = pipe.predict(X_test)\n",
    "y_pred"
   ]
  },
  {
   "cell_type": "code",
   "execution_count": 37,
   "id": "13aa8a97-455d-4fcf-ab60-b28c0fcfd191",
   "metadata": {},
   "outputs": [
    {
     "name": "stdout",
     "output_type": "stream",
     "text": [
      "Accuracy = 0.99\n",
      "Balanced Accuracy = 0.99\n",
      "Precision = 0.99\n",
      "Recall = 0.99\n",
      "F1 = 0.99\n"
     ]
    }
   ],
   "source": [
    "print(f'Accuracy = {accuracy_score(y_test, y_pred):.2f}\\nBalanced Accuracy = {balanced_accuracy_score(y_test, y_pred):.2f}\\nPrecision = {precision_score(y_test, y_pred):.2f}\\nRecall = {recall_score(y_test, y_pred):.2f}\\nF1 = {f1_score(y_test, y_pred):.2f}')"
   ]
  },
  {
   "cell_type": "code",
   "execution_count": null,
   "id": "959d8ed4-55ff-4636-bb98-346ddb51e1ee",
   "metadata": {
    "scrolled": true
   },
   "outputs": [],
   "source": []
  },
  {
   "cell_type": "code",
   "execution_count": 38,
   "id": "4a67461a-f0db-41f6-8af2-0c5e976237d8",
   "metadata": {
    "scrolled": true
   },
   "outputs": [
    {
     "data": {
      "text/html": [
       "<div>\n",
       "<style scoped>\n",
       "    .dataframe tbody tr th:only-of-type {\n",
       "        vertical-align: middle;\n",
       "    }\n",
       "\n",
       "    .dataframe tbody tr th {\n",
       "        vertical-align: top;\n",
       "    }\n",
       "\n",
       "    .dataframe thead th {\n",
       "        text-align: right;\n",
       "    }\n",
       "</style>\n",
       "<table border=\"1\" class=\"dataframe\">\n",
       "  <thead>\n",
       "    <tr style=\"text-align: right;\">\n",
       "      <th></th>\n",
       "      <th>score</th>\n",
       "    </tr>\n",
       "  </thead>\n",
       "  <tbody>\n",
       "    <tr>\n",
       "      <th>COG1328</th>\n",
       "      <td>15.0</td>\n",
       "    </tr>\n",
       "    <tr>\n",
       "      <th>COG1249</th>\n",
       "      <td>11.0</td>\n",
       "    </tr>\n",
       "    <tr>\n",
       "      <th>COG2352</th>\n",
       "      <td>10.0</td>\n",
       "    </tr>\n",
       "    <tr>\n",
       "      <th>COG1335</th>\n",
       "      <td>9.0</td>\n",
       "    </tr>\n",
       "    <tr>\n",
       "      <th>COG4231</th>\n",
       "      <td>9.0</td>\n",
       "    </tr>\n",
       "    <tr>\n",
       "      <th>COG1592</th>\n",
       "      <td>9.0</td>\n",
       "    </tr>\n",
       "    <tr>\n",
       "      <th>COG1002</th>\n",
       "      <td>9.0</td>\n",
       "    </tr>\n",
       "    <tr>\n",
       "      <th>COG1350</th>\n",
       "      <td>8.0</td>\n",
       "    </tr>\n",
       "    <tr>\n",
       "      <th>COG0109</th>\n",
       "      <td>8.0</td>\n",
       "    </tr>\n",
       "    <tr>\n",
       "      <th>COG2905</th>\n",
       "      <td>8.0</td>\n",
       "    </tr>\n",
       "  </tbody>\n",
       "</table>\n",
       "</div>"
      ],
      "text/plain": [
       "         score\n",
       "COG1328   15.0\n",
       "COG1249   11.0\n",
       "COG2352   10.0\n",
       "COG1335    9.0\n",
       "COG4231    9.0\n",
       "COG1592    9.0\n",
       "COG1002    9.0\n",
       "COG1350    8.0\n",
       "COG0109    8.0\n",
       "COG2905    8.0"
      ]
     },
     "execution_count": 38,
     "metadata": {},
     "output_type": "execute_result"
    }
   ],
   "source": [
    "pipe['xgbclassifier'].get_booster().feature_names = list(X.columns)\n",
    "feature_important = pipe['xgbclassifier'].get_booster().get_score(importance_type='weight')\n",
    "keys = list(feature_important.keys())\n",
    "values = list(feature_important.values())\n",
    "\n",
    "data = pd.DataFrame(data=values, index=keys, columns=[\"score\"]).sort_values(by = \"score\", ascending=False)\n",
    "data.nlargest(10, columns=\"score\")"
   ]
  },
  {
   "cell_type": "code",
   "execution_count": 39,
   "id": "d0ce448a-625e-40d8-8e70-6c307afabc32",
   "metadata": {},
   "outputs": [
    {
     "data": {
      "image/png": "[encoded data removed]",
      "text/plain": [
       "<Figure size 2000x1000 with 1 Axes>"
      ]
     },
     "metadata": {},
     "output_type": "display_data"
    }
   ],
   "source": [
    "data.nlargest(10, columns=\"score\").plot(kind='barh', figsize = (20,10));"
   ]
  },
  {
   "cell_type": "code",
   "execution_count": null,
   "id": "444d3211-2d9f-490c-8bf7-6e88fd1ae6cb",
   "metadata": {},
   "outputs": [],
   "source": []
  },
  {
   "cell_type": "code",
   "execution_count": null,
   "id": "04489ce9-75f0-4c38-976d-363f844bc6af",
   "metadata": {},
   "outputs": [],
   "source": []
  },
  {
   "cell_type": "code",
   "execution_count": null,
   "id": "2f2cae6c-8274-4a22-bf9c-3943b828161d",
   "metadata": {},
   "outputs": [],
   "source": []
  },
  {
   "cell_type": "markdown",
   "id": "4199d006-4f4b-400c-8a00-46c1a885cfad",
   "metadata": {},
   "source": [
    "### Another scaler"
   ]
  },
  {
   "cell_type": "code",
   "execution_count": 43,
   "id": "f08efb60-8325-43c7-8cde-babeda111260",
   "metadata": {},
   "outputs": [],
   "source": [
    "pipe_sc = make_pipeline(\n",
    "    StandardScaler(),\n",
    "    #MaxAbsScaler(),\n",
    "    #LogisticRegression(max_iter=1000,n_jobs=n_jobs)\n",
    "    XGBClassifier(n_jobs=threads, use_label_encoder=False)\n",
    ")"
   ]
  },
  {
   "cell_type": "code",
   "execution_count": null,
   "id": "7abaa9a5-557d-4480-beb5-9c3d7fd5d75f",
   "metadata": {},
   "outputs": [],
   "source": []
  },
  {
   "cell_type": "code",
   "execution_count": 44,
   "id": "9f0f4d47-4089-49e6-848c-5c8995298904",
   "metadata": {},
   "outputs": [],
   "source": [
    "data = pd.DataFrame(X)\n",
    "data['target'] = y\n",
    "data['group'] = groups\n",
    "\n",
    "unique_group = data['group'].unique()\n",
    "\n",
    "train_groups, test_groups = train_test_split(unique_group, test_size=0.2, random_state=42)\n",
    "\n",
    "train_mask = data['group'].isin(train_groups)\n",
    "test_mask = data['group'].isin(test_groups)\n",
    "\n",
    "X_train = data[train_mask].drop(columns=['target', 'group']).values\n",
    "y_train = data[train_mask]['target'].values\n",
    "X_test = data[test_mask].drop(columns=['target', 'group']).values\n",
    "y_test = data[test_mask]['target'].values"
   ]
  },
  {
   "cell_type": "code",
   "execution_count": 45,
   "id": "ddf3c440-b5db-4138-860a-561d1a11efb4",
   "metadata": {},
   "outputs": [
    {
     "name": "stdout",
     "output_type": "stream",
     "text": [
      "Train: 2528\tTest: 633\n"
     ]
    }
   ],
   "source": [
    "print(f'Train: {X_train.shape[0]}\\tTest: {X_test.shape[0]}')"
   ]
  },
  {
   "cell_type": "code",
   "execution_count": 46,
   "id": "27753022-9678-4447-96f8-37eecd831772",
   "metadata": {
    "scrolled": true
   },
   "outputs": [
    {
     "data": {
      "text/plain": [
       "array([0, 1, 1, 1, 0, 1, 1, 1, 1, 1, 1, 1, 1, 1, 1, 1, 0, 1, 1, 1, 1, 0,\n",
       "       1, 1, 1, 1, 1, 1, 1, 1, 1, 1, 1, 1, 1, 1, 1, 1, 1, 1, 1, 1, 1, 1,\n",
       "       1, 1, 1, 1, 1, 1, 1, 1, 1, 1, 1, 0, 1, 1, 0, 0, 0, 1, 0, 0, 0, 0,\n",
       "       0, 1, 0, 1, 0, 0, 0, 0, 1, 1, 0, 0, 0, 0, 1, 1, 0, 0, 0, 0, 0, 1,\n",
       "       0, 0, 1, 0, 1, 0, 0, 0, 0, 0, 0, 0, 0, 1, 1, 1, 0, 0, 0, 0, 0, 0,\n",
       "       1, 1, 0, 0, 0, 0, 0, 0, 0, 0, 1, 0, 0, 1, 0, 0, 0, 0, 0, 0, 0, 1,\n",
       "       0, 0, 1, 0, 0, 1, 1, 1, 0, 0, 1, 0, 1, 0, 1, 1, 1, 1, 1, 1, 1, 0,\n",
       "       1, 0, 0, 0, 0, 1, 1, 1, 0, 0, 1, 1, 1, 1, 1, 1, 1, 1, 0, 1, 1, 1,\n",
       "       0, 1, 1, 1, 1, 1, 1, 0, 1, 1, 0, 1, 1, 1, 1, 1, 1, 0, 1, 0, 1, 1,\n",
       "       1, 0, 1, 0, 1, 1, 1, 1, 0, 1, 0, 1, 0, 1, 1, 0, 1, 1, 0, 1, 1, 0,\n",
       "       1, 0, 1, 1, 1, 1, 0, 1, 1, 0, 1, 1, 0, 1, 1, 1, 1, 0, 1, 0, 1, 0,\n",
       "       0, 0, 0, 1, 1, 1, 1, 0, 1, 1, 1, 1, 1, 1, 0, 0, 0, 1, 0, 1, 0, 1,\n",
       "       0, 1, 1, 1, 1, 1, 1, 1, 0, 1, 1, 1, 1, 1, 0, 1, 1, 1, 1, 1, 1, 1,\n",
       "       0, 0, 1, 1, 0, 0, 1, 1, 1, 1, 1, 1, 1, 1, 1, 1, 1, 1, 1, 1, 0, 1,\n",
       "       1, 1, 0, 0, 0, 1, 0, 1, 1, 0, 1, 0, 1, 1, 1, 0, 1, 1, 0, 1, 0, 1,\n",
       "       0, 1, 1, 0, 1, 1, 1, 1, 1, 1, 0, 1, 1, 1, 1, 1, 1, 0, 0, 1, 1, 1,\n",
       "       1, 1, 1, 1, 1, 0, 1, 1, 1, 0, 0, 1, 1, 1, 1, 0, 1, 1, 1, 1, 1, 1,\n",
       "       1, 1, 1, 1, 1, 0, 0, 1, 1, 1, 1, 1, 1, 1, 1, 1, 1, 1, 0, 1, 1, 1,\n",
       "       1, 1, 1, 1, 1, 1, 1, 1, 1, 1, 1, 1, 0, 0, 1, 0, 0, 0, 1, 1, 1, 1,\n",
       "       1, 0, 1, 1, 1, 1, 1, 1, 1, 1, 1, 1, 1, 1, 0, 0, 0, 1, 0, 1, 1, 0,\n",
       "       1, 1, 1, 1, 1, 1, 0, 1, 1, 1, 0, 1, 0, 1, 1, 1, 0, 1, 1, 1, 1, 1,\n",
       "       1, 1, 0, 1, 1, 1, 1, 1, 1, 1, 1, 1, 0, 0, 1, 1, 1, 1, 1, 1, 1, 1,\n",
       "       1, 0, 0, 0, 1, 1, 1, 0, 1, 1, 1, 1, 1, 1, 1, 1, 0, 1, 0, 1, 1, 1,\n",
       "       0, 1, 1, 1, 1, 1, 0, 1, 1, 1, 1, 0, 0, 1, 1, 1, 1, 1, 0, 1, 1, 0,\n",
       "       1, 1, 1, 0, 1, 1, 1, 1, 1, 1, 0, 0, 1, 1, 0, 1, 0, 0, 1, 1, 1, 0,\n",
       "       1, 0, 0, 1, 1, 1, 1, 1, 0, 1, 1, 1, 1, 0, 1, 1, 1, 1, 1, 1, 1, 1,\n",
       "       0, 1, 1, 0, 1, 1, 0, 1, 0, 0, 0, 0, 1, 0, 1, 0, 0, 0, 0, 1, 1, 1,\n",
       "       0, 0, 0, 0, 0, 0, 0, 1, 0, 0, 1, 0, 1, 1, 1, 1, 0, 0, 0, 1, 0, 1,\n",
       "       0, 1, 1, 0, 1, 1, 0, 1, 1, 1, 1, 0, 1, 0, 1, 1, 1])"
      ]
     },
     "execution_count": 46,
     "metadata": {},
     "output_type": "execute_result"
    }
   ],
   "source": [
    "pipe_sc.fit(X_train, y_train)\n",
    "y_pred = pipe_sc.predict(X_test)\n",
    "y_pred"
   ]
  },
  {
   "cell_type": "code",
   "execution_count": 47,
   "id": "565f59e0-3e87-49c4-85e5-b3e24324f32a",
   "metadata": {},
   "outputs": [
    {
     "name": "stdout",
     "output_type": "stream",
     "text": [
      "Accuracy = 0.98\n",
      "Balanced Accuracy = 0.97\n",
      "Precision = 0.98\n",
      "Recall = 0.98\n",
      "F1 = 0.98\n"
     ]
    }
   ],
   "source": [
    "print(f'Accuracy = {accuracy_score(y_test, y_pred):.2f}\\nBalanced Accuracy = {balanced_accuracy_score(y_test, y_pred):.2f}\\nPrecision = {precision_score(y_test, y_pred):.2f}\\nRecall = {recall_score(y_test, y_pred):.2f}\\nF1 = {f1_score(y_test, y_pred):.2f}')"
   ]
  },
  {
   "cell_type": "code",
   "execution_count": 48,
   "id": "49d4db1f-d293-465e-9edf-75605322bba5",
   "metadata": {},
   "outputs": [
    {
     "data": {
      "text/html": [
       "<style>#sk-container-id-1 {\n",
       "  /* Definition of color scheme common for light and dark mode */\n",
       "  --sklearn-color-text: black;\n",
       "  --sklearn-color-line: gray;\n",
       "  /* Definition of color scheme for unfitted estimators */\n",
       "  --sklearn-color-unfitted-level-0: #fff5e6;\n",
       "  --sklearn-color-unfitted-level-1: #f6e4d2;\n",
       "  --sklearn-color-unfitted-level-2: #ffe0b3;\n",
       "  --sklearn-color-unfitted-level-3: chocolate;\n",
       "  /* Definition of color scheme for fitted estimators */\n",
       "  --sklearn-color-fitted-level-0: #f0f8ff;\n",
       "  --sklearn-color-fitted-level-1: #d4ebff;\n",
       "  --sklearn-color-fitted-level-2: #b3dbfd;\n",
       "  --sklearn-color-fitted-level-3: cornflowerblue;\n",
       "\n",
       "  /* Specific color for light theme */\n",
       "  --sklearn-color-text-on-default-background: var(--sg-text-color, var(--theme-code-foreground, var(--jp-content-font-color1, black)));\n",
       "  --sklearn-color-background: var(--sg-background-color, var(--theme-background, var(--jp-layout-color0, white)));\n",
       "  --sklearn-color-border-box: var(--sg-text-color, var(--theme-code-foreground, var(--jp-content-font-color1, black)));\n",
       "  --sklearn-color-icon: #696969;\n",
       "\n",
       "  @media (prefers-color-scheme: dark) {\n",
       "    /* Redefinition of color scheme for dark theme */\n",
       "    --sklearn-color-text-on-default-background: var(--sg-text-color, var(--theme-code-foreground, var(--jp-content-font-color1, white)));\n",
       "    --sklearn-color-background: var(--sg-background-color, var(--theme-background, var(--jp-layout-color0, #111)));\n",
       "    --sklearn-color-border-box: var(--sg-text-color, var(--theme-code-foreground, var(--jp-content-font-color1, white)));\n",
       "    --sklearn-color-icon: #878787;\n",
       "  }\n",
       "}\n",
       "\n",
       "#sk-container-id-1 {\n",
       "  color: var(--sklearn-color-text);\n",
       "}\n",
       "\n",
       "#sk-container-id-1 pre {\n",
       "  padding: 0;\n",
       "}\n",
       "\n",
       "#sk-container-id-1 input.sk-hidden--visually {\n",
       "  border: 0;\n",
       "  clip: rect(1px 1px 1px 1px);\n",
       "  clip: rect(1px, 1px, 1px, 1px);\n",
       "  height: 1px;\n",
       "  margin: -1px;\n",
       "  overflow: hidden;\n",
       "  padding: 0;\n",
       "  position: absolute;\n",
       "  width: 1px;\n",
       "}\n",
       "\n",
       "#sk-container-id-1 div.sk-dashed-wrapped {\n",
       "  border: 1px dashed var(--sklearn-color-line);\n",
       "  margin: 0 0.4em 0.5em 0.4em;\n",
       "  box-sizing: border-box;\n",
       "  padding-bottom: 0.4em;\n",
       "  background-color: var(--sklearn-color-background);\n",
       "}\n",
       "\n",
       "#sk-container-id-1 div.sk-container {\n",
       "  /* jupyter's `normalize.less` sets `[hidden] { display: none; }`\n",
       "     but bootstrap.min.css set `[hidden] { display: none !important; }`\n",
       "     so we also need the `!important` here to be able to override the\n",
       "     default hidden behavior on the sphinx rendered scikit-learn.org.\n",
       "     See: https://github.com/scikit-learn/scikit-learn/issues/21755 */\n",
       "  display: inline-block !important;\n",
       "  position: relative;\n",
       "}\n",
       "\n",
       "#sk-container-id-1 div.sk-text-repr-fallback {\n",
       "  display: none;\n",
       "}\n",
       "\n",
       "div.sk-parallel-item,\n",
       "div.sk-serial,\n",
       "div.sk-item {\n",
       "  /* draw centered vertical line to link estimators */\n",
       "  background-image: linear-gradient(var(--sklearn-color-text-on-default-background), var(--sklearn-color-text-on-default-background));\n",
       "  background-size: 2px 100%;\n",
       "  background-repeat: no-repeat;\n",
       "  background-position: center center;\n",
       "}\n",
       "\n",
       "/* Parallel-specific style estimator block */\n",
       "\n",
       "#sk-container-id-1 div.sk-parallel-item::after {\n",
       "  content: \"\";\n",
       "  width: 100%;\n",
       "  border-bottom: 2px solid var(--sklearn-color-text-on-default-background);\n",
       "  flex-grow: 1;\n",
       "}\n",
       "\n",
       "#sk-container-id-1 div.sk-parallel {\n",
       "  display: flex;\n",
       "  align-items: stretch;\n",
       "  justify-content: center;\n",
       "  background-color: var(--sklearn-color-background);\n",
       "  position: relative;\n",
       "}\n",
       "\n",
       "#sk-container-id-1 div.sk-parallel-item {\n",
       "  display: flex;\n",
       "  flex-direction: column;\n",
       "}\n",
       "\n",
       "#sk-container-id-1 div.sk-parallel-item:first-child::after {\n",
       "  align-self: flex-end;\n",
       "  width: 50%;\n",
       "}\n",
       "\n",
       "#sk-container-id-1 div.sk-parallel-item:last-child::after {\n",
       "  align-self: flex-start;\n",
       "  width: 50%;\n",
       "}\n",
       "\n",
       "#sk-container-id-1 div.sk-parallel-item:only-child::after {\n",
       "  width: 0;\n",
       "}\n",
       "\n",
       "/* Serial-specific style estimator block */\n",
       "\n",
       "#sk-container-id-1 div.sk-serial {\n",
       "  display: flex;\n",
       "  flex-direction: column;\n",
       "  align-items: center;\n",
       "  background-color: var(--sklearn-color-background);\n",
       "  padding-right: 1em;\n",
       "  padding-left: 1em;\n",
       "}\n",
       "\n",
       "\n",
       "/* Toggleable style: style used for estimator/Pipeline/ColumnTransformer box that is\n",
       "clickable and can be expanded/collapsed.\n",
       "- Pipeline and ColumnTransformer use this feature and define the default style\n",
       "- Estimators will overwrite some part of the style using the `sk-estimator` class\n",
       "*/\n",
       "\n",
       "/* Pipeline and ColumnTransformer style (default) */\n",
       "\n",
       "#sk-container-id-1 div.sk-toggleable {\n",
       "  /* Default theme specific background. It is overwritten whether we have a\n",
       "  specific estimator or a Pipeline/ColumnTransformer */\n",
       "  background-color: var(--sklearn-color-background);\n",
       "}\n",
       "\n",
       "/* Toggleable label */\n",
       "#sk-container-id-1 label.sk-toggleable__label {\n",
       "  cursor: pointer;\n",
       "  display: block;\n",
       "  width: 100%;\n",
       "  margin-bottom: 0;\n",
       "  padding: 0.5em;\n",
       "  box-sizing: border-box;\n",
       "  text-align: center;\n",
       "}\n",
       "\n",
       "#sk-container-id-1 label.sk-toggleable__label-arrow:before {\n",
       "  /* Arrow on the left of the label */\n",
       "  content: \"▸\";\n",
       "  float: left;\n",
       "  margin-right: 0.25em;\n",
       "  color: var(--sklearn-color-icon);\n",
       "}\n",
       "\n",
       "#sk-container-id-1 label.sk-toggleable__label-arrow:hover:before {\n",
       "  color: var(--sklearn-color-text);\n",
       "}\n",
       "\n",
       "/* Toggleable content - dropdown */\n",
       "\n",
       "#sk-container-id-1 div.sk-toggleable__content {\n",
       "  max-height: 0;\n",
       "  max-width: 0;\n",
       "  overflow: hidden;\n",
       "  text-align: left;\n",
       "  /* unfitted */\n",
       "  background-color: var(--sklearn-color-unfitted-level-0);\n",
       "}\n",
       "\n",
       "#sk-container-id-1 div.sk-toggleable__content.fitted {\n",
       "  /* fitted */\n",
       "  background-color: var(--sklearn-color-fitted-level-0);\n",
       "}\n",
       "\n",
       "#sk-container-id-1 div.sk-toggleable__content pre {\n",
       "  margin: 0.2em;\n",
       "  border-radius: 0.25em;\n",
       "  color: var(--sklearn-color-text);\n",
       "  /* unfitted */\n",
       "  background-color: var(--sklearn-color-unfitted-level-0);\n",
       "}\n",
       "\n",
       "#sk-container-id-1 div.sk-toggleable__content.fitted pre {\n",
       "  /* unfitted */\n",
       "  background-color: var(--sklearn-color-fitted-level-0);\n",
       "}\n",
       "\n",
       "#sk-container-id-1 input.sk-toggleable__control:checked~div.sk-toggleable__content {\n",
       "  /* Expand drop-down */\n",
       "  max-height: 200px;\n",
       "  max-width: 100%;\n",
       "  overflow: auto;\n",
       "}\n",
       "\n",
       "#sk-container-id-1 input.sk-toggleable__control:checked~label.sk-toggleable__label-arrow:before {\n",
       "  content: \"▾\";\n",
       "}\n",
       "\n",
       "/* Pipeline/ColumnTransformer-specific style */\n",
       "\n",
       "#sk-container-id-1 div.sk-label input.sk-toggleable__control:checked~label.sk-toggleable__label {\n",
       "  color: var(--sklearn-color-text);\n",
       "  background-color: var(--sklearn-color-unfitted-level-2);\n",
       "}\n",
       "\n",
       "#sk-container-id-1 div.sk-label.fitted input.sk-toggleable__control:checked~label.sk-toggleable__label {\n",
       "  background-color: var(--sklearn-color-fitted-level-2);\n",
       "}\n",
       "\n",
       "/* Estimator-specific style */\n",
       "\n",
       "/* Colorize estimator box */\n",
       "#sk-container-id-1 div.sk-estimator input.sk-toggleable__control:checked~label.sk-toggleable__label {\n",
       "  /* unfitted */\n",
       "  background-color: var(--sklearn-color-unfitted-level-2);\n",
       "}\n",
       "\n",
       "#sk-container-id-1 div.sk-estimator.fitted input.sk-toggleable__control:checked~label.sk-toggleable__label {\n",
       "  /* fitted */\n",
       "  background-color: var(--sklearn-color-fitted-level-2);\n",
       "}\n",
       "\n",
       "#sk-container-id-1 div.sk-label label.sk-toggleable__label,\n",
       "#sk-container-id-1 div.sk-label label {\n",
       "  /* The background is the default theme color */\n",
       "  color: var(--sklearn-color-text-on-default-background);\n",
       "}\n",
       "\n",
       "/* On hover, darken the color of the background */\n",
       "#sk-container-id-1 div.sk-label:hover label.sk-toggleable__label {\n",
       "  color: var(--sklearn-color-text);\n",
       "  background-color: var(--sklearn-color-unfitted-level-2);\n",
       "}\n",
       "\n",
       "/* Label box, darken color on hover, fitted */\n",
       "#sk-container-id-1 div.sk-label.fitted:hover label.sk-toggleable__label.fitted {\n",
       "  color: var(--sklearn-color-text);\n",
       "  background-color: var(--sklearn-color-fitted-level-2);\n",
       "}\n",
       "\n",
       "/* Estimator label */\n",
       "\n",
       "#sk-container-id-1 div.sk-label label {\n",
       "  font-family: monospace;\n",
       "  font-weight: bold;\n",
       "  display: inline-block;\n",
       "  line-height: 1.2em;\n",
       "}\n",
       "\n",
       "#sk-container-id-1 div.sk-label-container {\n",
       "  text-align: center;\n",
       "}\n",
       "\n",
       "/* Estimator-specific */\n",
       "#sk-container-id-1 div.sk-estimator {\n",
       "  font-family: monospace;\n",
       "  border: 1px dotted var(--sklearn-color-border-box);\n",
       "  border-radius: 0.25em;\n",
       "  box-sizing: border-box;\n",
       "  margin-bottom: 0.5em;\n",
       "  /* unfitted */\n",
       "  background-color: var(--sklearn-color-unfitted-level-0);\n",
       "}\n",
       "\n",
       "#sk-container-id-1 div.sk-estimator.fitted {\n",
       "  /* fitted */\n",
       "  background-color: var(--sklearn-color-fitted-level-0);\n",
       "}\n",
       "\n",
       "/* on hover */\n",
       "#sk-container-id-1 div.sk-estimator:hover {\n",
       "  /* unfitted */\n",
       "  background-color: var(--sklearn-color-unfitted-level-2);\n",
       "}\n",
       "\n",
       "#sk-container-id-1 div.sk-estimator.fitted:hover {\n",
       "  /* fitted */\n",
       "  background-color: var(--sklearn-color-fitted-level-2);\n",
       "}\n",
       "\n",
       "/* Specification for estimator info (e.g. \"i\" and \"?\") */\n",
       "\n",
       "/* Common style for \"i\" and \"?\" */\n",
       "\n",
       ".sk-estimator-doc-link,\n",
       "a:link.sk-estimator-doc-link,\n",
       "a:visited.sk-estimator-doc-link {\n",
       "  float: right;\n",
       "  font-size: smaller;\n",
       "  line-height: 1em;\n",
       "  font-family: monospace;\n",
       "  background-color: var(--sklearn-color-background);\n",
       "  border-radius: 1em;\n",
       "  height: 1em;\n",
       "  width: 1em;\n",
       "  text-decoration: none !important;\n",
       "  margin-left: 1ex;\n",
       "  /* unfitted */\n",
       "  border: var(--sklearn-color-unfitted-level-1) 1pt solid;\n",
       "  color: var(--sklearn-color-unfitted-level-1);\n",
       "}\n",
       "\n",
       ".sk-estimator-doc-link.fitted,\n",
       "a:link.sk-estimator-doc-link.fitted,\n",
       "a:visited.sk-estimator-doc-link.fitted {\n",
       "  /* fitted */\n",
       "  border: var(--sklearn-color-fitted-level-1) 1pt solid;\n",
       "  color: var(--sklearn-color-fitted-level-1);\n",
       "}\n",
       "\n",
       "/* On hover */\n",
       "div.sk-estimator:hover .sk-estimator-doc-link:hover,\n",
       ".sk-estimator-doc-link:hover,\n",
       "div.sk-label-container:hover .sk-estimator-doc-link:hover,\n",
       ".sk-estimator-doc-link:hover {\n",
       "  /* unfitted */\n",
       "  background-color: var(--sklearn-color-unfitted-level-3);\n",
       "  color: var(--sklearn-color-background);\n",
       "  text-decoration: none;\n",
       "}\n",
       "\n",
       "div.sk-estimator.fitted:hover .sk-estimator-doc-link.fitted:hover,\n",
       ".sk-estimator-doc-link.fitted:hover,\n",
       "div.sk-label-container:hover .sk-estimator-doc-link.fitted:hover,\n",
       ".sk-estimator-doc-link.fitted:hover {\n",
       "  /* fitted */\n",
       "  background-color: var(--sklearn-color-fitted-level-3);\n",
       "  color: var(--sklearn-color-background);\n",
       "  text-decoration: none;\n",
       "}\n",
       "\n",
       "/* Span, style for the box shown on hovering the info icon */\n",
       ".sk-estimator-doc-link span {\n",
       "  display: none;\n",
       "  z-index: 9999;\n",
       "  position: relative;\n",
       "  font-weight: normal;\n",
       "  right: .2ex;\n",
       "  padding: .5ex;\n",
       "  margin: .5ex;\n",
       "  width: min-content;\n",
       "  min-width: 20ex;\n",
       "  max-width: 50ex;\n",
       "  color: var(--sklearn-color-text);\n",
       "  box-shadow: 2pt 2pt 4pt #999;\n",
       "  /* unfitted */\n",
       "  background: var(--sklearn-color-unfitted-level-0);\n",
       "  border: .5pt solid var(--sklearn-color-unfitted-level-3);\n",
       "}\n",
       "\n",
       ".sk-estimator-doc-link.fitted span {\n",
       "  /* fitted */\n",
       "  background: var(--sklearn-color-fitted-level-0);\n",
       "  border: var(--sklearn-color-fitted-level-3);\n",
       "}\n",
       "\n",
       ".sk-estimator-doc-link:hover span {\n",
       "  display: block;\n",
       "}\n",
       "\n",
       "/* \"?\"-specific style due to the `<a>` HTML tag */\n",
       "\n",
       "#sk-container-id-1 a.estimator_doc_link {\n",
       "  float: right;\n",
       "  font-size: 1rem;\n",
       "  line-height: 1em;\n",
       "  font-family: monospace;\n",
       "  background-color: var(--sklearn-color-background);\n",
       "  border-radius: 1rem;\n",
       "  height: 1rem;\n",
       "  width: 1rem;\n",
       "  text-decoration: none;\n",
       "  /* unfitted */\n",
       "  color: var(--sklearn-color-unfitted-level-1);\n",
       "  border: var(--sklearn-color-unfitted-level-1) 1pt solid;\n",
       "}\n",
       "\n",
       "#sk-container-id-1 a.estimator_doc_link.fitted {\n",
       "  /* fitted */\n",
       "  border: var(--sklearn-color-fitted-level-1) 1pt solid;\n",
       "  color: var(--sklearn-color-fitted-level-1);\n",
       "}\n",
       "\n",
       "/* On hover */\n",
       "#sk-container-id-1 a.estimator_doc_link:hover {\n",
       "  /* unfitted */\n",
       "  background-color: var(--sklearn-color-unfitted-level-3);\n",
       "  color: var(--sklearn-color-background);\n",
       "  text-decoration: none;\n",
       "}\n",
       "\n",
       "#sk-container-id-1 a.estimator_doc_link.fitted:hover {\n",
       "  /* fitted */\n",
       "  background-color: var(--sklearn-color-fitted-level-3);\n",
       "}\n",
       "</style><div id=\"sk-container-id-1\" class=\"sk-top-container\"><div class=\"sk-text-repr-fallback\"><pre>XGBClassifier(base_score=None, booster=None, callbacks=None,\n",
       "              colsample_bylevel=None, colsample_bynode=None,\n",
       "              colsample_bytree=None, device=None, early_stopping_rounds=None,\n",
       "              enable_categorical=False, eval_metric=None, feature_types=None,\n",
       "              gamma=None, grow_policy=None, importance_type=None,\n",
       "              interaction_constraints=None, learning_rate=None, max_bin=None,\n",
       "              max_cat_threshold=None, max_cat_to_onehot=None,\n",
       "              max_delta_step=None, max_depth=None, max_leaves=None,\n",
       "              min_child_weight=None, missing=nan, monotone_constraints=None,\n",
       "              multi_strategy=None, n_estimators=None, n_jobs=64,\n",
       "              num_parallel_tree=None, random_state=None, ...)</pre><b>In a Jupyter environment, please rerun this cell to show the HTML representation or trust the notebook. <br />On GitHub, the HTML representation is unable to render, please try loading this page with nbviewer.org.</b></div><div class=\"sk-container\" hidden><div class=\"sk-item\"><div class=\"sk-estimator fitted sk-toggleable\"><input class=\"sk-toggleable__control sk-hidden--visually\" id=\"sk-estimator-id-1\" type=\"checkbox\" checked><label for=\"sk-estimator-id-1\" class=\"sk-toggleable__label fitted sk-toggleable__label-arrow fitted\">&nbsp;XGBClassifier<span class=\"sk-estimator-doc-link fitted\">i<span>Fitted</span></span></label><div class=\"sk-toggleable__content fitted\"><pre>XGBClassifier(base_score=None, booster=None, callbacks=None,\n",
       "              colsample_bylevel=None, colsample_bynode=None,\n",
       "              colsample_bytree=None, device=None, early_stopping_rounds=None,\n",
       "              enable_categorical=False, eval_metric=None, feature_types=None,\n",
       "              gamma=None, grow_policy=None, importance_type=None,\n",
       "              interaction_constraints=None, learning_rate=None, max_bin=None,\n",
       "              max_cat_threshold=None, max_cat_to_onehot=None,\n",
       "              max_delta_step=None, max_depth=None, max_leaves=None,\n",
       "              min_child_weight=None, missing=nan, monotone_constraints=None,\n",
       "              multi_strategy=None, n_estimators=None, n_jobs=64,\n",
       "              num_parallel_tree=None, random_state=None, ...)</pre></div> </div></div></div></div>"
      ],
      "text/plain": [
       "XGBClassifier(base_score=None, booster=None, callbacks=None,\n",
       "              colsample_bylevel=None, colsample_bynode=None,\n",
       "              colsample_bytree=None, device=None, early_stopping_rounds=None,\n",
       "              enable_categorical=False, eval_metric=None, feature_types=None,\n",
       "              gamma=None, grow_policy=None, importance_type=None,\n",
       "              interaction_constraints=None, learning_rate=None, max_bin=None,\n",
       "              max_cat_threshold=None, max_cat_to_onehot=None,\n",
       "              max_delta_step=None, max_depth=None, max_leaves=None,\n",
       "              min_child_weight=None, missing=nan, monotone_constraints=None,\n",
       "              multi_strategy=None, n_estimators=None, n_jobs=64,\n",
       "              num_parallel_tree=None, random_state=None, ...)"
      ]
     },
     "execution_count": 48,
     "metadata": {},
     "output_type": "execute_result"
    }
   ],
   "source": [
    "pipe_sc['xgbclassifier']"
   ]
  },
  {
   "cell_type": "code",
   "execution_count": 49,
   "id": "5e445fb1-9193-4432-bfd7-7758f81750e3",
   "metadata": {
    "scrolled": true
   },
   "outputs": [
    {
     "data": {
      "text/html": [
       "<div>\n",
       "<style scoped>\n",
       "    .dataframe tbody tr th:only-of-type {\n",
       "        vertical-align: middle;\n",
       "    }\n",
       "\n",
       "    .dataframe tbody tr th {\n",
       "        vertical-align: top;\n",
       "    }\n",
       "\n",
       "    .dataframe thead th {\n",
       "        text-align: right;\n",
       "    }\n",
       "</style>\n",
       "<table border=\"1\" class=\"dataframe\">\n",
       "  <thead>\n",
       "    <tr style=\"text-align: right;\">\n",
       "      <th></th>\n",
       "      <th>score</th>\n",
       "    </tr>\n",
       "  </thead>\n",
       "  <tbody>\n",
       "    <tr>\n",
       "      <th>COG1328</th>\n",
       "      <td>14.0</td>\n",
       "    </tr>\n",
       "    <tr>\n",
       "      <th>COG0026</th>\n",
       "      <td>9.0</td>\n",
       "    </tr>\n",
       "    <tr>\n",
       "      <th>COG4231</th>\n",
       "      <td>9.0</td>\n",
       "    </tr>\n",
       "    <tr>\n",
       "      <th>COG0783</th>\n",
       "      <td>9.0</td>\n",
       "    </tr>\n",
       "    <tr>\n",
       "      <th>COG3604</th>\n",
       "      <td>8.0</td>\n",
       "    </tr>\n",
       "    <tr>\n",
       "      <th>COG0038</th>\n",
       "      <td>8.0</td>\n",
       "    </tr>\n",
       "    <tr>\n",
       "      <th>COG0370</th>\n",
       "      <td>8.0</td>\n",
       "    </tr>\n",
       "    <tr>\n",
       "      <th>COG0132</th>\n",
       "      <td>8.0</td>\n",
       "    </tr>\n",
       "    <tr>\n",
       "      <th>COG0109</th>\n",
       "      <td>8.0</td>\n",
       "    </tr>\n",
       "    <tr>\n",
       "      <th>COG2352</th>\n",
       "      <td>8.0</td>\n",
       "    </tr>\n",
       "  </tbody>\n",
       "</table>\n",
       "</div>"
      ],
      "text/plain": [
       "         score\n",
       "COG1328   14.0\n",
       "COG0026    9.0\n",
       "COG4231    9.0\n",
       "COG0783    9.0\n",
       "COG3604    8.0\n",
       "COG0038    8.0\n",
       "COG0370    8.0\n",
       "COG0132    8.0\n",
       "COG0109    8.0\n",
       "COG2352    8.0"
      ]
     },
     "execution_count": 49,
     "metadata": {},
     "output_type": "execute_result"
    }
   ],
   "source": [
    "pipe_sc['xgbclassifier'].get_booster().feature_names = list(X.columns)\n",
    "feature_important = pipe_sc['xgbclassifier'].get_booster().get_score(importance_type='weight')\n",
    "keys = list(feature_important.keys())\n",
    "values = list(feature_important.values())\n",
    "\n",
    "data = pd.DataFrame(data=values, index=keys, columns=[\"score\"]).sort_values(by = \"score\", ascending=False)\n",
    "data.nlargest(10, columns=\"score\")"
   ]
  },
  {
   "cell_type": "code",
   "execution_count": 50,
   "id": "ddc45464-eaf5-46f2-b1f8-0a43ff86b337",
   "metadata": {},
   "outputs": [
    {
     "data": {
      "image/png": "[encoded data removed]",
      "text/plain": [
       "<Figure size 2000x1000 with 1 Axes>"
      ]
     },
     "metadata": {},
     "output_type": "display_data"
    }
   ],
   "source": [
    "data.nlargest(10, columns=\"score\").plot(kind='barh', figsize = (20,10));"
   ]
  },
  {
   "cell_type": "code",
   "execution_count": null,
   "id": "2ea14bd3-935d-4048-b6c6-569b2969becc",
   "metadata": {},
   "outputs": [],
   "source": []
  },
  {
   "cell_type": "code",
   "execution_count": null,
   "id": "fab8f8db-7e63-457a-9f29-1a56d8f816a2",
   "metadata": {},
   "outputs": [],
   "source": []
  },
  {
   "cell_type": "code",
   "execution_count": null,
   "id": "4369a521-8d3e-449a-a495-2c50fb5225f2",
   "metadata": {
    "scrolled": true
   },
   "outputs": [],
   "source": [
    "# Use top-100 corr features\n",
    "\n",
    "data = X.copy()\n",
    "data['target'] = y\n",
    "\n",
    "correlations = data.corr()['target'].drop('target')\n",
    "\n",
    "top_100_correlations = correlations.abs().nlargest(100)\n",
    "top_100_corr_features = list(top_100_correlations.index)\n",
    "\n",
    "top_100_corr_features"
   ]
  },
  {
   "cell_type": "code",
   "execution_count": null,
   "id": "dbfd25de-9cd8-4553-a966-e822129708bc",
   "metadata": {},
   "outputs": [],
   "source": [
    "data = pd.DataFrame(X[top_100_corr_features])\n",
    "data['target'] = y\n",
    "data['group'] = groups#families\n",
    "\n",
    "unique_group = data['group'].unique()\n",
    "\n",
    "train_groups, test_groups = train_test_split(unique_group, test_size=0.2, random_state=42)\n",
    "\n",
    "train_mask = data['group'].isin(train_groups)\n",
    "test_mask = data['group'].isin(test_groups)\n",
    "\n",
    "X_train = data[train_mask].drop(columns=['target', 'group']).values\n",
    "y_train = data[train_mask]['target'].values\n",
    "X_test = data[test_mask].drop(columns=['target', 'group']).values\n",
    "y_test = data[test_mask]['target'].values"
   ]
  },
  {
   "cell_type": "code",
   "execution_count": null,
   "id": "73f8027c-0a53-405b-ad0c-a6996b9abd59",
   "metadata": {},
   "outputs": [],
   "source": [
    "X_train.shape #before: )(1942, 2672)"
   ]
  },
  {
   "cell_type": "code",
   "execution_count": null,
   "id": "4c9c70cb-d975-4975-bb05-76f32c296440",
   "metadata": {
    "scrolled": true
   },
   "outputs": [],
   "source": [
    "pipe.fit(X_train, y_train)\n",
    "y_pred = pipe.predict(X_test)\n",
    "y_pred"
   ]
  },
  {
   "cell_type": "code",
   "execution_count": null,
   "id": "f4d8c799-de88-4825-919e-431e624b00cc",
   "metadata": {},
   "outputs": [],
   "source": [
    "print(f'Accuracy = {accuracy_score(y_test, y_pred):.2f}\\nBalanced Accuracy = {balanced_accuracy_score(y_test, y_pred):.2f}\\nPrecision = {precision_score(y_test, y_pred):.2f}\\nRecall = {recall_score(y_test, y_pred):.2f}\\nF1 = {f1_score(y_test, y_pred):.2f}')"
   ]
  },
  {
   "cell_type": "code",
   "execution_count": null,
   "id": "81665d71-0c2a-4813-9d1a-894c78b3fdeb",
   "metadata": {},
   "outputs": [],
   "source": [
    "pipe['xgbclassifier'].get_booster().feature_names = top_100_corr_features\n",
    "feature_important = pipe['xgbclassifier'].get_booster().get_score(importance_type='weight')\n",
    "keys = list(feature_important.keys())\n",
    "values = list(feature_important.values())\n",
    "\n",
    "data = pd.DataFrame(data=values, index=keys, columns=[\"score\"]).sort_values(by = \"score\", ascending=False)\n",
    "data.nlargest(10, columns=\"score\")"
   ]
  },
  {
   "cell_type": "code",
   "execution_count": null,
   "id": "007d0012-56e7-4fc0-8437-9c166a90b98d",
   "metadata": {
    "scrolled": true
   },
   "outputs": [],
   "source": [
    "data.nlargest(10, columns=\"score\").plot(kind='barh', figsize = (20,10));"
   ]
  },
  {
   "cell_type": "code",
   "execution_count": null,
   "id": "61750614-ecf2-421f-ab5c-7ff2f0583ca7",
   "metadata": {},
   "outputs": [],
   "source": []
  },
  {
   "cell_type": "code",
   "execution_count": null,
   "id": "3f031329-e99c-4298-8d6b-2dca2bf596b9",
   "metadata": {},
   "outputs": [],
   "source": [
    "X"
   ]
  },
  {
   "cell_type": "code",
   "execution_count": null,
   "id": "88421dae-7ee1-4422-8553-c232ea4fb589",
   "metadata": {
    "scrolled": true
   },
   "outputs": [],
   "source": [
    "features = list(X.columns)\n",
    "stat_results = pd.DataFrame(columns=['COG', 'statistic', 'p-value', 'test_type'])\n",
    "stat_results\n",
    "\n",
    "for feature in tqdm(features):\n",
    "\n",
    "    x_0 = X[y == 0][feature]\n",
    "    x_1 = X[y == 1][feature]\n",
    "\n",
    "    #test_type = 'exact'\n",
    "    test_type = 'asymptotic'\n",
    "    U1, p = mannwhitneyu(x_0, x_1, method=test_type)\n",
    "\n",
    "    # if np.isnan(p):\n",
    "    #     test_type = 'asymptotic'\n",
    "    #     U1, p = mannwhitneyu(x_0, x_1, method=test_type)\n",
    "\n",
    "    #row = {'COG': features, 'statistic': U1, 'p-value': p, 'test_type': test_type}\n",
    "    stat_results.loc[len(stat_results)] = [feature, U1, p, test_type]\n",
    "        \n",
    "stat_results    "
   ]
  },
  {
   "cell_type": "code",
   "execution_count": null,
   "id": "962b7e7a-7579-47a2-83da-6ec9fba03bfc",
   "metadata": {},
   "outputs": [],
   "source": [
    "stat_results[stat_results['p-value'] > 0.05]['COG']"
   ]
  },
  {
   "cell_type": "code",
   "execution_count": null,
   "id": "7ed5962a-0c8b-4477-9266-bec45cfbf286",
   "metadata": {
    "scrolled": true
   },
   "outputs": [],
   "source": [
    "significant_cogs = list(stat_results[stat_results['p-value'] > 0.05]['COG'])\n",
    "significant_cogs"
   ]
  },
  {
   "cell_type": "code",
   "execution_count": null,
   "id": "af08bc09-0bb6-407b-aaaa-7b69ad3d6dd1",
   "metadata": {},
   "outputs": [],
   "source": [
    "len(significant_cogs)"
   ]
  },
  {
   "cell_type": "code",
   "execution_count": null,
   "id": "e5af56fa-2922-4218-8cf7-a87f53b9e65d",
   "metadata": {},
   "outputs": [],
   "source": [
    "X[significant_cogs]"
   ]
  },
  {
   "cell_type": "markdown",
   "id": "9fd20b49-5aa5-4265-960e-b2deff0d8531",
   "metadata": {},
   "source": [
    "**With taking into account families**"
   ]
  },
  {
   "cell_type": "code",
   "execution_count": null,
   "id": "863ca103-b065-44ee-967c-8ba0af78811f",
   "metadata": {},
   "outputs": [],
   "source": [
    "data = pd.DataFrame(X[significant_cogs])\n",
    "data['target'] = y\n",
    "data['group'] = groups#families\n",
    "\n",
    "unique_group = data['group'].unique()\n",
    "\n",
    "train_groups, test_groups = train_test_split(unique_group, test_size=0.2, random_state=42)\n",
    "\n",
    "train_mask = data['group'].isin(train_groups)\n",
    "test_mask = data['group'].isin(test_groups)\n",
    "\n",
    "X_train = data[train_mask].drop(columns=['target', 'group']).values\n",
    "y_train = data[train_mask]['target'].values\n",
    "X_test = data[test_mask].drop(columns=['target', 'group']).values\n",
    "y_test = data[test_mask]['target'].values"
   ]
  },
  {
   "cell_type": "code",
   "execution_count": null,
   "id": "554ce2c6-a230-4b04-9960-ecfedfcaf72d",
   "metadata": {},
   "outputs": [],
   "source": [
    "print(f'Train: {X_train.shape[0]}\\tTest: {X_test.shape[0]}')"
   ]
  },
  {
   "cell_type": "code",
   "execution_count": null,
   "id": "46ee20f3-4dc6-4e61-ae3a-efa43d50f6b1",
   "metadata": {},
   "outputs": [],
   "source": [
    "print(f'Train: {X_train.shape[1]}\\tTest: {X_test.shape[1]}')"
   ]
  },
  {
   "cell_type": "code",
   "execution_count": null,
   "id": "04966204-8163-4663-9b08-59273d491706",
   "metadata": {
    "scrolled": true
   },
   "outputs": [],
   "source": [
    "pipe.fit(X_train, y_train)\n",
    "y_pred = pipe.predict(X_test)\n",
    "y_pred"
   ]
  },
  {
   "cell_type": "code",
   "execution_count": null,
   "id": "8adc26b1-95f7-447c-8fc1-53601bd190fe",
   "metadata": {},
   "outputs": [],
   "source": [
    "print(f'Accuracy = {accuracy_score(y_test, y_pred):.2f}\\nBalanced Accuracy = {balanced_accuracy_score(y_test, y_pred):.2f}\\nPrecision = {precision_score(y_test, y_pred):.2f}\\nRecall = {recall_score(y_test, y_pred):.2f}\\nF1 = {f1_score(y_test, y_pred):.2f}')"
   ]
  },
  {
   "cell_type": "code",
   "execution_count": null,
   "id": "8f835be4-1e3e-42fb-9150-517440c2c5ac",
   "metadata": {
    "scrolled": true
   },
   "outputs": [],
   "source": [
    "pipe['xgbclassifier'].get_booster().feature_names = list(X[significant_cogs].columns)#[\"your\", \"feature\", \"name\", \"list\"]\n",
    "feature_important = pipe['xgbclassifier'].get_booster().get_score(importance_type='weight')\n",
    "keys = list(feature_important.keys())\n",
    "values = list(feature_important.values())\n",
    "\n",
    "data = pd.DataFrame(data=values, index=keys, columns=[\"score\"]).sort_values(by = \"score\", ascending=False)\n",
    "data.nlargest(10, columns=\"score\")"
   ]
  },
  {
   "cell_type": "code",
   "execution_count": null,
   "id": "efb7a797-c9aa-4068-bc25-7af67309a7a0",
   "metadata": {},
   "outputs": [],
   "source": [
    "data.nlargest(10, columns=\"score\").plot(kind='barh', figsize = (20,10));"
   ]
  },
  {
   "cell_type": "code",
   "execution_count": null,
   "id": "0fcf837e-f303-4bfb-98e5-9d00a69e7bdc",
   "metadata": {},
   "outputs": [],
   "source": []
  },
  {
   "cell_type": "markdown",
   "id": "0cd4a3f0-c5d6-468b-84f8-d6e3a222628b",
   "metadata": {},
   "source": [
    "**to compare with random sample of 368 features (significant and non-significant)**"
   ]
  },
  {
   "cell_type": "code",
   "execution_count": null,
   "id": "5a8db228-3426-4a77-8117-cbacddba0ec0",
   "metadata": {
    "scrolled": true
   },
   "outputs": [],
   "source": [
    "features = list(X.columns)\n",
    "random.seed(42)\n",
    "sampled_features = [features[i] for i in sorted(random.sample(range(len(features)), 368))]\n",
    "sampled_features"
   ]
  },
  {
   "cell_type": "code",
   "execution_count": null,
   "id": "b233654e-d9b7-421a-a848-ec7352940d2f",
   "metadata": {
    "scrolled": true
   },
   "outputs": [],
   "source": [
    "print(len(set(sampled_features) - set(significant_cogs)))\n",
    "set(sampled_features) - set(significant_cogs)"
   ]
  },
  {
   "cell_type": "code",
   "execution_count": null,
   "id": "6c69b45b-d969-4213-81a6-f881540d6fb0",
   "metadata": {},
   "outputs": [],
   "source": [
    "X[sampled_features]"
   ]
  },
  {
   "cell_type": "markdown",
   "id": "0b8115e4-2376-4a10-970e-8437c90de088",
   "metadata": {},
   "source": [
    "**With taking into account families**"
   ]
  },
  {
   "cell_type": "code",
   "execution_count": null,
   "id": "c44df42d-291c-4fab-b730-bf76944fe80b",
   "metadata": {},
   "outputs": [],
   "source": [
    "data = pd.DataFrame(X[sampled_features])\n",
    "data['target'] = y\n",
    "data['group'] = groups#families\n",
    "\n",
    "unique_group = data['group'].unique()\n",
    "\n",
    "train_groups, test_groups = train_test_split(unique_group, test_size=0.2, random_state=42)\n",
    "\n",
    "train_mask = data['group'].isin(train_groups)\n",
    "test_mask = data['group'].isin(test_groups)\n",
    "\n",
    "X_train = data[train_mask].drop(columns=['target', 'group']).values\n",
    "y_train = data[train_mask]['target'].values\n",
    "X_test = data[test_mask].drop(columns=['target', 'group']).values\n",
    "y_test = data[test_mask]['target'].values"
   ]
  },
  {
   "cell_type": "code",
   "execution_count": null,
   "id": "7d90efd3-69be-46e7-b0a0-28f2376acb7f",
   "metadata": {},
   "outputs": [],
   "source": [
    "print(f'Train: {X_train.shape[0]}\\tTest: {X_test.shape[0]}')"
   ]
  },
  {
   "cell_type": "code",
   "execution_count": null,
   "id": "b226acdc-c622-4d6e-b9c3-0f1f5e3cd02d",
   "metadata": {},
   "outputs": [],
   "source": [
    "print(f'Train: {X_train.shape[1]}\\tTest: {X_test.shape[1]}')"
   ]
  },
  {
   "cell_type": "code",
   "execution_count": null,
   "id": "d2d3f847-1c30-4a3c-b75e-71d624e97c24",
   "metadata": {
    "scrolled": true
   },
   "outputs": [],
   "source": [
    "pipe.fit(X_train, y_train)\n",
    "y_pred = pipe.predict(X_test)\n",
    "y_pred"
   ]
  },
  {
   "cell_type": "code",
   "execution_count": null,
   "id": "22046e97-c785-4a83-bc5d-7fd4df13d256",
   "metadata": {},
   "outputs": [],
   "source": [
    "print(f'Accuracy = {accuracy_score(y_test, y_pred):.2f}\\nBalanced Accuracy = {balanced_accuracy_score(y_test, y_pred):.2f}\\nPrecision = {precision_score(y_test, y_pred):.2f}\\nRecall = {recall_score(y_test, y_pred):.2f}\\nF1 = {f1_score(y_test, y_pred):.2f}')"
   ]
  },
  {
   "cell_type": "code",
   "execution_count": null,
   "id": "f818329c-1f68-420f-b70c-a54974956c28",
   "metadata": {
    "scrolled": true
   },
   "outputs": [],
   "source": [
    "pipe['xgbclassifier'].get_booster().feature_names = list(X[sampled_features].columns)#[\"your\", \"feature\", \"name\", \"list\"]\n",
    "feature_important = pipe['xgbclassifier'].get_booster().get_score(importance_type='weight')\n",
    "keys = list(feature_important.keys())\n",
    "values = list(feature_important.values())\n",
    "\n",
    "data = pd.DataFrame(data=values, index=keys, columns=[\"score\"]).sort_values(by = \"score\", ascending=False)\n",
    "data.nlargest(10, columns=\"score\")"
   ]
  },
  {
   "cell_type": "code",
   "execution_count": null,
   "id": "55849ca2-60f6-4a6e-a59d-95c1b480b8c1",
   "metadata": {},
   "outputs": [],
   "source": [
    "data.nlargest(10, columns=\"score\").plot(kind='barh', figsize = (20,10));"
   ]
  },
  {
   "cell_type": "code",
   "execution_count": null,
   "id": "e4e3392d-6897-46cd-99ba-3f831a8a8c88",
   "metadata": {},
   "outputs": [],
   "source": []
  },
  {
   "cell_type": "code",
   "execution_count": null,
   "id": "58c96514-8f6d-4de0-8cbb-42e2a0964baa",
   "metadata": {},
   "outputs": [],
   "source": []
  },
  {
   "cell_type": "code",
   "execution_count": null,
   "id": "5161c712-6eeb-4ecc-804d-e1213b804a68",
   "metadata": {},
   "outputs": [],
   "source": []
  },
  {
   "cell_type": "code",
   "execution_count": null,
   "id": "ac3ccef6-b8ed-47c3-8fde-810df3b43b05",
   "metadata": {},
   "outputs": [],
   "source": []
  },
  {
   "cell_type": "code",
   "execution_count": null,
   "id": "5d13e0f4-6dd3-4346-a19f-2132d923c09e",
   "metadata": {},
   "outputs": [],
   "source": [
    "X_y = X\n",
    "X_y['target'] = y"
   ]
  },
  {
   "cell_type": "code",
   "execution_count": null,
   "id": "2ddbbcd0-bccc-486a-9db3-1f39aaa04359",
   "metadata": {},
   "outputs": [],
   "source": [
    "#p>0.5\n",
    "plt.figure(figsize=(10, 6))\n",
    "sns.histplot(data=X_y, x='COG0010', hue='target', multiple=\"dodge\")#, element=\"step\");"
   ]
  },
  {
   "cell_type": "code",
   "execution_count": null,
   "id": "4db7fdb8-cd62-4927-b249-6af61b11bbc8",
   "metadata": {},
   "outputs": [],
   "source": [
    "#p<0.5\n",
    "plt.figure(figsize=(10, 6))\n",
    "sns.histplot(data=X_y, x='COG0001', hue='target', multiple=\"dodge\")#, element=\"step\");"
   ]
  },
  {
   "cell_type": "code",
   "execution_count": null,
   "id": "6f576bb2-fbee-4364-8f3a-a7607b6d634d",
   "metadata": {},
   "outputs": [],
   "source": [
    "#top-1 correlated with target\n",
    "print(stat_results[stat_results['COG'] == 'COG0109']['p-value'])\n",
    "plt.figure(figsize=(10, 6))\n",
    "sns.histplot(data=X_y, x='COG0109', hue='target', multiple=\"dodge\");#, element=\"step\");"
   ]
  },
  {
   "cell_type": "code",
   "execution_count": null,
   "id": "9a6136d9-d9f3-4555-af63-1be35cc75150",
   "metadata": {},
   "outputs": [],
   "source": [
    "x_0 = X[y == 0]['COG0109']\n",
    "x_1 = X[y == 1]['COG0109']\n",
    "\n",
    "#test_type = 'exact'\n",
    "test_type = 'asymptotic'\n",
    "U1, p = mannwhitneyu(x_0, x_1, method=test_type)\n",
    "U1"
   ]
  },
  {
   "cell_type": "code",
   "execution_count": null,
   "id": "44fd2b66-fa19-48fb-a9d2-0fa460331dd6",
   "metadata": {},
   "outputs": [],
   "source": []
  },
  {
   "cell_type": "code",
   "execution_count": null,
   "id": "aade99ca-937e-42d8-9d0d-b3deea96baa2",
   "metadata": {},
   "outputs": [],
   "source": [
    "d3"
   ]
  },
  {
   "cell_type": "code",
   "execution_count": null,
   "id": "03222fa2-a0ff-42f8-bf2b-b8d8cd965947",
   "metadata": {},
   "outputs": [],
   "source": [
    "X = d3.select(pl.exclude(['accession',target_column,'phylum','class','order','family','genus','false_negative_rate','false_positive_rate'])).to_pandas()\n",
    "# Map oxytolerance to 0, 1\n",
    "classes_map = {\n",
    "    'anaerobe': 0,\n",
    "    'aerobe': 1,\n",
    "}      "
   ]
  },
  {
   "cell_type": "code",
   "execution_count": null,
   "id": "12240d2e-b540-4d2e-a0a9-296697b27789",
   "metadata": {},
   "outputs": [],
   "source": [
    "X"
   ]
  },
  {
   "cell_type": "code",
   "execution_count": null,
   "id": "f1d357c9-018c-4464-a9d3-3f292f70b8ad",
   "metadata": {},
   "outputs": [],
   "source": [
    "y = y1\n",
    "\n",
    "y = d3.with_columns(\n",
    "    pl.col(target_column)\n",
    "    .replace_strict(classes_map, default='unknown')\n",
    "    .alias(target_column)\n",
    ")\n",
    "\n",
    "y = y.with_columns(\n",
    "    pl.col(target_column).cast(pl.Int32)  # Change to Int32\n",
    ")\n",
    "            \n",
    "print(\"Counts of y: %s\", y.group_by(target_column).agg(pl.len()))"
   ]
  },
  {
   "cell_type": "code",
   "execution_count": null,
   "id": "073f7528-ab9f-4e45-b1d8-8bccfe6ca094",
   "metadata": {},
   "outputs": [],
   "source": [
    "y"
   ]
  },
  {
   "cell_type": "code",
   "execution_count": null,
   "id": "e196d885-19fd-4a2a-8737-755b8bafc7ab",
   "metadata": {},
   "outputs": [],
   "source": [
    "y = y.to_pandas()\n",
    "y = y.iloc[:, -1]\n",
    "\n",
    "groups = d3['family'].to_list()\n",
    "\n",
    "d_gtdb = d3.to_pandas()\n",
    "\n",
    "# Blacklist these as they aren't in the current ancestral file, not sure why\n",
    "X = X.drop(['COG0411', 'COG0459', 'COG0564', 'COG1344', 'COG4177'],axis=1)"
   ]
  },
  {
   "cell_type": "code",
   "execution_count": null,
   "id": "cc03de0d-12ed-42c5-a61c-5199bf53e67c",
   "metadata": {},
   "outputs": [],
   "source": []
  },
  {
   "cell_type": "markdown",
   "id": "50d993a0-d562-4fe6-852f-46638463073d",
   "metadata": {},
   "source": [
    "**With taking into account families**"
   ]
  },
  {
   "cell_type": "code",
   "execution_count": null,
   "id": "ea747ebf-304f-451f-b6f7-66d3bc26224b",
   "metadata": {},
   "outputs": [],
   "source": [
    "data = pd.DataFrame(X)\n",
    "data['target'] = y\n",
    "data['group'] = groups#families\n",
    "\n",
    "unique_group = data['group'].unique()\n",
    "\n",
    "train_groups, test_groups = train_test_split(unique_group, test_size=0.2, random_state=42)\n",
    "\n",
    "train_mask = data['group'].isin(train_groups)\n",
    "test_mask = data['group'].isin(test_groups)\n",
    "\n",
    "X_train = data[train_mask].drop(columns=['target', 'group']).values\n",
    "y_train = data[train_mask]['target'].values\n",
    "X_test = data[test_mask].drop(columns=['target', 'group']).values\n",
    "y_test = data[test_mask]['target'].values"
   ]
  },
  {
   "cell_type": "code",
   "execution_count": null,
   "id": "7148861a-ea80-42f9-83b8-cef876481158",
   "metadata": {},
   "outputs": [],
   "source": [
    "print(f'Train: {X_train.shape[0]}\\tTest: {X_test.shape[0]}')"
   ]
  },
  {
   "cell_type": "code",
   "execution_count": null,
   "id": "d0012b9d-401e-4520-bfaa-e4c33e6fd7e5",
   "metadata": {
    "scrolled": true
   },
   "outputs": [],
   "source": [
    "pipe.fit(X_train, y_train)\n",
    "y_pred = pipe.predict(X_test)\n",
    "y_pred"
   ]
  },
  {
   "cell_type": "code",
   "execution_count": null,
   "id": "e94460bd-103a-48d4-ad37-11f529952636",
   "metadata": {},
   "outputs": [],
   "source": [
    "print(f'Accuracy = {accuracy_score(y_test, y_pred):.2f}\\nBalanced Accuracy = {balanced_accuracy_score(y_test, y_pred):.2f}\\nPrecision = {precision_score(y_test, y_pred):.2f}\\nRecall = {recall_score(y_test, y_pred):.2f}\\nF1 = {f1_score(y_test, y_pred):.2f}')"
   ]
  },
  {
   "cell_type": "code",
   "execution_count": null,
   "id": "cfb05585-a285-4e60-b427-fa5f3720b322",
   "metadata": {
    "scrolled": true
   },
   "outputs": [],
   "source": [
    "pipe['xgbclassifier'].get_booster().feature_names = list(X.columns)#[\"your\", \"feature\", \"name\", \"list\"]\n",
    "feature_important = pipe['xgbclassifier'].get_booster().get_score(importance_type='weight')\n",
    "keys = list(feature_important.keys())\n",
    "values = list(feature_important.values())\n",
    "\n",
    "data = pd.DataFrame(data=values, index=keys, columns=[\"score\"]).sort_values(by = \"score\", ascending=False)\n",
    "data.nlargest(10, columns=\"score\")"
   ]
  },
  {
   "cell_type": "code",
   "execution_count": null,
   "id": "7cfc2ceb-fa7e-4353-9883-530d3f32cb95",
   "metadata": {},
   "outputs": [],
   "source": [
    "data.nlargest(10, columns=\"score\").plot(kind='barh', figsize = (20,10));"
   ]
  },
  {
   "cell_type": "code",
   "execution_count": null,
   "id": "5f29403a-8add-4ef0-8a65-115e05b53a0b",
   "metadata": {},
   "outputs": [],
   "source": [
    "X"
   ]
  },
  {
   "cell_type": "code",
   "execution_count": null,
   "id": "b313a0c9-b05a-4cf2-986d-fe35231632ed",
   "metadata": {},
   "outputs": [],
   "source": []
  },
  {
   "cell_type": "code",
   "execution_count": null,
   "id": "162976fe-918d-4c9b-999d-e18704ec2a28",
   "metadata": {},
   "outputs": [],
   "source": [
    "X_for_shap = X_test\n",
    "scaler = pipe['maxabsscaler']\n",
    "X_for_shap_scaled = scaler.fit_transform(X_for_shap)\n",
    "\n",
    "model = pipe['xgbclassifier']\n",
    "pred = model.predict(X_for_shap_scaled, output_margin=True)\n",
    "\n",
    "explainer = shap.TreeExplainer(model)\n",
    "explanation = explainer(X_for_shap_scaled)\n",
    "\n",
    "shap_values = explanation.values\n",
    "np.abs(shap_values.sum(axis=1) + explanation.base_values - pred).max()"
   ]
  },
  {
   "cell_type": "code",
   "execution_count": null,
   "id": "9e547ed1-c2c0-4f65-b563-0fa073621923",
   "metadata": {},
   "outputs": [],
   "source": [
    "shap.plots.beeswarm(explanation)"
   ]
  },
  {
   "cell_type": "code",
   "execution_count": null,
   "id": "bab63949-9e12-4ba3-a722-b75eb8aca394",
   "metadata": {},
   "outputs": [],
   "source": [
    "\n",
    "explanation\n"
   ]
  },
  {
   "cell_type": "code",
   "execution_count": null,
   "id": "d90a2eb1-1921-4200-9bfe-c8fd4c4aca77",
   "metadata": {},
   "outputs": [],
   "source": [
    "pred = model.predict(Xd, output_margin=True)\n",
    "\n",
    "explainer = shap.TreeExplainer(model)\n",
    "explanation = explainer(Xd)\n",
    "\n",
    "shap_values = explanation.values\n",
    "# make sure the SHAP values add up to marginal predictions\n",
    "np.abs(shap_values.sum(axis=1) + explanation.base_values - pred).max()"
   ]
  },
  {
   "cell_type": "code",
   "execution_count": null,
   "id": "35190b41-b293-4f58-91e6-b4ec8c4bcbf0",
   "metadata": {},
   "outputs": [],
   "source": [
    "shap.plots.beeswarm(explanation, max_display=5)#, order=shap.Explanation.abs.mean(0))"
   ]
  },
  {
   "cell_type": "code",
   "execution_count": null,
   "id": "96b99542-c9bc-493c-82b8-56e53fadb845",
   "metadata": {},
   "outputs": [],
   "source": [
    "def global_shap_importance(model, X):\n",
    "    \"\"\" Return a dataframe containing the features sorted by Shap importance\n",
    "    Parameters\n",
    "    ----------\n",
    "    model : The tree-based model \n",
    "    X : pd.Dataframe\n",
    "         training set/test set/the whole dataset ... (without the label)\n",
    "    Returns\n",
    "    -------\n",
    "    pd.Dataframe\n",
    "        A dataframe containing the features sorted by Shap importance\n",
    "    \"\"\"\n",
    "    explainer = shap.Explainer(model)\n",
    "    shap_values = explainer(X)\n",
    "    cohorts = {\"\": shap_values}\n",
    "    cohort_labels = list(cohorts.keys())\n",
    "    cohort_exps = list(cohorts.values())\n",
    "    for i in range(len(cohort_exps)):\n",
    "        if len(cohort_exps[i].shape) == 2:\n",
    "            cohort_exps[i] = cohort_exps[i].abs.mean(0)\n",
    "    features = cohort_exps[0].data\n",
    "    feature_names = cohort_exps[0].feature_names\n",
    "    values = np.array([cohort_exps[i].values for i in range(len(cohort_exps))])\n",
    "    feature_importance = pd.DataFrame(\n",
    "        list(zip(feature_names, sum(values))), columns=['features', 'importance'])\n",
    "    feature_importance.sort_values(\n",
    "        by=['importance'], ascending=False, inplace=True)\n",
    "    return feature_importance"
   ]
  },
  {
   "cell_type": "code",
   "execution_count": null,
   "id": "cbbc4dd6-94b8-4a28-bbd1-ccc13b53e344",
   "metadata": {},
   "outputs": [],
   "source": [
    "global_shap_importance(model, pd.DataFrame(X_for_shap_scaled, columns=X.columns))[:20]"
   ]
  },
  {
   "cell_type": "code",
   "execution_count": null,
   "id": "25614c94-9d81-4ac0-86e9-18f58e43bfc4",
   "metadata": {},
   "outputs": [],
   "source": []
  },
  {
   "cell_type": "code",
   "execution_count": null,
   "id": "e8e9a42c-8dfc-471f-9c3f-45ec49167f4a",
   "metadata": {},
   "outputs": [],
   "source": [
    "import shap\n",
    "import polars as pl\n",
    "import pandas as pd\n",
    "import logging\n",
    "import numpy as np\n",
    "from joblib import load\n",
    "import argparse\n",
    "import logging\n",
    "import os\n",
    "import plotnine"
   ]
  },
  {
   "cell_type": "code",
   "execution_count": null,
   "id": "d6f98214-2dde-4dde-9955-c7b8a6fdc81c",
   "metadata": {},
   "outputs": [],
   "source": [
    "# Read training data\n",
    "# Read training data, adapted from 11_generate_models.py\n",
    "# class Args:\n",
    "#     training_file = \"data/all_gene_annotations.added_incompleteness_and_contamination.training.tsv\"\n",
    "#     y = \"data/bacdive_scrape_20230315.json.parsed.anaerobe_vs_aerobe.with_cyanos.csv\"\n",
    "#     model = \"data/bacdive_scrape_20230315.json.parsed.anaerobe_vs_aerobe.with_cyanos.csv_THEIR.models/XGBoost.model\"\n",
    "\n",
    "# args = Args()\n",
    "\n",
    "training_file = \"data/all_gene_annotations.added_incompleteness_and_contamination.training.tsv\"\n",
    "y = \"data/bacdive_scrape_20230315.json.parsed.anaerobe_vs_aerobe.with_cyanos.csv\"\n",
    "#model = \"data/bacdive_scrape_20230315.json.parsed.anaerobe_vs_aerobe.with_cyanos.csv_THEIR.models/XGBoost.model\"\n",
    "\n",
    "\n",
    "\n",
    "# Read y\n",
    "y0 = pl.read_csv(y, separator=\"\\t\")\n",
    "y1 = y0.unique() # There are some duplicates in the cyanos, so dedup\n",
    "#logging.info(\"Read y: %s\", y1.shape)\n",
    "# Log counts of each class\n",
    "#logging.info(\"Counts of each class amongst unique accessions: %s\", y1.group_by(\"oxytolerance\").agg(pl.len()))\n",
    "\n",
    "# Read GTDB\n",
    "gtdb = pl.concat([\n",
    "    pl.read_csv('data/bac120_metadata_r202.tsv', separator=\"\\t\"),\n",
    "    pl.read_csv('data/ar122_metadata_r202.tsv', separator=\"\\t\")\n",
    "])\n",
    "gtdb = gtdb.filter(pl.col(\"gtdb_representative\") == \"t\")\n",
    "logging.info(\"Read in {} GTDB reps\".format(len(gtdb)))\n",
    "gtdb = gtdb.with_columns(pl.col(\"gtdb_taxonomy\").str.split(';').list.get(1).alias(\"phylum\"))\n",
    "gtdb = gtdb.with_columns(pl.col(\"gtdb_taxonomy\").str.split(';').list.get(2).alias(\"class\"))\n",
    "gtdb = gtdb.with_columns(pl.col(\"gtdb_taxonomy\").str.split(';').list.get(3).alias(\"order\"))\n",
    "gtdb = gtdb.with_columns(pl.col(\"gtdb_taxonomy\").str.split(';').list.get(4).alias(\"family\"))\n",
    "gtdb = gtdb.with_columns(pl.col(\"gtdb_taxonomy\").str.split(';').list.get(5).alias(\"genus\"))\n",
    "\n",
    "# Read training data\n",
    "d = pl.read_csv(training_file,separator=\"\\t\")\n",
    "logging.info(\"Read training data: %s\", d.shape)\n",
    "\n",
    "# Ignore all but training data\n",
    "d2 = d.join(gtdb.select(['accession','phylum','class','order','family','genus']), on=\"accession\", how=\"left\")\n",
    "d3 = d2.join(y1, on=\"accession\", how=\"inner\") # Inner join because test accessions are in y1 but not in d2\n",
    "logging.info(\"Counts of each class in training/test data: %s\", d3.group_by(\"oxytolerance\").agg(pl.len()))\n",
    "\n",
    "X = d3.select(pl.exclude(['accession','oxytolerance','phylum','class','order','family','genus','false_negative_rate','false_positive_rate'])).to_pandas()\n",
    "# Map oxytolerance to 0, 1, 2\n",
    "if 'anaerobic_with_respiration_genes' in d3['oxytolerance'].to_list():\n",
    "    classes_map = {\n",
    "        'anaerobe': 0,\n",
    "        'aerobe': 1,\n",
    "        'anaerobic_with_respiration_genes': 2,\n",
    "    }\n",
    "else:\n",
    "    classes_map = {\n",
    "        'anaerobe': 0,\n",
    "        'aerobe': 1,\n",
    "    }\n",
    "\n",
    "y = d3.select(pl.col('oxytolerance').map_elements(lambda x: classes_map[x]).alias('oxytolerance'))#apply(lambda x: classes_map[x]).alias('oxytolerance'))\n",
    "logging.info(\"Counts of y: %s\", y.group_by(\"oxytolerance\").agg(pl.len()))\n",
    "y = y.to_pandas()\n",
    "\n",
    "groups = d3['family'].to_list()\n",
    "\n",
    "d_gtdb = d3.to_pandas()\n",
    "\n",
    "# Blacklist these as they aren't in the current ancestral file, not sure why\n",
    "X = X.drop(['COG0411', 'COG0459', 'COG0564', 'COG1344', 'COG4177'],axis=1)"
   ]
  },
  {
   "cell_type": "code",
   "execution_count": null,
   "id": "5a339fcf-1a9d-4a8d-80ce-cc521f094510",
   "metadata": {},
   "outputs": [],
   "source": [
    "#model = load(args.model)\n",
    "pipe"
   ]
  },
  {
   "cell_type": "code",
   "execution_count": null,
   "id": "a9828bbe-0fd8-482f-aea3-5eb963e1b01b",
   "metadata": {},
   "outputs": [],
   "source": [
    "modal_keggs = pd.read_csv('data/modal_keggs_with_names.csv',sep=\"\\t\")\n",
    "modal_keggs.index = modal_keggs['cog']\n",
    "# modal_keggs"
   ]
  },
  {
   "cell_type": "code",
   "execution_count": null,
   "id": "be7a6823-2cf1-4688-8175-4cf39e364c09",
   "metadata": {},
   "outputs": [],
   "source": [
    "columns2 = pd.Series(['{} {} {}'.format(cog, ko, ko_name) for cog, ko, ko_name in zip(modal_keggs.loc[X.columns,'cog'], modal_keggs.loc[X.columns,'ko'], modal_keggs.loc[X.columns,'ko_name'])])\n",
    "dup_columns = columns2.duplicated()\n",
    "columns2 = [\"{}_{}\".format(c,i) if is_dup else c for c,i,is_dup in zip(columns2, range(len(columns2)), dup_columns)]\n",
    "# for \n",
    "# X_pred_scaled\n",
    "# Ensure column names are unique\n",
    "# and don't contain  [, ] or <\n",
    "kos_and_names_column_names = [c.replace('[', '').replace(']', '').replace('<', '_') for c in columns2]"
   ]
  },
  {
   "cell_type": "code",
   "execution_count": null,
   "id": "c468f5cb-4754-4821-9b38-6e5d1135a045",
   "metadata": {},
   "outputs": [],
   "source": [
    "pred = pipe.predict(X)"
   ]
  },
  {
   "cell_type": "code",
   "execution_count": null,
   "id": "c1f77834-aeaf-4af5-a4f5-65a51e0e9015",
   "metadata": {},
   "outputs": [],
   "source": [
    "pd.Series(pred).value_counts()"
   ]
  },
  {
   "cell_type": "code",
   "execution_count": null,
   "id": "fb97a1c3-7b3c-49b8-b0ba-b9eebe0eec8d",
   "metadata": {},
   "outputs": [],
   "source": [
    "pipe.steps[1][1]"
   ]
  },
  {
   "cell_type": "code",
   "execution_count": null,
   "id": "9b5aba7d-6246-447f-8782-e0315fd99aee",
   "metadata": {},
   "outputs": [],
   "source": [
    "explainer = shap.TreeExplainer(pipe.steps[1][1])\n",
    "\n",
    "X_pred_scaled = pd.DataFrame(pipe.steps[0][1].transform(X), columns=X.columns)\n",
    "X_pred_scaled.columns = kos_and_names_column_names\n",
    "\n",
    "shap_values = explainer.shap_values(X_pred_scaled)"
   ]
  },
  {
   "cell_type": "code",
   "execution_count": null,
   "id": "5c0eed1d-f34f-4d63-8f64-044d58f894f0",
   "metadata": {},
   "outputs": [],
   "source": [
    "from matplotlib import pyplot as plt\n",
    "plt.close()\n",
    "shap.summary_plot(shap_values, X_pred_scaled, plot_size=(10,10))"
   ]
  },
  {
   "cell_type": "code",
   "execution_count": null,
   "id": "a794e58d-f669-4f0f-8c23-5265fc73b903",
   "metadata": {},
   "outputs": [],
   "source": []
  },
  {
   "cell_type": "markdown",
   "id": "3603cb42-5c92-4f26-9b82-6e6b53847e4e",
   "metadata": {},
   "source": [
    "One possibility is that the models are capable of memorizing the data set, rather than learning the nucleotide variation associated with AMR phenotypes. If this were true, we would observe high accuracies regardless of how the genomes are labeled. To test this, we built ten models for ten randomly selected non-overlapping sets of 100 core genes as described above. We then shuffled the labels (i.e., the phenotypes) prior to training the models, and measured the resulting F1 scores (Fig 5). The average F1 scores for the models built from shuffled labels fall to approximately 50%, which is what would be expected from a random guess. This indicates that sequences associated with each phenotype are important for generating an accurate prediction and that the model is not memorizing the data set.\n",
    "\n",
    "    https://pmc.ncbi.nlm.nih.gov/articles/PMC7595632/#sec002"
   ]
  }
 ],
 "metadata": {
  "kernelspec": {
   "display_name": "bac_dat_aero_pred",
   "language": "python",
   "name": "bac_dat_aero_pred"
  },
  "language_info": {
   "codemirror_mode": {
    "name": "ipython",
    "version": 3
   },
   "file_extension": ".py",
   "mimetype": "text/x-python",
   "name": "python",
   "nbconvert_exporter": "python",
   "pygments_lexer": "ipython3",
   "version": "3.12.8"
  }
 },
 "nbformat": 4,
 "nbformat_minor": 5
}
